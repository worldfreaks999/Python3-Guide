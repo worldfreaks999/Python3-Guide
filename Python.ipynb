{
  "nbformat": 4,
  "nbformat_minor": 0,
  "metadata": {
    "colab": {
      "name": "Python.ipynb",
      "provenance": [],
      "collapsed_sections": []
    },
    "kernelspec": {
      "name": "python3",
      "display_name": "Python 3"
    }
  },
  "cells": [
    {
      "cell_type": "code",
      "metadata": {
        "id": "Osb2U-LKN6na",
        "colab_type": "code",
        "colab": {
          "base_uri": "https://localhost:8080/",
          "height": 121
        },
        "outputId": "f196534a-0ce0-40eb-fe36-0b84ccdc2bdd"
      },
      "source": [
        "from google.colab import drive\n",
        "drive.mount('/content/gdrive')"
      ],
      "execution_count": null,
      "outputs": [
        {
          "output_type": "stream",
          "text": [
            "Go to this URL in a browser: https://accounts.google.com/o/oauth2/auth?client_id=947318989803-6bn6qk8qdgf4n4g3pfee6491hc0brc4i.apps.googleusercontent.com&redirect_uri=urn%3aietf%3awg%3aoauth%3a2.0%3aoob&response_type=code&scope=email%20https%3a%2f%2fwww.googleapis.com%2fauth%2fdocs.test%20https%3a%2f%2fwww.googleapis.com%2fauth%2fdrive%20https%3a%2f%2fwww.googleapis.com%2fauth%2fdrive.photos.readonly%20https%3a%2f%2fwww.googleapis.com%2fauth%2fpeopleapi.readonly\n",
            "\n",
            "Enter your authorization code:\n",
            "··········\n",
            "Mounted at /content/gdrive\n"
          ],
          "name": "stdout"
        }
      ]
    },
    {
      "cell_type": "markdown",
      "metadata": {
        "id": "5L6BZjTCjLjl",
        "colab_type": "text"
      },
      "source": [
        "#**Chapter-1**"
      ]
    },
    {
      "cell_type": "markdown",
      "metadata": {
        "id": "AWZ-bpvcjZXa",
        "colab_type": "text"
      },
      "source": [
        "**Print Function-**It is used to print anything on the screen."
      ]
    },
    {
      "cell_type": "code",
      "metadata": {
        "id": "7X2RavI5OrNC",
        "colab_type": "code",
        "colab": {
          "base_uri": "https://localhost:8080/",
          "height": 34
        },
        "outputId": "8723735e-db31-4dfe-8afa-3e8042285b42"
      },
      "source": [
        "print('hello world')"
      ],
      "execution_count": null,
      "outputs": [
        {
          "output_type": "stream",
          "text": [
            "hello world\n"
          ],
          "name": "stdout"
        }
      ]
    },
    {
      "cell_type": "code",
      "metadata": {
        "id": "L-Yv98AoPHK3",
        "colab_type": "code",
        "colab": {
          "base_uri": "https://localhost:8080/",
          "height": 34
        },
        "outputId": "abc30168-9bd6-46e7-9319-34656b13739b"
      },
      "source": [
        "print(\"hello world\")"
      ],
      "execution_count": null,
      "outputs": [
        {
          "output_type": "stream",
          "text": [
            "hello world\n"
          ],
          "name": "stdout"
        }
      ]
    },
    {
      "cell_type": "markdown",
      "metadata": {
        "id": "5gDOb09Jj6Tf",
        "colab_type": "text"
      },
      "source": [
        "**String-**Collection of character inside \"(double quotes)\" or '(single quotes)'."
      ]
    },
    {
      "cell_type": "markdown",
      "metadata": {
        "id": "xcizh9q_kOCE",
        "colab_type": "text"
      },
      "source": [
        "**NOTE-**You can use single quotes inside double quotes.\n",
        "        But you cannot use double quotes inside double quotes."
      ]
    },
    {
      "cell_type": "code",
      "metadata": {
        "id": "k8wfeiFak8Gm",
        "colab_type": "code",
        "colab": {
          "base_uri": "https://localhost:8080/",
          "height": 34
        },
        "outputId": "b9faa934-05b7-400f-e95f-f55596a0bb5c"
      },
      "source": [
        "print(\"'hello' world\")"
      ],
      "execution_count": null,
      "outputs": [
        {
          "output_type": "stream",
          "text": [
            "'hello' world\n"
          ],
          "name": "stdout"
        }
      ]
    },
    {
      "cell_type": "code",
      "metadata": {
        "id": "dAC7moOflFjX",
        "colab_type": "code",
        "colab": {
          "base_uri": "https://localhost:8080/",
          "height": 128
        },
        "outputId": "402d4482-e5a4-4531-c0f6-46641ab9a004"
      },
      "source": [
        "print(\"\"hello\" world\")"
      ],
      "execution_count": null,
      "outputs": [
        {
          "output_type": "error",
          "ename": "SyntaxError",
          "evalue": "ignored",
          "traceback": [
            "\u001b[0;36m  File \u001b[0;32m\"<ipython-input-3-94034ebc0e94>\"\u001b[0;36m, line \u001b[0;32m1\u001b[0m\n\u001b[0;31m    print(\"\"hello\" world\")\u001b[0m\n\u001b[0m                ^\u001b[0m\n\u001b[0;31mSyntaxError\u001b[0m\u001b[0;31m:\u001b[0m invalid syntax\n"
          ]
        }
      ]
    },
    {
      "cell_type": "markdown",
      "metadata": {
        "id": "dAq-u6z3lgQ4",
        "colab_type": "text"
      },
      "source": [
        "You can use double quotes inside single quotes. But you cannot use single quotes inside single quotes."
      ]
    },
    {
      "cell_type": "code",
      "metadata": {
        "id": "sOkcqW4Jl31U",
        "colab_type": "code",
        "colab": {
          "base_uri": "https://localhost:8080/",
          "height": 34
        },
        "outputId": "7ab1784f-979e-44cc-d066-861a3ddd9be0"
      },
      "source": [
        "print('\"hello\" world')"
      ],
      "execution_count": null,
      "outputs": [
        {
          "output_type": "stream",
          "text": [
            "\"hello\" world\n"
          ],
          "name": "stdout"
        }
      ]
    },
    {
      "cell_type": "code",
      "metadata": {
        "id": "vDDA-JMnmDGB",
        "colab_type": "code",
        "colab": {
          "base_uri": "https://localhost:8080/",
          "height": 128
        },
        "outputId": "4428177e-99dd-4cbe-d2df-ad178f0af177"
      },
      "source": [
        "print(''hello' world')"
      ],
      "execution_count": null,
      "outputs": [
        {
          "output_type": "error",
          "ename": "SyntaxError",
          "evalue": "ignored",
          "traceback": [
            "\u001b[0;36m  File \u001b[0;32m\"<ipython-input-5-4ba11cc0fde6>\"\u001b[0;36m, line \u001b[0;32m1\u001b[0m\n\u001b[0;31m    print(''hello' world')\u001b[0m\n\u001b[0m                ^\u001b[0m\n\u001b[0;31mSyntaxError\u001b[0m\u001b[0;31m:\u001b[0m invalid syntax\n"
          ]
        }
      ]
    },
    {
      "cell_type": "markdown",
      "metadata": {
        "id": "qwZtjbUDlNNd",
        "colab_type": "text"
      },
      "source": [
        "**Escape Sequences-**Escape sequences are some shortcut keywords which are used in our program.\n",
        "\n",
        "1.   \\\\'->single quote\n",
        "2.   \\\\\\\"->double quote\n",
        "\n",
        "\n",
        "3.   \\\\\\->backslash\n",
        "4.   \\\\n->new line\n",
        "\n",
        "5.   \\\\t->tab\n",
        "6.   \\\\b->backspace"
      ]
    },
    {
      "cell_type": "markdown",
      "metadata": {
        "id": "IIVjXZJMnKRw",
        "colab_type": "text"
      },
      "source": [
        "**Comments in Python-**It is used to give information to the user. The user writes it by his self for his help. They are not shown in the output.\n",
        "\n",
        "**Syntax-**#(Your comment)  \n",
        "**Shortcut-**Ctrl+/"
      ]
    },
    {
      "cell_type": "markdown",
      "metadata": {
        "id": "rFBvGk40n9UQ",
        "colab_type": "text"
      },
      "source": [
        "**Raw Strings-**It convert escape sequences to normal text directly. It is a shortcut method for this conversation.                                                                                                                             \n",
        "**Example-**print(r\"line A \\n line B\")                \n",
        "**Output-**line A \\n line B"
      ]
    },
    {
      "cell_type": "markdown",
      "metadata": {
        "id": "ScXO2fogqItD",
        "colab_type": "text"
      },
      "source": [
        "**Variable in Python-**Variables can store strings as well as values. Variable will not start with any number. It will always start with a letter or underscore. No characters are allowed to use in variable name.              \n",
        "**Example-**n1=3                                                                                                                                                 \n",
        "            print(n1)                                                 \n",
        "**Output-**3"
      ]
    },
    {
      "cell_type": "markdown",
      "metadata": {
        "id": "B2JIQD4mrmo2",
        "colab_type": "text"
      },
      "source": [
        "#**Chapter-2**"
      ]
    },
    {
      "cell_type": "markdown",
      "metadata": {
        "id": "00YW8L7Gr7zn",
        "colab_type": "text"
      },
      "source": [
        "**String Concatenation-**Strings are the collection of characters inside single quotes or double quotes."
      ]
    },
    {
      "cell_type": "markdown",
      "metadata": {
        "id": "Vk70IzJyryv_",
        "colab_type": "text"
      },
      "source": [
        ""
      ]
    },
    {
      "cell_type": "code",
      "metadata": {
        "id": "QPDfMzvJPMxV",
        "colab_type": "code",
        "colab": {
          "base_uri": "https://localhost:8080/",
          "height": 34
        },
        "outputId": "0a515acb-bdd0-49ce-8965-1b5d8e9e9ef2"
      },
      "source": [
        "first_name='Adarsh'\n",
        "last_name='Jadon'\n",
        "full_name=first_name+last_name\n",
        "print(full_name)"
      ],
      "execution_count": null,
      "outputs": [
        {
          "output_type": "stream",
          "text": [
            "AdarshJadon\n"
          ],
          "name": "stdout"
        }
      ]
    },
    {
      "cell_type": "code",
      "metadata": {
        "id": "FAk8coy4QECs",
        "colab_type": "code",
        "colab": {
          "base_uri": "https://localhost:8080/",
          "height": 34
        },
        "outputId": "c63d9aa5-f4b0-411c-f5d4-53c02b1e6cc1"
      },
      "source": [
        "full_name=first_name+' '+last_name\n",
        "print(full_name)"
      ],
      "execution_count": null,
      "outputs": [
        {
          "output_type": "stream",
          "text": [
            "Adarsh Jadon\n"
          ],
          "name": "stdout"
        }
      ]
    },
    {
      "cell_type": "code",
      "metadata": {
        "id": "JVeFq2bQQRD0",
        "colab_type": "code",
        "colab": {
          "base_uri": "https://localhost:8080/",
          "height": 34
        },
        "outputId": "e3365fdd-dc1d-4ae6-d5ef-d0edaaccf1eb"
      },
      "source": [
        "print(first_name+'3')"
      ],
      "execution_count": null,
      "outputs": [
        {
          "output_type": "stream",
          "text": [
            "Adarsh3\n"
          ],
          "name": "stdout"
        }
      ]
    },
    {
      "cell_type": "code",
      "metadata": {
        "id": "fQegcQnNQbPe",
        "colab_type": "code",
        "colab": {
          "base_uri": "https://localhost:8080/",
          "height": 34
        },
        "outputId": "9f488782-42fc-4014-a5be-3e74be59349c"
      },
      "source": [
        "print(first_name+str(3))"
      ],
      "execution_count": null,
      "outputs": [
        {
          "output_type": "stream",
          "text": [
            "Adarsh3\n"
          ],
          "name": "stdout"
        }
      ]
    },
    {
      "cell_type": "code",
      "metadata": {
        "id": "H-nBLyl9Qmyo",
        "colab_type": "code",
        "colab": {
          "base_uri": "https://localhost:8080/",
          "height": 34
        },
        "outputId": "e7cb3f8d-efc3-48b3-9fea-a2c176e045de"
      },
      "source": [
        "print(first_name*3)"
      ],
      "execution_count": null,
      "outputs": [
        {
          "output_type": "stream",
          "text": [
            "AdarshAdarshAdarsh\n"
          ],
          "name": "stdout"
        }
      ]
    },
    {
      "cell_type": "markdown",
      "metadata": {
        "id": "JOycYQe85HFS",
        "colab_type": "text"
      },
      "source": [
        "**User input-**For taking user input, input() function is used.                                                                               \n",
        "**Input function-**It is used to take the input from the user.                                                                                                                            \n",
        "**NOTE-**The input() function will always take the input in the form of string."
      ]
    },
    {
      "cell_type": "code",
      "metadata": {
        "id": "wYuXIwziQrtA",
        "colab_type": "code",
        "colab": {
          "base_uri": "https://localhost:8080/",
          "height": 84
        },
        "outputId": "bea3cedd-207f-4c3d-c2fa-4c8754cea3cf"
      },
      "source": [
        "name=input('Type your name: ')\n",
        "print('Hello '+name)\n",
        "age=input('What is your age? ')\n",
        "print('Your age is '+age)"
      ],
      "execution_count": null,
      "outputs": [
        {
          "output_type": "stream",
          "text": [
            "Type your nameAdarsh\n",
            "Hello Adarsh\n",
            "What is your age?19\n",
            "Your age is 19\n"
          ],
          "name": "stdout"
        }
      ]
    },
    {
      "cell_type": "markdown",
      "metadata": {
        "id": "C_0RgZTp6s5e",
        "colab_type": "text"
      },
      "source": [
        "**Int() function-**It is used to convert string into integer type."
      ]
    },
    {
      "cell_type": "markdown",
      "metadata": {
        "id": "Xg0_2LLg64o2",
        "colab_type": "text"
      },
      "source": [
        "**Without using int() function**"
      ]
    },
    {
      "cell_type": "code",
      "metadata": {
        "id": "kMhs39HQRPmg",
        "colab_type": "code",
        "colab": {
          "base_uri": "https://localhost:8080/",
          "height": 67
        },
        "outputId": "3cd13f62-f1a6-4ff6-cef7-2a100a95649c"
      },
      "source": [
        "number_one=input('Enter first number')\n",
        "number_two=input('Enter second number')\n",
        "total=number_one+number_two\n",
        "print(total)"
      ],
      "execution_count": null,
      "outputs": [
        {
          "output_type": "stream",
          "text": [
            "Enter first number4\n",
            "Enter second number4\n",
            "44\n"
          ],
          "name": "stdout"
        }
      ]
    },
    {
      "cell_type": "markdown",
      "metadata": {
        "id": "M2KnkLsG7Ijj",
        "colab_type": "text"
      },
      "source": [
        "**With using int() function**"
      ]
    },
    {
      "cell_type": "code",
      "metadata": {
        "id": "UG1FPl-_Rw8d",
        "colab_type": "code",
        "colab": {
          "base_uri": "https://localhost:8080/",
          "height": 67
        },
        "outputId": "ff8d75ce-b903-4e27-8013-57d1fd8ed14f"
      },
      "source": [
        "number_one=int(input('Enter first number'))\n",
        "number_two=int(input('Enter second number'))\n",
        "total=number_one+number_two\n",
        "print('Total is '+str(total))"
      ],
      "execution_count": null,
      "outputs": [
        {
          "output_type": "stream",
          "text": [
            "Enter first number4\n",
            "Enter second number4\n",
            "Total is 8\n"
          ],
          "name": "stdout"
        }
      ]
    },
    {
      "cell_type": "markdown",
      "metadata": {
        "id": "ETvvLB9s7Sit",
        "colab_type": "text"
      },
      "source": [
        "**Float() function-**It is used o convert the type into float."
      ]
    },
    {
      "cell_type": "code",
      "metadata": {
        "id": "1tPOfQUaSFkn",
        "colab_type": "code",
        "colab": {
          "base_uri": "https://localhost:8080/",
          "height": 67
        },
        "outputId": "66ef482d-cf09-45cc-f59a-c938f2341176"
      },
      "source": [
        "number_one=int(input('Enter first number'))\n",
        "number_two=float(input('Enter second number'))\n",
        "total=number_one+number_two\n",
        "print('Total is '+str(total))"
      ],
      "execution_count": null,
      "outputs": [
        {
          "output_type": "stream",
          "text": [
            "Enter first number4\n",
            "Enter second number7\n",
            "Total is 11.0\n"
          ],
          "name": "stdout"
        }
      ]
    },
    {
      "cell_type": "markdown",
      "metadata": {
        "id": "o0Sujx6J7o_F",
        "colab_type": "text"
      },
      "source": [
        "**String Indexing:-**"
      ]
    },
    {
      "cell_type": "code",
      "metadata": {
        "id": "nLW1Yv84SQE6",
        "colab_type": "code",
        "colab": {
          "base_uri": "https://localhost:8080/",
          "height": 34
        },
        "outputId": "5e449655-b0b7-42e0-cb1f-7646319bf2dd"
      },
      "source": [
        "language='python'\n",
        "print(language[4])"
      ],
      "execution_count": null,
      "outputs": [
        {
          "output_type": "stream",
          "text": [
            "o\n"
          ],
          "name": "stdout"
        }
      ]
    },
    {
      "cell_type": "markdown",
      "metadata": {
        "id": "6xdMV4XB7_fS",
        "colab_type": "text"
      },
      "source": [
        "**String slicing-**[start arguement:stop arguement-1]"
      ]
    },
    {
      "cell_type": "code",
      "metadata": {
        "id": "vWCoLNS4S0UJ",
        "colab_type": "code",
        "colab": {
          "base_uri": "https://localhost:8080/",
          "height": 34
        },
        "outputId": "ba5f9e8f-d6e8-4ee8-8d13-65313f39146c"
      },
      "source": [
        "lang='python'\n",
        "print(lang[0:2])"
      ],
      "execution_count": null,
      "outputs": [
        {
          "output_type": "stream",
          "text": [
            "py\n"
          ],
          "name": "stdout"
        }
      ]
    },
    {
      "cell_type": "code",
      "metadata": {
        "id": "cDRUtORbTBQK",
        "colab_type": "code",
        "colab": {
          "base_uri": "https://localhost:8080/",
          "height": 34
        },
        "outputId": "be082053-ff65-40b9-c72f-5fc84bbbf86c"
      },
      "source": [
        "print(lang[:])"
      ],
      "execution_count": null,
      "outputs": [
        {
          "output_type": "stream",
          "text": [
            "python\n"
          ],
          "name": "stdout"
        }
      ]
    },
    {
      "cell_type": "code",
      "metadata": {
        "id": "MY-Djt3cTOOs",
        "colab_type": "code",
        "colab": {
          "base_uri": "https://localhost:8080/",
          "height": 34
        },
        "outputId": "cc19da04-6b30-4d59-a9f2-bd77936d5283"
      },
      "source": [
        "print(lang[1:])"
      ],
      "execution_count": null,
      "outputs": [
        {
          "output_type": "stream",
          "text": [
            "ython\n"
          ],
          "name": "stdout"
        }
      ]
    },
    {
      "cell_type": "code",
      "metadata": {
        "id": "qPB6YWG-TUr2",
        "colab_type": "code",
        "colab": {
          "base_uri": "https://localhost:8080/",
          "height": 34
        },
        "outputId": "cdf46971-cd7f-4288-8c0f-94dba175b66c"
      },
      "source": [
        "print(lang[:3])"
      ],
      "execution_count": null,
      "outputs": [
        {
          "output_type": "stream",
          "text": [
            "pyt\n"
          ],
          "name": "stdout"
        }
      ]
    },
    {
      "cell_type": "markdown",
      "metadata": {
        "id": "JUSp-0Sv8PQN",
        "colab_type": "text"
      },
      "source": [
        "**Step arguement-**[start arguement:stop argement-1:step]"
      ]
    },
    {
      "cell_type": "code",
      "metadata": {
        "id": "rO_4WYb7Td92",
        "colab_type": "code",
        "colab": {
          "base_uri": "https://localhost:8080/",
          "height": 34
        },
        "outputId": "078c4cba-ff1a-4df8-dd53-fb9270173ecb"
      },
      "source": [
        "lang='python'\n",
        "print(lang[0:5:2])"
      ],
      "execution_count": null,
      "outputs": [
        {
          "output_type": "stream",
          "text": [
            "pto\n"
          ],
          "name": "stdout"
        }
      ]
    },
    {
      "cell_type": "code",
      "metadata": {
        "id": "SjuG_WzzUYsH",
        "colab_type": "code",
        "colab": {
          "base_uri": "https://localhost:8080/",
          "height": 34
        },
        "outputId": "7ea60dda-0e15-4b05-d933-0098c1bc7201"
      },
      "source": [
        "lang='python'\n",
        "print(lang[:5:2])"
      ],
      "execution_count": null,
      "outputs": [
        {
          "output_type": "stream",
          "text": [
            "pto\n"
          ],
          "name": "stdout"
        }
      ]
    },
    {
      "cell_type": "code",
      "metadata": {
        "id": "WQ1x0lWjT09b",
        "colab_type": "code",
        "colab": {
          "base_uri": "https://localhost:8080/",
          "height": 34
        },
        "outputId": "bce0a22e-9899-4161-a1ef-0def1f54b509"
      },
      "source": [
        "print(lang[5: :-1])"
      ],
      "execution_count": null,
      "outputs": [
        {
          "output_type": "stream",
          "text": [
            "nohtyp\n"
          ],
          "name": "stdout"
        }
      ]
    },
    {
      "cell_type": "code",
      "metadata": {
        "id": "tAsu2XGlUMSD",
        "colab_type": "code",
        "colab": {
          "base_uri": "https://localhost:8080/",
          "height": 34
        },
        "outputId": "687887e2-e2ad-4733-a6b6-845208b7f092"
      },
      "source": [
        "print(lang[-1: :-1])"
      ],
      "execution_count": null,
      "outputs": [
        {
          "output_type": "stream",
          "text": [
            "nohtyp\n"
          ],
          "name": "stdout"
        }
      ]
    },
    {
      "cell_type": "code",
      "metadata": {
        "id": "Fs71-723USRH",
        "colab_type": "code",
        "colab": {
          "base_uri": "https://localhost:8080/",
          "height": 34
        },
        "outputId": "d9719f81-f202-43ff-86b8-89a51857965f"
      },
      "source": [
        "print(lang[::-1])"
      ],
      "execution_count": null,
      "outputs": [
        {
          "output_type": "stream",
          "text": [
            "nohtyp\n"
          ],
          "name": "stdout"
        }
      ]
    },
    {
      "cell_type": "markdown",
      "metadata": {
        "id": "HkX6k7O18hgq",
        "colab_type": "text"
      },
      "source": [
        "**len() function-**It counts the number of characters in a string. It also count the spaces."
      ]
    },
    {
      "cell_type": "code",
      "metadata": {
        "id": "cjqKura5WYuY",
        "colab_type": "code",
        "colab": {
          "base_uri": "https://localhost:8080/",
          "height": 34
        },
        "outputId": "983c2a3d-c0ce-460c-a092-188ba3fd655a"
      },
      "source": [
        "name='aDArSh jAdoN'\n",
        "print(len('adarsh'))"
      ],
      "execution_count": null,
      "outputs": [
        {
          "output_type": "stream",
          "text": [
            "6\n"
          ],
          "name": "stdout"
        }
      ]
    },
    {
      "cell_type": "code",
      "metadata": {
        "id": "M9lJmZ8LWjYQ",
        "colab_type": "code",
        "colab": {
          "base_uri": "https://localhost:8080/",
          "height": 34
        },
        "outputId": "363456b2-2677-47e3-a310-8dc23a2d5b48"
      },
      "source": [
        "print(len(name))"
      ],
      "execution_count": null,
      "outputs": [
        {
          "output_type": "stream",
          "text": [
            "12\n"
          ],
          "name": "stdout"
        }
      ]
    },
    {
      "cell_type": "code",
      "metadata": {
        "id": "hiWrO5_CWm7f",
        "colab_type": "code",
        "colab": {
          "base_uri": "https://localhost:8080/",
          "height": 34
        },
        "outputId": "0f533169-361a-474e-f5a6-a819e9c7fe3c"
      },
      "source": [
        "length=len(name)\n",
        "print(length)"
      ],
      "execution_count": null,
      "outputs": [
        {
          "output_type": "stream",
          "text": [
            "12\n"
          ],
          "name": "stdout"
        }
      ]
    },
    {
      "cell_type": "markdown",
      "metadata": {
        "id": "74n1D6x781QO",
        "colab_type": "text"
      },
      "source": [
        "**lower() method-**It converts all the characters of the string into small alphabets."
      ]
    },
    {
      "cell_type": "code",
      "metadata": {
        "id": "Et7z5kHvWxr0",
        "colab_type": "code",
        "colab": {
          "base_uri": "https://localhost:8080/",
          "height": 34
        },
        "outputId": "f3abdc5b-3f61-4f32-fadc-2014228e9e18"
      },
      "source": [
        "name='aDArSh jAdoN'\n",
        "print(name.lower())"
      ],
      "execution_count": null,
      "outputs": [
        {
          "output_type": "stream",
          "text": [
            "adarsh jadon\n"
          ],
          "name": "stdout"
        }
      ]
    },
    {
      "cell_type": "markdown",
      "metadata": {
        "id": "b-edngdh9Ca0",
        "colab_type": "text"
      },
      "source": [
        "**upper() method-**It converts all the characters of the string into capital alphabets."
      ]
    },
    {
      "cell_type": "code",
      "metadata": {
        "id": "Jg13rpkqW5i8",
        "colab_type": "code",
        "colab": {
          "base_uri": "https://localhost:8080/",
          "height": 34
        },
        "outputId": "93cd676d-57a7-48db-eecb-9574cead457c"
      },
      "source": [
        "name='aDArSh jAdoN'\n",
        "print(name.upper())"
      ],
      "execution_count": null,
      "outputs": [
        {
          "output_type": "stream",
          "text": [
            "ADARSH JADON\n"
          ],
          "name": "stdout"
        }
      ]
    },
    {
      "cell_type": "markdown",
      "metadata": {
        "id": "wqljfNnk9Qlz",
        "colab_type": "text"
      },
      "source": [
        "**title() method-**It converts the first character of the string into capital and remaining all into small alphabets."
      ]
    },
    {
      "cell_type": "code",
      "metadata": {
        "id": "2qinsPfAXBDw",
        "colab_type": "code",
        "colab": {
          "base_uri": "https://localhost:8080/",
          "height": 34
        },
        "outputId": "ff3a7a86-0cfc-4a56-e6ba-f4a1b7fe7b06"
      },
      "source": [
        "name='aDArSh jAdoN'\n",
        "print(name.title())"
      ],
      "execution_count": null,
      "outputs": [
        {
          "output_type": "stream",
          "text": [
            "Adarsh Jadon\n"
          ],
          "name": "stdout"
        }
      ]
    },
    {
      "cell_type": "markdown",
      "metadata": {
        "id": "bKT0Zyda9kMw",
        "colab_type": "text"
      },
      "source": [
        "**count() method-**It counts the number of times a letter coming into the string."
      ]
    },
    {
      "cell_type": "code",
      "metadata": {
        "id": "VymltIL0XIc4",
        "colab_type": "code",
        "colab": {
          "base_uri": "https://localhost:8080/",
          "height": 34
        },
        "outputId": "e7350bed-038e-4793-91d8-9104b184e399"
      },
      "source": [
        "name='aDArSh jAdoN'\n",
        "print(name.count('a'))"
      ],
      "execution_count": null,
      "outputs": [
        {
          "output_type": "stream",
          "text": [
            "1\n"
          ],
          "name": "stdout"
        }
      ]
    },
    {
      "cell_type": "code",
      "metadata": {
        "id": "Sl2x0J8NXQeI",
        "colab_type": "code",
        "colab": {
          "base_uri": "https://localhost:8080/",
          "height": 34
        },
        "outputId": "d12fc0ca-8def-4e69-9313-32f165be8916"
      },
      "source": [
        "name='aDArSh jAdoN'\n",
        "print(name.count('A'))"
      ],
      "execution_count": null,
      "outputs": [
        {
          "output_type": "stream",
          "text": [
            "2\n"
          ],
          "name": "stdout"
        }
      ]
    },
    {
      "cell_type": "markdown",
      "metadata": {
        "id": "NLkFWOir91pQ",
        "colab_type": "text"
      },
      "source": [
        "**Strip() method-**It is used to remove the space from the string."
      ]
    },
    {
      "cell_type": "code",
      "metadata": {
        "id": "byV80OJ0XV6w",
        "colab_type": "code",
        "colab": {
          "base_uri": "https://localhost:8080/",
          "height": 34
        },
        "outputId": "aef79e09-39b7-46dd-912f-efd9c5ac0785"
      },
      "source": [
        "name='  Adarsh  '\n",
        "dots='  ............. '\n",
        "print(name+dots)"
      ],
      "execution_count": null,
      "outputs": [
        {
          "output_type": "stream",
          "text": [
            "  Adarsh    ............. \n"
          ],
          "name": "stdout"
        }
      ]
    },
    {
      "cell_type": "code",
      "metadata": {
        "id": "Gx6xiKVEXyZn",
        "colab_type": "code",
        "colab": {
          "base_uri": "https://localhost:8080/",
          "height": 34
        },
        "outputId": "eeebeea6-8d06-48d1-9e0a-2e43ae00f2aa"
      },
      "source": [
        "print(name.lstrip()+dots)"
      ],
      "execution_count": null,
      "outputs": [
        {
          "output_type": "stream",
          "text": [
            "Adarsh    ............. \n"
          ],
          "name": "stdout"
        }
      ]
    },
    {
      "cell_type": "code",
      "metadata": {
        "id": "DPasET2LX3qs",
        "colab_type": "code",
        "colab": {
          "base_uri": "https://localhost:8080/",
          "height": 34
        },
        "outputId": "2759d1be-c344-452a-f4c1-6b51794038db"
      },
      "source": [
        "print(name.rstrip()+dots)"
      ],
      "execution_count": null,
      "outputs": [
        {
          "output_type": "stream",
          "text": [
            "  Adarsh  ............. \n"
          ],
          "name": "stdout"
        }
      ]
    },
    {
      "cell_type": "code",
      "metadata": {
        "id": "fCwW_qdgYHvZ",
        "colab_type": "code",
        "colab": {
          "base_uri": "https://localhost:8080/",
          "height": 34
        },
        "outputId": "c9fc0c75-7606-4b65-a70f-e72a5f6b7521"
      },
      "source": [
        "print(name.strip()+dots)"
      ],
      "execution_count": null,
      "outputs": [
        {
          "output_type": "stream",
          "text": [
            "Adarsh.............\n"
          ],
          "name": "stdout"
        }
      ]
    },
    {
      "cell_type": "markdown",
      "metadata": {
        "id": "Jo6QUYW2-Bmo",
        "colab_type": "text"
      },
      "source": [
        "**Replace method-**It is sed to reolace one character with another character in a string."
      ]
    },
    {
      "cell_type": "code",
      "metadata": {
        "id": "wZ3gdJLSYXoG",
        "colab_type": "code",
        "colab": {
          "base_uri": "https://localhost:8080/",
          "height": 34
        },
        "outputId": "c6dade34-6d7b-4c85-93ea-be5f93f096ed"
      },
      "source": [
        "name='  Ada rsh '\n",
        "dots='..............'\n",
        "print(name.replace(' ',''))"
      ],
      "execution_count": null,
      "outputs": [
        {
          "output_type": "stream",
          "text": [
            "Adarsh\n"
          ],
          "name": "stdout"
        }
      ]
    },
    {
      "cell_type": "code",
      "metadata": {
        "id": "0-SXJQycYyXP",
        "colab_type": "code",
        "colab": {
          "base_uri": "https://localhost:8080/",
          "height": 34
        },
        "outputId": "fa0e14c5-f2ad-4b98-a094-8af795b14fcd"
      },
      "source": [
        "print(name.replace(' ','')+dots)"
      ],
      "execution_count": null,
      "outputs": [
        {
          "output_type": "stream",
          "text": [
            "Adarsh..............\n"
          ],
          "name": "stdout"
        }
      ]
    },
    {
      "cell_type": "code",
      "metadata": {
        "id": "-a1jEM_sbWAF",
        "colab_type": "code",
        "colab": {
          "base_uri": "https://localhost:8080/",
          "height": 34
        },
        "outputId": "bcf4c71d-c453-4977-bd0b-08cd27f01f2c"
      },
      "source": [
        "string='she is a beautiful girl and she is a good dancer'\n",
        "print(string.replace(' ','_'))"
      ],
      "execution_count": null,
      "outputs": [
        {
          "output_type": "stream",
          "text": [
            "she_is_a_beautiful_girl_and_she_is_a_good_dancer\n"
          ],
          "name": "stdout"
        }
      ]
    },
    {
      "cell_type": "code",
      "metadata": {
        "id": "WM4Y2cNDb3KW",
        "colab_type": "code",
        "colab": {
          "base_uri": "https://localhost:8080/",
          "height": 34
        },
        "outputId": "47b349fe-e323-4643-e7c3-38b273193b6f"
      },
      "source": [
        "print(string.replace('is','was'))"
      ],
      "execution_count": null,
      "outputs": [
        {
          "output_type": "stream",
          "text": [
            "she was a beautiful girl and she was a good dancer\n"
          ],
          "name": "stdout"
        }
      ]
    },
    {
      "cell_type": "code",
      "metadata": {
        "id": "53m9bjcDcLGy",
        "colab_type": "code",
        "colab": {
          "base_uri": "https://localhost:8080/",
          "height": 34
        },
        "outputId": "8ea84bcb-afc5-4de4-b283-5ef20f252c50"
      },
      "source": [
        "print(string.replace('is','was',1))"
      ],
      "execution_count": null,
      "outputs": [
        {
          "output_type": "stream",
          "text": [
            "she was a beautiful girl and she is a good dancer\n"
          ],
          "name": "stdout"
        }
      ]
    },
    {
      "cell_type": "markdown",
      "metadata": {
        "id": "y_I_olnD-eQV",
        "colab_type": "text"
      },
      "source": [
        "**Find method-**It is used to find the position of a word or character in a string."
      ]
    },
    {
      "cell_type": "code",
      "metadata": {
        "id": "419FzgaucBrr",
        "colab_type": "code",
        "colab": {
          "base_uri": "https://localhost:8080/",
          "height": 34
        },
        "outputId": "90f12712-0957-4aa7-a20b-cded99794876"
      },
      "source": [
        "string='she is a beautiful girl and she is a good dancer'\n",
        "print(string.find('is'))"
      ],
      "execution_count": null,
      "outputs": [
        {
          "output_type": "stream",
          "text": [
            "4\n"
          ],
          "name": "stdout"
        }
      ]
    },
    {
      "cell_type": "code",
      "metadata": {
        "id": "my6zRXMvcznx",
        "colab_type": "code",
        "colab": {
          "base_uri": "https://localhost:8080/",
          "height": 34
        },
        "outputId": "7cff5a19-ba03-4ad4-ab6b-403e8f8d5b9d"
      },
      "source": [
        "string='is she is a beautiful girl and she is a good dancer'\n",
        "print(string.find('is'))"
      ],
      "execution_count": null,
      "outputs": [
        {
          "output_type": "stream",
          "text": [
            "0\n"
          ],
          "name": "stdout"
        }
      ]
    },
    {
      "cell_type": "code",
      "metadata": {
        "id": "ukpovyEoc3Zp",
        "colab_type": "code",
        "colab": {
          "base_uri": "https://localhost:8080/",
          "height": 34
        },
        "outputId": "f69595dd-f91e-4c17-abf2-9673889185e1"
      },
      "source": [
        "string='is she is a beautiful girl and she is a good dancer'\n",
        "print(string.find('is',1))"
      ],
      "execution_count": null,
      "outputs": [
        {
          "output_type": "stream",
          "text": [
            "7\n"
          ],
          "name": "stdout"
        }
      ]
    },
    {
      "cell_type": "code",
      "metadata": {
        "id": "saXwrAFSdkII",
        "colab_type": "code",
        "colab": {
          "base_uri": "https://localhost:8080/",
          "height": 34
        },
        "outputId": "79856f76-7ed5-437f-beaf-20768732c548"
      },
      "source": [
        "string='she is beautiful and she is a good dancer'\n",
        "is_pos1=string.find('is')\n",
        "is_pos2=string.find('is',is_pos1+1)\n",
        "print(is_pos2)"
      ],
      "execution_count": null,
      "outputs": [
        {
          "output_type": "stream",
          "text": [
            "25\n"
          ],
          "name": "stdout"
        }
      ]
    },
    {
      "cell_type": "markdown",
      "metadata": {
        "id": "KC2OqoXn-rIA",
        "colab_type": "text"
      },
      "source": [
        "**Center method-**It is used to align the character into the center."
      ]
    },
    {
      "cell_type": "code",
      "metadata": {
        "id": "67xSr18Hd8oq",
        "colab_type": "code",
        "colab": {
          "base_uri": "https://localhost:8080/",
          "height": 34
        },
        "outputId": "2c3e8288-6ea8-4b59-e7d8-631f65d55208"
      },
      "source": [
        "name='adarsh'\n",
        "print(name.center(8,'*'))"
      ],
      "execution_count": null,
      "outputs": [
        {
          "output_type": "stream",
          "text": [
            "*adarsh*\n"
          ],
          "name": "stdout"
        }
      ]
    },
    {
      "cell_type": "code",
      "metadata": {
        "id": "z9bf4pdGepNL",
        "colab_type": "code",
        "colab": {
          "base_uri": "https://localhost:8080/",
          "height": 34
        },
        "outputId": "d40d970b-6bf7-467a-8db2-a6d4eb828c0e"
      },
      "source": [
        "print(name.center(10,'*'))"
      ],
      "execution_count": null,
      "outputs": [
        {
          "output_type": "stream",
          "text": [
            "**adarsh**\n"
          ],
          "name": "stdout"
        }
      ]
    },
    {
      "cell_type": "code",
      "metadata": {
        "id": "v5nAGIj1euKa",
        "colab_type": "code",
        "colab": {
          "base_uri": "https://localhost:8080/",
          "height": 50
        },
        "outputId": "e5af4e0c-eecc-4560-d8a4-4091bb621c62"
      },
      "source": [
        "name=input('Enter your name ')\n",
        "print(name.center(len(name)+8,'*'))"
      ],
      "execution_count": null,
      "outputs": [
        {
          "output_type": "stream",
          "text": [
            "Enter your name Adarsh\n",
            "****Adarsh****\n"
          ],
          "name": "stdout"
        }
      ]
    },
    {
      "cell_type": "markdown",
      "metadata": {
        "id": "rJBgg-1m-_H7",
        "colab_type": "text"
      },
      "source": [
        "**Strings are immutable-**It means that when we use any functions or methods to make some changes into the string, it does not make changes into the original string. It makes a copy of that string, apply functions and methods into it that we use and display it as our output. It will not make changes to the original string. One time string is defined, it cannot be changed."
      ]
    },
    {
      "cell_type": "code",
      "metadata": {
        "id": "Qpl9aOfvfA2U",
        "colab_type": "code",
        "colab": {
          "base_uri": "https://localhost:8080/",
          "height": 34
        },
        "outputId": "5fcf667d-218d-40ae-c1b2-da4112d98339"
      },
      "source": [
        "string='string'\n",
        "print(string[1])"
      ],
      "execution_count": null,
      "outputs": [
        {
          "output_type": "stream",
          "text": [
            "t\n"
          ],
          "name": "stdout"
        }
      ]
    },
    {
      "cell_type": "code",
      "metadata": {
        "id": "1xRjca_IfRnb",
        "colab_type": "code",
        "colab": {
          "base_uri": "https://localhost:8080/",
          "height": 162
        },
        "outputId": "0acfc54e-f317-4d17-a236-28fb3af27e3b"
      },
      "source": [
        "string[1]='T'"
      ],
      "execution_count": null,
      "outputs": [
        {
          "output_type": "error",
          "ename": "TypeError",
          "evalue": "ignored",
          "traceback": [
            "\u001b[0;31m---------------------------------------------------------------------------\u001b[0m",
            "\u001b[0;31mTypeError\u001b[0m                                 Traceback (most recent call last)",
            "\u001b[0;32m<ipython-input-75-aa34b74264a5>\u001b[0m in \u001b[0;36m<module>\u001b[0;34m()\u001b[0m\n\u001b[0;32m----> 1\u001b[0;31m \u001b[0mstring\u001b[0m\u001b[0;34m[\u001b[0m\u001b[0;36m1\u001b[0m\u001b[0;34m]\u001b[0m\u001b[0;34m=\u001b[0m\u001b[0;34m'T'\u001b[0m\u001b[0;34m\u001b[0m\u001b[0;34m\u001b[0m\u001b[0m\n\u001b[0m",
            "\u001b[0;31mTypeError\u001b[0m: 'str' object does not support item assignment"
          ]
        }
      ]
    },
    {
      "cell_type": "code",
      "metadata": {
        "id": "J3dmOiSVfVtr",
        "colab_type": "code",
        "colab": {
          "base_uri": "https://localhost:8080/",
          "height": 35
        },
        "outputId": "d52b67e5-a518-4205-d767-8b247d9b3785"
      },
      "source": [
        "string.replace('t','T')"
      ],
      "execution_count": null,
      "outputs": [
        {
          "output_type": "execute_result",
          "data": {
            "application/vnd.google.colaboratory.intrinsic": {
              "type": "string"
            },
            "text/plain": [
              "'sTring'"
            ]
          },
          "metadata": {
            "tags": []
          },
          "execution_count": 76
        }
      ]
    },
    {
      "cell_type": "code",
      "metadata": {
        "id": "ne7rRh5NfcmR",
        "colab_type": "code",
        "colab": {
          "base_uri": "https://localhost:8080/",
          "height": 34
        },
        "outputId": "851f95dd-e33c-424f-ae53-b75cec97145b"
      },
      "source": [
        "print(string.replace('t','T'))"
      ],
      "execution_count": null,
      "outputs": [
        {
          "output_type": "stream",
          "text": [
            "sTring\n"
          ],
          "name": "stdout"
        }
      ]
    },
    {
      "cell_type": "markdown",
      "metadata": {
        "id": "o9WrPUj3AQKs",
        "colab_type": "text"
      },
      "source": [
        "#**Chapter - 3**"
      ]
    },
    {
      "cell_type": "markdown",
      "metadata": {
        "id": "14BA-WvxAcmS",
        "colab_type": "text"
      },
      "source": [
        "**If statement-**It is used to check the condition whether it is true or false."
      ]
    },
    {
      "cell_type": "code",
      "metadata": {
        "id": "qO7sFAWsfkei",
        "colab_type": "code",
        "colab": {
          "base_uri": "https://localhost:8080/",
          "height": 50
        },
        "outputId": "82515b52-4df6-4c8f-a92e-337260de49ae"
      },
      "source": [
        "age=input('Enter your age')\n",
        "age=int(age)\n",
        "if age>=14:\n",
        "  print('You are above 14')"
      ],
      "execution_count": null,
      "outputs": [
        {
          "output_type": "stream",
          "text": [
            "Enter your age15\n",
            "You are above 14\n"
          ],
          "name": "stdout"
        }
      ]
    },
    {
      "cell_type": "markdown",
      "metadata": {
        "id": "AI5Uha6bA1UT",
        "colab_type": "text"
      },
      "source": [
        "**If-else statement-**If the given condition in the if statement is false, then the statement in else is executed. Else statement is default statement."
      ]
    },
    {
      "cell_type": "code",
      "metadata": {
        "id": "55_fwmS7b4-L",
        "colab_type": "code",
        "colab": {
          "base_uri": "https://localhost:8080/",
          "height": 50
        },
        "outputId": "91727cf7-7a62-4025-ccf2-97faceec128a"
      },
      "source": [
        "age=input('Enter your age')\n",
        "age=int(age)\n",
        "if age>=14:\n",
        "  print('You are above 14')\n",
        "else:\n",
        "  print('You are not above 14')"
      ],
      "execution_count": null,
      "outputs": [
        {
          "output_type": "stream",
          "text": [
            "Enter your age13\n",
            "You are not above 14\n"
          ],
          "name": "stdout"
        }
      ]
    },
    {
      "cell_type": "markdown",
      "metadata": {
        "id": "WTsE5wmkT_tW",
        "colab_type": "text"
      },
      "source": [
        "**And/Or operators-**These operators are used to check two conditions at the same time.              \n",
        "**Syntax:-**\n",
        "if (condition 1) and (condition 2):\n",
        "....            \n",
        "if (condition 1) or (condition 2):\n",
        "....\n"
      ]
    },
    {
      "cell_type": "markdown",
      "metadata": {
        "id": "3Gqr5ob6UmzT",
        "colab_type": "text"
      },
      "source": [
        "**NOTE-**In and operator, the whole condition is true when both the 2 conditions are true.      \n",
        "In or operator, the whole condition is true when any one from the two onditions is true."
      ]
    },
    {
      "cell_type": "code",
      "metadata": {
        "id": "ReOvPeibcJcK",
        "colab_type": "code",
        "colab": {
          "base_uri": "https://localhost:8080/",
          "height": 34
        },
        "outputId": "16360546-458f-4951-c7b4-b91dec52f9a9"
      },
      "source": [
        "name='abc'\n",
        "age=19\n",
        "if name=='abc' and age==19:\n",
        "  print('condition true')\n",
        "else:\n",
        "  print('condition false')"
      ],
      "execution_count": null,
      "outputs": [
        {
          "output_type": "stream",
          "text": [
            "condition true\n"
          ],
          "name": "stdout"
        }
      ]
    },
    {
      "cell_type": "code",
      "metadata": {
        "id": "9rRsvtJdcsa0",
        "colab_type": "code",
        "colab": {
          "base_uri": "https://localhost:8080/",
          "height": 34
        },
        "outputId": "7865e078-866d-42a0-cc39-804b6a5f8605"
      },
      "source": [
        "if name=='abc' and age==23:\n",
        "  print('condition true')\n",
        "else:\n",
        "  print('condition false')"
      ],
      "execution_count": null,
      "outputs": [
        {
          "output_type": "stream",
          "text": [
            "condition false\n"
          ],
          "name": "stdout"
        }
      ]
    },
    {
      "cell_type": "code",
      "metadata": {
        "id": "IGD6sA9tczLk",
        "colab_type": "code",
        "colab": {
          "base_uri": "https://localhost:8080/",
          "height": 34
        },
        "outputId": "071ab5d3-cffa-4af1-9b2c-853281a14bf6"
      },
      "source": [
        "if name=='abc' or age==19:\n",
        "  print('condition true')\n",
        "else:\n",
        "  print('condition false')"
      ],
      "execution_count": null,
      "outputs": [
        {
          "output_type": "stream",
          "text": [
            "condition true\n"
          ],
          "name": "stdout"
        }
      ]
    },
    {
      "cell_type": "code",
      "metadata": {
        "id": "Rhr_Ycqrc5MV",
        "colab_type": "code",
        "colab": {
          "base_uri": "https://localhost:8080/",
          "height": 34
        },
        "outputId": "d12869c2-9eee-4aa9-f8c5-945ac1f91d03"
      },
      "source": [
        "if name=='abc' and age==23:\n",
        "  print('condition true')\n",
        "else:\n",
        "  print('condition false')"
      ],
      "execution_count": null,
      "outputs": [
        {
          "output_type": "stream",
          "text": [
            "condition false\n"
          ],
          "name": "stdout"
        }
      ]
    },
    {
      "cell_type": "markdown",
      "metadata": {
        "id": "I8hmvJmaVFRg",
        "colab_type": "text"
      },
      "source": [
        "**Multiple if-else(elif) statement-**It is used to give multiple conditions and a default condition."
      ]
    },
    {
      "cell_type": "code",
      "metadata": {
        "id": "Hm_2qvFhdE0w",
        "colab_type": "code",
        "colab": {
          "base_uri": "https://localhost:8080/",
          "height": 50
        },
        "outputId": "15f9bc57-f352-4d4e-8216-d08f7ce31ba8"
      },
      "source": [
        "age=input('Enter your age: ')\n",
        "age=int(age)\n",
        "if 0<age<3:\n",
        "  print('Ticket price=free')\n",
        "elif 3<age<10:\n",
        "  print('Ticket price=150')\n",
        "elif 10<age<=60:\n",
        "  print('Ticket price=250')\n",
        "else:\n",
        "  print('Ticket price=200')"
      ],
      "execution_count": null,
      "outputs": [
        {
          "output_type": "stream",
          "text": [
            "Enter your age: 19\n",
            "Ticket price=250\n"
          ],
          "name": "stdout"
        }
      ]
    },
    {
      "cell_type": "markdown",
      "metadata": {
        "id": "gljDLYeaVVjE",
        "colab_type": "text"
      },
      "source": [
        "**In keyword-**It is used to check that whether a particular character is present in a string or not."
      ]
    },
    {
      "cell_type": "code",
      "metadata": {
        "id": "bWQaPz-5d6df",
        "colab_type": "code",
        "colab": {
          "base_uri": "https://localhost:8080/",
          "height": 34
        },
        "outputId": "96c10059-d325-4782-fcb1-b50e0502eb13"
      },
      "source": [
        "name='Adarsh'\n",
        "if 'a' in name:\n",
        "  print('a is present in name')\n",
        "else:\n",
        "  print('a is not present in name')"
      ],
      "execution_count": null,
      "outputs": [
        {
          "output_type": "stream",
          "text": [
            "a is present in name\n"
          ],
          "name": "stdout"
        }
      ]
    },
    {
      "cell_type": "markdown",
      "metadata": {
        "id": "xrG_f89NVnxe",
        "colab_type": "text"
      },
      "source": [
        "**Check empty or not-**It is used o check that whether the string is empty or not."
      ]
    },
    {
      "cell_type": "code",
      "metadata": {
        "id": "MXzZ-lMTeSSD",
        "colab_type": "code",
        "colab": {
          "base_uri": "https://localhost:8080/",
          "height": 34
        },
        "outputId": "91cc5c3c-c190-4938-ebb4-af02420c9e9f"
      },
      "source": [
        "name='abc'\n",
        "if name:\n",
        "  print('string is not empty')\n",
        "else:\n",
        "  print('string is empty')"
      ],
      "execution_count": null,
      "outputs": [
        {
          "output_type": "stream",
          "text": [
            "string is not empty\n"
          ],
          "name": "stdout"
        }
      ]
    },
    {
      "cell_type": "code",
      "metadata": {
        "id": "vGyLP0L1etde",
        "colab_type": "code",
        "colab": {
          "base_uri": "https://localhost:8080/",
          "height": 34
        },
        "outputId": "c2c6b7e3-1ec2-4687-fc90-0097871840dd"
      },
      "source": [
        "name=''\n",
        "if name:\n",
        "  print('string is not empty')\n",
        "else:\n",
        "  print('string is empty')"
      ],
      "execution_count": null,
      "outputs": [
        {
          "output_type": "stream",
          "text": [
            "string is empty\n"
          ],
          "name": "stdout"
        }
      ]
    },
    {
      "cell_type": "markdown",
      "metadata": {
        "id": "PH3S1GNJV1FQ",
        "colab_type": "text"
      },
      "source": [
        "**While loop:-**                 \n",
        "while(condition):\n",
        "...."
      ]
    },
    {
      "cell_type": "code",
      "metadata": {
        "id": "3m8NFOdYe0Im",
        "colab_type": "code",
        "colab": {
          "base_uri": "https://localhost:8080/",
          "height": 185
        },
        "outputId": "fdeaf907-637c-4700-b5f0-469ce4dcbb65"
      },
      "source": [
        "i=1\n",
        "while i<=10:\n",
        "  print('hello world')\n",
        "  i=i+1"
      ],
      "execution_count": null,
      "outputs": [
        {
          "output_type": "stream",
          "text": [
            "hello world\n",
            "hello world\n",
            "hello world\n",
            "hello world\n",
            "hello world\n",
            "hello world\n",
            "hello world\n",
            "hello world\n",
            "hello world\n",
            "hello world\n"
          ],
          "name": "stdout"
        }
      ]
    },
    {
      "cell_type": "code",
      "metadata": {
        "id": "j_Rs9f1FfCb3",
        "colab_type": "code",
        "colab": {
          "base_uri": "https://localhost:8080/",
          "height": 34
        },
        "outputId": "aae4ed63-4e0c-4338-8fb3-b77b1f8d5458"
      },
      "source": [
        "total=0\n",
        "i=1\n",
        "while i<=10:\n",
        "  total=total+i\n",
        "  i=i+1\n",
        "print(total)"
      ],
      "execution_count": null,
      "outputs": [
        {
          "output_type": "stream",
          "text": [
            "55\n"
          ],
          "name": "stdout"
        }
      ]
    },
    {
      "cell_type": "markdown",
      "metadata": {
        "id": "HUbptWfrWIen",
        "colab_type": "text"
      },
      "source": [
        "**NOTE-**True and False are boolean values."
      ]
    },
    {
      "cell_type": "markdown",
      "metadata": {
        "id": "CixVhIWOWSWr",
        "colab_type": "text"
      },
      "source": [
        "**Range function-**We se range function in for loop. The range function starts from 0."
      ]
    },
    {
      "cell_type": "code",
      "metadata": {
        "id": "6DljYZYKgLYe",
        "colab_type": "code",
        "colab": {
          "base_uri": "https://localhost:8080/",
          "height": 185
        },
        "outputId": "dec2f8e2-ed94-4a64-be72-130452e33a37"
      },
      "source": [
        "for i in range(10):\n",
        "  print('hello world')"
      ],
      "execution_count": null,
      "outputs": [
        {
          "output_type": "stream",
          "text": [
            "hello world\n",
            "hello world\n",
            "hello world\n",
            "hello world\n",
            "hello world\n",
            "hello world\n",
            "hello world\n",
            "hello world\n",
            "hello world\n",
            "hello world\n"
          ],
          "name": "stdout"
        }
      ]
    },
    {
      "cell_type": "code",
      "metadata": {
        "id": "h6uRs_GGgZwk",
        "colab_type": "code",
        "colab": {
          "base_uri": "https://localhost:8080/",
          "height": 185
        },
        "outputId": "53908797-7805-43a2-9b21-89f37388efd1"
      },
      "source": [
        "for i in range(1,11):\n",
        "  print('hello world')"
      ],
      "execution_count": null,
      "outputs": [
        {
          "output_type": "stream",
          "text": [
            "hello world\n",
            "hello world\n",
            "hello world\n",
            "hello world\n",
            "hello world\n",
            "hello world\n",
            "hello world\n",
            "hello world\n",
            "hello world\n",
            "hello world\n"
          ],
          "name": "stdout"
        }
      ]
    },
    {
      "cell_type": "code",
      "metadata": {
        "id": "TQ6pGvsWg5gw",
        "colab_type": "code",
        "colab": {
          "base_uri": "https://localhost:8080/",
          "height": 34
        },
        "outputId": "95985da2-3d41-41b3-ccd7-d7ece73fe646"
      },
      "source": [
        "total=0\n",
        "for i in range(1,11):\n",
        "  total=total+i\n",
        "print(total)"
      ],
      "execution_count": null,
      "outputs": [
        {
          "output_type": "stream",
          "text": [
            "55\n"
          ],
          "name": "stdout"
        }
      ]
    },
    {
      "cell_type": "code",
      "metadata": {
        "id": "4ooCCG3dhLT3",
        "colab_type": "code",
        "colab": {
          "base_uri": "https://localhost:8080/",
          "height": 50
        },
        "outputId": "61f3b5ff-cb7a-4937-da07-132e50f23b31"
      },
      "source": [
        "n=int(input('enter a number'))\n",
        "total =0\n",
        "for i in range(1,n+1):\n",
        "  total=total+i\n",
        "print(total)"
      ],
      "execution_count": null,
      "outputs": [
        {
          "output_type": "stream",
          "text": [
            "enter a number10\n",
            "55\n"
          ],
          "name": "stdout"
        }
      ]
    },
    {
      "cell_type": "code",
      "metadata": {
        "id": "iZIvtKUNhpyi",
        "colab_type": "code",
        "colab": {
          "base_uri": "https://localhost:8080/",
          "height": 134
        },
        "outputId": "50f28033-6ff8-4ff8-f2ee-2ee99a4bf11c"
      },
      "source": [
        "n=int(input('how mny numbers'))\n",
        "total =0\n",
        "for i in range(n):\n",
        "  num=float(input('enter any number'))\n",
        "  total = total+num\n",
        "avg=total/n\n",
        "print(avg)"
      ],
      "execution_count": null,
      "outputs": [
        {
          "output_type": "stream",
          "text": [
            "how mny numbers5\n",
            "enter any number4\n",
            "enter any number5\n",
            "enter any number3\n",
            "enter any number2\n",
            "enter any number1\n",
            "3.0\n"
          ],
          "name": "stdout"
        }
      ]
    },
    {
      "cell_type": "code",
      "metadata": {
        "id": "vwbRpPgPigMe",
        "colab_type": "code",
        "colab": {
          "base_uri": "https://localhost:8080/",
          "height": 50
        },
        "outputId": "27c77a12-303a-4d08-bd43-55569ce0d9a7"
      },
      "source": [
        "total=0\n",
        "num=input('enter a number')\n",
        "for i in range(0,len(num)):\n",
        "  total=total+int(num[i])\n",
        "print(total)"
      ],
      "execution_count": null,
      "outputs": [
        {
          "output_type": "stream",
          "text": [
            "enter a number1111\n",
            "4\n"
          ],
          "name": "stdout"
        }
      ]
    },
    {
      "cell_type": "code",
      "metadata": {
        "id": "D-TZAaGyjlc_",
        "colab_type": "code",
        "colab": {
          "base_uri": "https://localhost:8080/",
          "height": 134
        },
        "outputId": "1cdde2cd-c335-41dd-ef5a-0a01e6f998a0"
      },
      "source": [
        "name=input('enter your name')\n",
        "temp=''\n",
        "for i in range(len(name)):\n",
        "  if name[i] not in temp:\n",
        "    print(f'{name[i]}:{name.count(name[i])}')\n",
        "    temp=temp+name[i]"
      ],
      "execution_count": null,
      "outputs": [
        {
          "output_type": "stream",
          "text": [
            "enter your nameAdarsh\n",
            "A:1\n",
            "d:1\n",
            "a:1\n",
            "r:1\n",
            "s:1\n",
            "h:1\n"
          ],
          "name": "stdout"
        }
      ]
    },
    {
      "cell_type": "markdown",
      "metadata": {
        "id": "OcO_TBwNWkA7",
        "colab_type": "text"
      },
      "source": [
        "**Break and Continue-**As their name suggests, break statement is used to break the loop for a condition and continue statement is used to continue the loop for a condition."
      ]
    },
    {
      "cell_type": "code",
      "metadata": {
        "id": "Su8lYT0YkgFO",
        "colab_type": "code",
        "colab": {
          "base_uri": "https://localhost:8080/",
          "height": 84
        },
        "outputId": "584d6bcf-307e-40fe-a759-beaad39e1141"
      },
      "source": [
        "for i in range(1,11):\n",
        "  if i==5:\n",
        "    break\n",
        "  print(i)"
      ],
      "execution_count": null,
      "outputs": [
        {
          "output_type": "stream",
          "text": [
            "1\n",
            "2\n",
            "3\n",
            "4\n"
          ],
          "name": "stdout"
        }
      ]
    },
    {
      "cell_type": "code",
      "metadata": {
        "id": "wbBT88Ggkvqy",
        "colab_type": "code",
        "colab": {
          "base_uri": "https://localhost:8080/",
          "height": 168
        },
        "outputId": "5fdf9c5e-1083-417d-d9b2-38c39a00ee44"
      },
      "source": [
        "for i in range(1,11):\n",
        "  if i==5:\n",
        "    continue\n",
        "  print(i)"
      ],
      "execution_count": null,
      "outputs": [
        {
          "output_type": "stream",
          "text": [
            "1\n",
            "2\n",
            "3\n",
            "4\n",
            "6\n",
            "7\n",
            "8\n",
            "9\n",
            "10\n"
          ],
          "name": "stdout"
        }
      ]
    },
    {
      "cell_type": "markdown",
      "metadata": {
        "id": "88vNHuMvXBU7",
        "colab_type": "text"
      },
      "source": [
        "**Step Arguement:-**"
      ]
    },
    {
      "cell_type": "code",
      "metadata": {
        "id": "32RcXiwUk-Zu",
        "colab_type": "code",
        "colab": {
          "base_uri": "https://localhost:8080/",
          "height": 101
        },
        "outputId": "28f546d8-33a0-4f63-ec70-fcda991f1428"
      },
      "source": [
        "for i in range(1,11,2):\n",
        "  print(i)"
      ],
      "execution_count": null,
      "outputs": [
        {
          "output_type": "stream",
          "text": [
            "1\n",
            "3\n",
            "5\n",
            "7\n",
            "9\n"
          ],
          "name": "stdout"
        }
      ]
    },
    {
      "cell_type": "code",
      "metadata": {
        "id": "nslr9-BBlgio",
        "colab_type": "code",
        "colab": {
          "base_uri": "https://localhost:8080/",
          "height": 118
        },
        "outputId": "fd244de6-2a1e-4044-f0f5-4be3073f0915"
      },
      "source": [
        "for i in range(0,11,2):\n",
        "  print(i)"
      ],
      "execution_count": null,
      "outputs": [
        {
          "output_type": "stream",
          "text": [
            "0\n",
            "2\n",
            "4\n",
            "6\n",
            "8\n",
            "10\n"
          ],
          "name": "stdout"
        }
      ]
    },
    {
      "cell_type": "code",
      "metadata": {
        "id": "sfRgbjCZlnVS",
        "colab_type": "code",
        "colab": {
          "base_uri": "https://localhost:8080/",
          "height": 185
        },
        "outputId": "a9e3c43c-bd82-4f35-ef27-b0bcf91f0e4c"
      },
      "source": [
        "for i in range(10,0,-1):\n",
        "  print(i)"
      ],
      "execution_count": null,
      "outputs": [
        {
          "output_type": "stream",
          "text": [
            "10\n",
            "9\n",
            "8\n",
            "7\n",
            "6\n",
            "5\n",
            "4\n",
            "3\n",
            "2\n",
            "1\n"
          ],
          "name": "stdout"
        }
      ]
    },
    {
      "cell_type": "code",
      "metadata": {
        "id": "wx3e4O-Qlu1b",
        "colab_type": "code",
        "colab": {
          "base_uri": "https://localhost:8080/",
          "height": 218
        },
        "outputId": "59a69ddd-da5b-423e-d8bc-19fcb0fa931b"
      },
      "source": [
        "for i in range(1,-11,-1):\n",
        "  print(i)"
      ],
      "execution_count": null,
      "outputs": [
        {
          "output_type": "stream",
          "text": [
            "1\n",
            "0\n",
            "-1\n",
            "-2\n",
            "-3\n",
            "-4\n",
            "-5\n",
            "-6\n",
            "-7\n",
            "-8\n",
            "-9\n",
            "-10\n"
          ],
          "name": "stdout"
        }
      ]
    },
    {
      "cell_type": "code",
      "metadata": {
        "id": "DRHppQzel4iL",
        "colab_type": "code",
        "colab": {
          "base_uri": "https://localhost:8080/",
          "height": 118
        },
        "outputId": "a3702d5c-4712-444c-e5fe-ab74ca47a7e2"
      },
      "source": [
        "name='adarsh'\n",
        "for i in name:\n",
        "  print(i)"
      ],
      "execution_count": null,
      "outputs": [
        {
          "output_type": "stream",
          "text": [
            "a\n",
            "d\n",
            "a\n",
            "r\n",
            "s\n",
            "h\n"
          ],
          "name": "stdout"
        }
      ]
    },
    {
      "cell_type": "code",
      "metadata": {
        "id": "eRv9JZ-ImEyI",
        "colab_type": "code",
        "colab": {
          "base_uri": "https://localhost:8080/",
          "height": 118
        },
        "outputId": "8e2f99d2-2128-42d8-b465-5d8f1308539b"
      },
      "source": [
        "for i in 'adarsh':\n",
        "  print(i)"
      ],
      "execution_count": null,
      "outputs": [
        {
          "output_type": "stream",
          "text": [
            "a\n",
            "d\n",
            "a\n",
            "r\n",
            "s\n",
            "h\n"
          ],
          "name": "stdout"
        }
      ]
    },
    {
      "cell_type": "code",
      "metadata": {
        "id": "JuMBVoZpmSWq",
        "colab_type": "code",
        "colab": {
          "base_uri": "https://localhost:8080/",
          "height": 50
        },
        "outputId": "782b23f2-4b10-4bbd-9bdf-5f0b197ff05f"
      },
      "source": [
        "num=input('enter a number')\n",
        "total =0\n",
        "for i in num:\n",
        "  total=total+int(i)\n",
        "print(total)"
      ],
      "execution_count": null,
      "outputs": [
        {
          "output_type": "stream",
          "text": [
            "enter a number123\n",
            "6\n"
          ],
          "name": "stdout"
        }
      ]
    },
    {
      "cell_type": "markdown",
      "metadata": {
        "id": "zlM7zbqDXMu7",
        "colab_type": "text"
      },
      "source": [
        "#**Chapter - 4**"
      ]
    },
    {
      "cell_type": "markdown",
      "metadata": {
        "id": "0tVD6KBsXSJx",
        "colab_type": "text"
      },
      "source": [
        "**Functions-**Functions are used to write ome lines of code for defining it and using the function again and again, if we want, so that we do not have to write the same lines of code again and again. To define a function, def keyword is used."
      ]
    },
    {
      "cell_type": "code",
      "metadata": {
        "id": "uba8IDeZmiZ_",
        "colab_type": "code",
        "colab": {
          "base_uri": "https://localhost:8080/",
          "height": 34
        },
        "outputId": "251b61d0-8ca4-4e8e-f32b-b98458fa7c29"
      },
      "source": [
        "def add_two(a,b):\n",
        "    return a+b\n",
        "total=add_two(10,4)\n",
        "print(total)"
      ],
      "execution_count": null,
      "outputs": [
        {
          "output_type": "stream",
          "text": [
            "14\n"
          ],
          "name": "stdout"
        }
      ]
    },
    {
      "cell_type": "code",
      "metadata": {
        "id": "-FfBqKzIpVFS",
        "colab_type": "code",
        "colab": {
          "base_uri": "https://localhost:8080/",
          "height": 67
        },
        "outputId": "1c578224-9762-4611-9039-8cc0dad0d621"
      },
      "source": [
        "def add_two(a,b):\n",
        "    return a+b\n",
        "num1=int(input('Enter first number'))\n",
        "num2=int(input('Enter second number'))\n",
        "total=add_two(num1,num2)\n",
        "print(total)"
      ],
      "execution_count": null,
      "outputs": [
        {
          "output_type": "stream",
          "text": [
            "Enter first number10\n",
            "Enter second number4\n",
            "14\n"
          ],
          "name": "stdout"
        }
      ]
    },
    {
      "cell_type": "code",
      "metadata": {
        "id": "Y-WX6dUlpYda",
        "colab_type": "code",
        "colab": {
          "base_uri": "https://localhost:8080/",
          "height": 67
        },
        "outputId": "c358126b-58dd-4ddd-ad21-8cba52773c65"
      },
      "source": [
        "def add_two(num1,num2):\n",
        "    return num1+num2\n",
        "first_name=input('Type first name')\n",
        "last_name=input('Type last name')\n",
        "print(add_two(first_name,last_name))"
      ],
      "execution_count": null,
      "outputs": [
        {
          "output_type": "stream",
          "text": [
            "Type first nameAdarsh\n",
            "Type last nameJadon\n",
            "AdarshJadon\n"
          ],
          "name": "stdout"
        }
      ]
    },
    {
      "cell_type": "markdown",
      "metadata": {
        "id": "nXhyFQ1fTSWN",
        "colab_type": "text"
      },
      "source": [
        "**Print VS Return-**In a function, we can use both print and return. In print, the function prints the output on the scree and in return, the function returns the output on the screen.\n",
        "In return, there is no need of parenthesis nut in print parenthesis are used."
      ]
    },
    {
      "cell_type": "code",
      "metadata": {
        "id": "UwYcfJKBT4rX",
        "colab_type": "code",
        "colab": {
          "base_uri": "https://localhost:8080/",
          "height": 34
        },
        "outputId": "328281f0-2357-4b2a-c4d0-6bc82b602ae3"
      },
      "source": [
        "def add_two(a,b):\n",
        "  return a+b\n",
        "print(add_two(5,5))"
      ],
      "execution_count": null,
      "outputs": [
        {
          "output_type": "stream",
          "text": [
            "10\n"
          ],
          "name": "stdout"
        }
      ]
    },
    {
      "cell_type": "code",
      "metadata": {
        "id": "B10_j6vZUSXb",
        "colab_type": "code",
        "colab": {
          "base_uri": "https://localhost:8080/",
          "height": 34
        },
        "outputId": "4fc616c3-da79-43c8-bcbd-4a31a6236874"
      },
      "source": [
        "def add_two(a,b):\n",
        "  print(a+b)\n",
        "add_two(5,5)"
      ],
      "execution_count": null,
      "outputs": [
        {
          "output_type": "stream",
          "text": [
            "10\n"
          ],
          "name": "stdout"
        }
      ]
    },
    {
      "cell_type": "code",
      "metadata": {
        "id": "pCuoJHo9pezS",
        "colab_type": "code",
        "colab": {
          "base_uri": "https://localhost:8080/",
          "height": 34
        },
        "outputId": "03285c1d-20c3-48cb-a619-fa00b98a95c9"
      },
      "source": [
        "def last_char(name):\n",
        "    return name[-1]\n",
        "print(last_char('AJ'))"
      ],
      "execution_count": null,
      "outputs": [
        {
          "output_type": "stream",
          "text": [
            "J\n"
          ],
          "name": "stdout"
        }
      ]
    },
    {
      "cell_type": "code",
      "metadata": {
        "id": "YAgZGarjpl3d",
        "colab_type": "code",
        "colab": {
          "base_uri": "https://localhost:8080/",
          "height": 34
        },
        "outputId": "ce6f672e-f9a7-4e2e-db63-4955e98cb50f"
      },
      "source": [
        "def odd_even(num):\n",
        "    if num%2==0:\n",
        "        return 'even'\n",
        "    else:\n",
        "        return 'odd'\n",
        "print(odd_even(9))"
      ],
      "execution_count": null,
      "outputs": [
        {
          "output_type": "stream",
          "text": [
            "odd\n"
          ],
          "name": "stdout"
        }
      ]
    },
    {
      "cell_type": "code",
      "metadata": {
        "id": "k5YdbF3Kpo_3",
        "colab_type": "code",
        "colab": {
          "base_uri": "https://localhost:8080/",
          "height": 34
        },
        "outputId": "636086c5-8118-4f3d-bf7d-6c4a305bf172"
      },
      "source": [
        "def is_even(num):\n",
        "    if num%2==0:\n",
        "        return True\n",
        "    return False\n",
        "print(is_even(9))"
      ],
      "execution_count": null,
      "outputs": [
        {
          "output_type": "stream",
          "text": [
            "False\n"
          ],
          "name": "stdout"
        }
      ]
    },
    {
      "cell_type": "code",
      "metadata": {
        "id": "LRqeiPN1puFf",
        "colab_type": "code",
        "colab": {
          "base_uri": "https://localhost:8080/",
          "height": 50
        },
        "outputId": "016eed64-62a7-4ca9-90b0-2ea3cd64de24"
      },
      "source": [
        "def song():\n",
        "    print('Happy birthday song')\n",
        "print(song())"
      ],
      "execution_count": null,
      "outputs": [
        {
          "output_type": "stream",
          "text": [
            "Happy birthday song\n",
            "None\n"
          ],
          "name": "stdout"
        }
      ]
    },
    {
      "cell_type": "code",
      "metadata": {
        "id": "W8kWxvNXpw1P",
        "colab_type": "code",
        "colab": {
          "base_uri": "https://localhost:8080/",
          "height": 34
        },
        "outputId": "272b9666-3058-4199-8139-b35d25b296cb"
      },
      "source": [
        "def greater(a,b):\n",
        "    if a>b:\n",
        "        return a\n",
        "    else:\n",
        "        return b\n",
        "def new_greatest(a,b,c) :\n",
        "    bigger=greater(a,b)\n",
        "    return greater(bigger,c)\n",
        "print(new_greatest(10,20,30))"
      ],
      "execution_count": null,
      "outputs": [
        {
          "output_type": "stream",
          "text": [
            "30\n"
          ],
          "name": "stdout"
        }
      ]
    },
    {
      "cell_type": "code",
      "metadata": {
        "id": "40c78dTwp0jP",
        "colab_type": "code",
        "colab": {
          "base_uri": "https://localhost:8080/",
          "height": 34
        },
        "outputId": "7050a108-0fad-4166-df0a-fe69d0394fda"
      },
      "source": [
        "for i in range(1,11):\n",
        "    print(i,end='')"
      ],
      "execution_count": null,
      "outputs": [
        {
          "output_type": "stream",
          "text": [
            "12345678910"
          ],
          "name": "stdout"
        }
      ]
    },
    {
      "cell_type": "code",
      "metadata": {
        "id": "1_MFWka6p4Hb",
        "colab_type": "code",
        "colab": {
          "base_uri": "https://localhost:8080/",
          "height": 34
        },
        "outputId": "b72485ff-9d0d-4e96-c201-2e8d690ab4d3"
      },
      "source": [
        "def fibonacci_seq(n):\n",
        "    a=0\n",
        "    b=1\n",
        "    if n==1:\n",
        "        print(a)\n",
        "    elif n==2:\n",
        "        print(a,b)\n",
        "    else:\n",
        "        print(a,b,end='')\n",
        "        for i in range(n-2):\n",
        "            c=a+b\n",
        "            a=b\n",
        "            b=c\n",
        "            print(b,end='')\n",
        "fibonacci_seq(10)"
      ],
      "execution_count": null,
      "outputs": [
        {
          "output_type": "stream",
          "text": [
            "0 112358132134"
          ],
          "name": "stdout"
        }
      ]
    },
    {
      "cell_type": "markdown",
      "metadata": {
        "id": "1N-AWRH2Ug_B",
        "colab_type": "text"
      },
      "source": [
        "**Default parameters-**Default parameters are always made at the last."
      ]
    },
    {
      "cell_type": "code",
      "metadata": {
        "id": "oyr8_hOXp7Tc",
        "colab_type": "code",
        "colab": {
          "base_uri": "https://localhost:8080/",
          "height": 67
        },
        "outputId": "fa31d28e-a510-4ee0-b394-7e568797a41e"
      },
      "source": [
        "def user_info(first_name,last_name='unknown',age=None):\n",
        "  print(f'Your forst name is {first_name}')\n",
        "  print(f'Your last name is {last_name}')\n",
        "  print(f'Your age is {age}')\n",
        "user_info('Adarsh')"
      ],
      "execution_count": null,
      "outputs": [
        {
          "output_type": "stream",
          "text": [
            "Your forst name is Adarsh\n",
            "Your last name is unknown\n",
            "Your age is None\n"
          ],
          "name": "stdout"
        }
      ]
    },
    {
      "cell_type": "markdown",
      "metadata": {
        "id": "-RghsVZBUzgi",
        "colab_type": "text"
      },
      "source": [
        "#**Chapter - 4**"
      ]
    },
    {
      "cell_type": "markdown",
      "metadata": {
        "id": "EC_0Q4h-U40h",
        "colab_type": "text"
      },
      "source": [
        "**List-**List is a type f data structure. It is an ordered collection of items. We can store anything in lists like int, float or string."
      ]
    },
    {
      "cell_type": "code",
      "metadata": {
        "id": "UMNbMT8AqplJ",
        "colab_type": "code",
        "colab": {
          "base_uri": "https://localhost:8080/",
          "height": 34
        },
        "outputId": "0c72c6eb-8890-4c46-ad38-76de779efa4a"
      },
      "source": [
        "numbers=[1,2,3,4]\n",
        "print(numbers)"
      ],
      "execution_count": null,
      "outputs": [
        {
          "output_type": "stream",
          "text": [
            "[1, 2, 3, 4]\n"
          ],
          "name": "stdout"
        }
      ]
    },
    {
      "cell_type": "code",
      "metadata": {
        "id": "1TYeJVhSraZi",
        "colab_type": "code",
        "colab": {
          "base_uri": "https://localhost:8080/",
          "height": 34
        },
        "outputId": "f409f1a4-2d13-484a-9efd-55e6c96a91af"
      },
      "source": [
        "words=['word1','word2','word3','word4']\n",
        "print(words)"
      ],
      "execution_count": null,
      "outputs": [
        {
          "output_type": "stream",
          "text": [
            "['word1', 'word2', 'word3', 'word4']\n"
          ],
          "name": "stdout"
        }
      ]
    },
    {
      "cell_type": "code",
      "metadata": {
        "id": "YEX5GOtNroHA",
        "colab_type": "code",
        "colab": {
          "base_uri": "https://localhost:8080/",
          "height": 34
        },
        "outputId": "46446c86-9dbd-449a-c9a4-06459eb686b7"
      },
      "source": [
        "mixed=[1,2,3,4,'word1','word2','word3','word4',2.3,None]\n",
        "print(mixed)"
      ],
      "execution_count": null,
      "outputs": [
        {
          "output_type": "stream",
          "text": [
            "[1, 2, 3, 4, 'word1', 'word2', 'word3', 'word4', 2.3, None]\n"
          ],
          "name": "stdout"
        }
      ]
    },
    {
      "cell_type": "code",
      "metadata": {
        "id": "izP2ipY3r6aT",
        "colab_type": "code",
        "colab": {
          "base_uri": "https://localhost:8080/",
          "height": 34
        },
        "outputId": "0de360f0-f41e-4a39-c18a-2b41e02806a5"
      },
      "source": [
        "numbers=[1,2,3,4]\n",
        "print(numbers[1])"
      ],
      "execution_count": null,
      "outputs": [
        {
          "output_type": "stream",
          "text": [
            "2\n"
          ],
          "name": "stdout"
        }
      ]
    },
    {
      "cell_type": "code",
      "metadata": {
        "id": "nM9f5WDtr_X5",
        "colab_type": "code",
        "colab": {
          "base_uri": "https://localhost:8080/",
          "height": 34
        },
        "outputId": "f2d9fa28-6be7-4dba-fb7f-7b606b7e10cd"
      },
      "source": [
        "mixed[1:]='two'\n",
        "print(mixed)"
      ],
      "execution_count": null,
      "outputs": [
        {
          "output_type": "stream",
          "text": [
            "[1, 't', 'w', 'o']\n"
          ],
          "name": "stdout"
        }
      ]
    },
    {
      "cell_type": "code",
      "metadata": {
        "id": "3NwY-CadsPLz",
        "colab_type": "code",
        "colab": {
          "base_uri": "https://localhost:8080/",
          "height": 34
        },
        "outputId": "6144fcb7-77e0-4ae3-a572-d2abf3811332"
      },
      "source": [
        "mixed[1:]=['three','four']\n",
        "print(mixed)"
      ],
      "execution_count": null,
      "outputs": [
        {
          "output_type": "stream",
          "text": [
            "[1, 'three', 'four']\n"
          ],
          "name": "stdout"
        }
      ]
    },
    {
      "cell_type": "markdown",
      "metadata": {
        "id": "7LcRNn4HVQIe",
        "colab_type": "text"
      },
      "source": [
        "**Addind data to list:-**"
      ]
    },
    {
      "cell_type": "code",
      "metadata": {
        "id": "EP3UTh5Wscs8",
        "colab_type": "code",
        "colab": {
          "base_uri": "https://localhost:8080/",
          "height": 34
        },
        "outputId": "4dbfc0f7-db6c-4f9b-ac3f-6fa6b3badd3a"
      },
      "source": [
        "fruits=['grapes','apple']\n",
        "fruits.append('mango')\n",
        "print(fruits)"
      ],
      "execution_count": null,
      "outputs": [
        {
          "output_type": "stream",
          "text": [
            "['grapes', 'apple', 'mango']\n"
          ],
          "name": "stdout"
        }
      ]
    },
    {
      "cell_type": "code",
      "metadata": {
        "id": "KpgJX-rVsyhB",
        "colab_type": "code",
        "colab": {
          "base_uri": "https://localhost:8080/",
          "height": 34
        },
        "outputId": "ceb6d405-be6d-410e-f1a6-bfe97b247072"
      },
      "source": [
        "fruits=[]\n",
        "fruits.append('grapes')\n",
        "fruits.append('apple')\n",
        "print(fruits)"
      ],
      "execution_count": null,
      "outputs": [
        {
          "output_type": "stream",
          "text": [
            "['grapes', 'apple']\n"
          ],
          "name": "stdout"
        }
      ]
    },
    {
      "cell_type": "markdown",
      "metadata": {
        "id": "RLWlRmJjVXkv",
        "colab_type": "text"
      },
      "source": [
        "**Insert method-**This method adds any item at any position in the list."
      ]
    },
    {
      "cell_type": "code",
      "metadata": {
        "id": "n8uL6IpMtDx4",
        "colab_type": "code",
        "colab": {
          "base_uri": "https://localhost:8080/",
          "height": 34
        },
        "outputId": "516a376e-09f6-470e-933b-967b1606e8cb"
      },
      "source": [
        "fruits=['mango','orange']\n",
        "fruits.insert(1,'grapes')\n",
        "print(fruits)"
      ],
      "execution_count": null,
      "outputs": [
        {
          "output_type": "stream",
          "text": [
            "['mango', 'grapes', 'orange']\n"
          ],
          "name": "stdout"
        }
      ]
    },
    {
      "cell_type": "markdown",
      "metadata": {
        "id": "TwOb5fCsVfkl",
        "colab_type": "text"
      },
      "source": [
        "**Concatenating two lists:-**"
      ]
    },
    {
      "cell_type": "code",
      "metadata": {
        "id": "KZQiaPdlte6l",
        "colab_type": "code",
        "colab": {
          "base_uri": "https://localhost:8080/",
          "height": 34
        },
        "outputId": "b87e7715-2733-4029-a747-614afbd88998"
      },
      "source": [
        "fruits1=['mango','orange']\n",
        "fruits2=['grapes','apple']\n",
        "fruits=fruits1+fruits2\n",
        "print(fruits)"
      ],
      "execution_count": null,
      "outputs": [
        {
          "output_type": "stream",
          "text": [
            "['mango', 'orange', 'grapes', 'apple']\n"
          ],
          "name": "stdout"
        }
      ]
    },
    {
      "cell_type": "markdown",
      "metadata": {
        "id": "f_Im03VTVnF-",
        "colab_type": "text"
      },
      "source": [
        "**Extend method-**This method adds all the items of one list into another list."
      ]
    },
    {
      "cell_type": "code",
      "metadata": {
        "id": "XqAi4Hw4uCY2",
        "colab_type": "code",
        "colab": {
          "base_uri": "https://localhost:8080/",
          "height": 50
        },
        "outputId": "f801e9ef-ec0e-41e7-91dc-2fc7eb5df9ed"
      },
      "source": [
        "fruits1=['mango','orange']\n",
        "fruits2=['grapes','apple']\n",
        "fruits1.extend(fruits2)\n",
        "print(fruits1)\n",
        "print(fruits2)"
      ],
      "execution_count": null,
      "outputs": [
        {
          "output_type": "stream",
          "text": [
            "['mango', 'orange', 'grapes', 'apple']\n",
            "['grapes', 'apple']\n"
          ],
          "name": "stdout"
        }
      ]
    },
    {
      "cell_type": "markdown",
      "metadata": {
        "id": "iOxa6GcPWJAQ",
        "colab_type": "text"
      },
      "source": [
        "**List inside list-**The append method adds whole one list into the another list."
      ]
    },
    {
      "cell_type": "code",
      "metadata": {
        "id": "yX5XZ9m0uftv",
        "colab_type": "code",
        "colab": {
          "base_uri": "https://localhost:8080/",
          "height": 34
        },
        "outputId": "e81d8d19-9513-43fb-d849-61658896fbf1"
      },
      "source": [
        "fruits1=['mango','apple']\n",
        "fruits2=['grapes','orange']\n",
        "fruits1.append(fruits2)\n",
        "print(fruits1)"
      ],
      "execution_count": null,
      "outputs": [
        {
          "output_type": "stream",
          "text": [
            "['mango', 'apple', ['grapes', 'orange']]\n"
          ],
          "name": "stdout"
        }
      ]
    },
    {
      "cell_type": "markdown",
      "metadata": {
        "id": "J_yXMgYxWeNS",
        "colab_type": "text"
      },
      "source": [
        "**Deleting data from list:-**"
      ]
    },
    {
      "cell_type": "code",
      "metadata": {
        "id": "wgwdXyzru3kA",
        "colab_type": "code",
        "colab": {
          "base_uri": "https://localhost:8080/",
          "height": 34
        },
        "outputId": "5c29e85e-99f3-40f8-8aea-cad4b2812728"
      },
      "source": [
        "fruits=['orange','apple','pear','bnana','kiwi']\n",
        "fruits.pop()\n",
        "print(fruits)"
      ],
      "execution_count": null,
      "outputs": [
        {
          "output_type": "stream",
          "text": [
            "['orange', 'apple', 'pear', 'bnana']\n"
          ],
          "name": "stdout"
        }
      ]
    },
    {
      "cell_type": "code",
      "metadata": {
        "id": "y3gOcNLevRnU",
        "colab_type": "code",
        "colab": {
          "base_uri": "https://localhost:8080/",
          "height": 34
        },
        "outputId": "b310c35f-7098-4a82-9072-114e98d138fc"
      },
      "source": [
        "fruits=['orange','apple','pear','bnana','kiwi']\n",
        "fruits.pop(1)\n",
        "print(fruits)"
      ],
      "execution_count": null,
      "outputs": [
        {
          "output_type": "stream",
          "text": [
            "['orange', 'pear', 'bnana', 'kiwi']\n"
          ],
          "name": "stdout"
        }
      ]
    },
    {
      "cell_type": "code",
      "metadata": {
        "id": "4T30gbuivYDC",
        "colab_type": "code",
        "colab": {
          "base_uri": "https://localhost:8080/",
          "height": 34
        },
        "outputId": "281f03b7-43a9-4fc3-fbb8-58c6df174e03"
      },
      "source": [
        "fruits=['orange','apple','pear','bnana','kiwi']\n",
        "del fruits[1]\n",
        "print(fruits)"
      ],
      "execution_count": null,
      "outputs": [
        {
          "output_type": "stream",
          "text": [
            "['orange', 'pear', 'bnana', 'kiwi']\n"
          ],
          "name": "stdout"
        }
      ]
    },
    {
      "cell_type": "code",
      "metadata": {
        "id": "y1BFrcICvodZ",
        "colab_type": "code",
        "colab": {
          "base_uri": "https://localhost:8080/",
          "height": 34
        },
        "outputId": "ee4b09ed-91f9-4b88-acc7-fe1da2685de3"
      },
      "source": [
        "fruits=['orange','apple','pear','bnana','kiwi']\n",
        "fruits.remove('bnana')\n",
        "print(fruits)"
      ],
      "execution_count": null,
      "outputs": [
        {
          "output_type": "stream",
          "text": [
            "['orange', 'apple', 'pear', 'kiwi']\n"
          ],
          "name": "stdout"
        }
      ]
    },
    {
      "cell_type": "code",
      "metadata": {
        "id": "7-Ll0OgGvxkx",
        "colab_type": "code",
        "colab": {
          "base_uri": "https://localhost:8080/",
          "height": 34
        },
        "outputId": "b86f8c0d-3587-4955-95a2-bee1f52947ff"
      },
      "source": [
        "fruits=['orange','apple','pear','bnana','apple','kiwi']\n",
        "fruits.remove('apple')\n",
        "print(fruits)"
      ],
      "execution_count": null,
      "outputs": [
        {
          "output_type": "stream",
          "text": [
            "['orange', 'pear', 'bnana', 'apple', 'kiwi']\n"
          ],
          "name": "stdout"
        }
      ]
    },
    {
      "cell_type": "markdown",
      "metadata": {
        "id": "OZlCGpwEWoeM",
        "colab_type": "text"
      },
      "source": [
        "**In keyword in ist:-**"
      ]
    },
    {
      "cell_type": "code",
      "metadata": {
        "id": "MKPa_BuCwBAX",
        "colab_type": "code",
        "colab": {
          "base_uri": "https://localhost:8080/",
          "height": 34
        },
        "outputId": "e2ddf19d-c4ca-4d2b-f04c-fff777f14b49"
      },
      "source": [
        "fruits=['orange','apple','pear','bnana','kiwi']\n",
        "if 'apple' in fruits:\n",
        "  print('apple is present')\n",
        "else:\n",
        "  print('apple is not present')"
      ],
      "execution_count": null,
      "outputs": [
        {
          "output_type": "stream",
          "text": [
            "apple is present\n"
          ],
          "name": "stdout"
        }
      ]
    },
    {
      "cell_type": "markdown",
      "metadata": {
        "id": "w5BbE5VkWvzF",
        "colab_type": "text"
      },
      "source": [
        "**Some more list methods:-**"
      ]
    },
    {
      "cell_type": "markdown",
      "metadata": {
        "id": "KPf9DQBZW0UD",
        "colab_type": "text"
      },
      "source": [
        "**Count:-**"
      ]
    },
    {
      "cell_type": "code",
      "metadata": {
        "id": "3CCmzpNjwX1w",
        "colab_type": "code",
        "colab": {
          "base_uri": "https://localhost:8080/",
          "height": 34
        },
        "outputId": "4ad0694a-757a-4009-9b9b-cde9bc015d93"
      },
      "source": [
        "fruits=['orange','apple','pear','bnana','kiwi','apple','bnana']\n",
        "fruits.count('apple')"
      ],
      "execution_count": null,
      "outputs": [
        {
          "output_type": "execute_result",
          "data": {
            "text/plain": [
              "2"
            ]
          },
          "metadata": {
            "tags": []
          },
          "execution_count": 44
        }
      ]
    },
    {
      "cell_type": "markdown",
      "metadata": {
        "id": "dL3WT5J4W4cE",
        "colab_type": "text"
      },
      "source": [
        "**Sort:-**"
      ]
    },
    {
      "cell_type": "code",
      "metadata": {
        "id": "jLMRe0I3wmcX",
        "colab_type": "code",
        "colab": {
          "base_uri": "https://localhost:8080/",
          "height": 34
        },
        "outputId": "cf87e493-eac0-4e60-b70e-d83482d328a6"
      },
      "source": [
        "fruits=['orange','apple','pear','bnana','kiwi','apple','bnana']\n",
        "fruits.sort()\n",
        "print(fruits)"
      ],
      "execution_count": null,
      "outputs": [
        {
          "output_type": "stream",
          "text": [
            "['apple', 'apple', 'bnana', 'bnana', 'kiwi', 'orange', 'pear']\n"
          ],
          "name": "stdout"
        }
      ]
    },
    {
      "cell_type": "markdown",
      "metadata": {
        "id": "uBwoa5QHW9ya",
        "colab_type": "text"
      },
      "source": [
        "**Sorted function:-**"
      ]
    },
    {
      "cell_type": "code",
      "metadata": {
        "id": "36TvicQZxOGp",
        "colab_type": "code",
        "colab": {
          "base_uri": "https://localhost:8080/",
          "height": 34
        },
        "outputId": "2d90d0b4-f233-4b8e-e3ae-8dbd358cf455"
      },
      "source": [
        "numbers=[3,5,1,9,10]\n",
        "print(sorted(numbers))"
      ],
      "execution_count": null,
      "outputs": [
        {
          "output_type": "stream",
          "text": [
            "[1, 3, 5, 9, 10]\n"
          ],
          "name": "stdout"
        }
      ]
    },
    {
      "cell_type": "markdown",
      "metadata": {
        "id": "S3gW6QvXXDEi",
        "colab_type": "text"
      },
      "source": [
        "**Clear:-**"
      ]
    },
    {
      "cell_type": "code",
      "metadata": {
        "id": "eCVGQup4xdff",
        "colab_type": "code",
        "colab": {
          "base_uri": "https://localhost:8080/",
          "height": 34
        },
        "outputId": "585c6566-8089-4add-fb95-b7cb0bbb5822"
      },
      "source": [
        "numbers=[3,5,1,9,10]\n",
        "numbers.clear()\n",
        "print(numbers)"
      ],
      "execution_count": null,
      "outputs": [
        {
          "output_type": "stream",
          "text": [
            "[]\n"
          ],
          "name": "stdout"
        }
      ]
    },
    {
      "cell_type": "markdown",
      "metadata": {
        "id": "JBoJYXYVXG-Z",
        "colab_type": "text"
      },
      "source": [
        "**Copy:-**"
      ]
    },
    {
      "cell_type": "code",
      "metadata": {
        "id": "h7hxROK1xla_",
        "colab_type": "code",
        "colab": {
          "base_uri": "https://localhost:8080/",
          "height": 34
        },
        "outputId": "5db81262-634b-4b84-dc8e-dfc6db598012"
      },
      "source": [
        "numbers=[3,5,1,9,10]\n",
        "x=numbers.copy()\n",
        "print(x)"
      ],
      "execution_count": null,
      "outputs": [
        {
          "output_type": "stream",
          "text": [
            "[3, 5, 1, 9, 10]\n"
          ],
          "name": "stdout"
        }
      ]
    },
    {
      "cell_type": "markdown",
      "metadata": {
        "id": "NSKn3HHAXK-d",
        "colab_type": "text"
      },
      "source": [
        "**Reverse:-**"
      ]
    },
    {
      "cell_type": "code",
      "metadata": {
        "id": "PpRzOn2_xv0y",
        "colab_type": "code",
        "colab": {
          "base_uri": "https://localhost:8080/",
          "height": 34
        },
        "outputId": "4c99b0fd-8d7e-45f1-ffdb-a4df8a27ff42"
      },
      "source": [
        "numbers=[3,5,1,9,10]\n",
        "numbers.reverse()\n",
        "print(numbers)"
      ],
      "execution_count": null,
      "outputs": [
        {
          "output_type": "stream",
          "text": [
            "[10, 9, 1, 5, 3]\n"
          ],
          "name": "stdout"
        }
      ]
    },
    {
      "cell_type": "markdown",
      "metadata": {
        "id": "Ow5eKkBOXSCS",
        "colab_type": "text"
      },
      "source": [
        "**Is VS Equals-**Is keyword checks that whether the two lists are at the same place in the memory or not.Equals keyword checks hat whether the values in the two lists are same or not."
      ]
    },
    {
      "cell_type": "code",
      "metadata": {
        "id": "PXzCauKoyFLd",
        "colab_type": "code",
        "colab": {
          "base_uri": "https://localhost:8080/",
          "height": 67
        },
        "outputId": "e96480bb-5779-4c35-fdc3-c52cd2182af2"
      },
      "source": [
        "fruits1=['orange','apple','pear']\n",
        "fruits3=['orange','apple','pear']\n",
        "fruits2=['bnana','kiwi','apple','bnana']\n",
        "print(fruits1==fruits2)\n",
        "print(fruits1==fruits3)\n",
        "print(fruits1 is fruits3)"
      ],
      "execution_count": null,
      "outputs": [
        {
          "output_type": "stream",
          "text": [
            "False\n",
            "True\n",
            "False\n"
          ],
          "name": "stdout"
        }
      ]
    },
    {
      "cell_type": "markdown",
      "metadata": {
        "id": "RjUj6DQHXuVz",
        "colab_type": "text"
      },
      "source": [
        "**Join and split method-**Join method is used to convert list to string, while split method is ued to convert string to list."
      ]
    },
    {
      "cell_type": "code",
      "metadata": {
        "id": "axnECDNLz7Ec",
        "colab_type": "code",
        "colab": {
          "base_uri": "https://localhost:8080/",
          "height": 34
        },
        "outputId": "6180599e-6ec7-4a1c-9239-6b588f261954"
      },
      "source": [
        "user_info='harshit  24'.split()\n",
        "print(user_info)"
      ],
      "execution_count": null,
      "outputs": [
        {
          "output_type": "stream",
          "text": [
            "['harshit', '24']\n"
          ],
          "name": "stdout"
        }
      ]
    },
    {
      "cell_type": "code",
      "metadata": {
        "id": "z_Kb3uHo1QKn",
        "colab_type": "code",
        "colab": {
          "base_uri": "https://localhost:8080/",
          "height": 34
        },
        "outputId": "ae099658-ddb6-4c38-cd15-da6879c233b5"
      },
      "source": [
        "user_info=['harshit','24']\n",
        "print(','.join(user_info))"
      ],
      "execution_count": null,
      "outputs": [
        {
          "output_type": "stream",
          "text": [
            "harshit,24\n"
          ],
          "name": "stdout"
        }
      ]
    },
    {
      "cell_type": "markdown",
      "metadata": {
        "id": "8b9fhfmXYD_r",
        "colab_type": "text"
      },
      "source": [
        "**Looping in list:-**"
      ]
    },
    {
      "cell_type": "code",
      "metadata": {
        "id": "jnD6uAG41kqV",
        "colab_type": "code",
        "colab": {
          "base_uri": "https://localhost:8080/",
          "height": 101
        },
        "outputId": "21d9ea1e-a1d1-41fb-caba-a39acb02a090"
      },
      "source": [
        "fruits=['orange','apple','pear','bnana','kiwi']\n",
        "for fruit in fruits:\n",
        "  print(fruit)"
      ],
      "execution_count": null,
      "outputs": [
        {
          "output_type": "stream",
          "text": [
            "orange\n",
            "apple\n",
            "pear\n",
            "bnana\n",
            "kiwi\n"
          ],
          "name": "stdout"
        }
      ]
    },
    {
      "cell_type": "code",
      "metadata": {
        "id": "xhXF0WUO2EpK",
        "colab_type": "code",
        "colab": {
          "base_uri": "https://localhost:8080/",
          "height": 101
        },
        "outputId": "6753adf6-7063-43f6-cc6f-7c5dedf70a20"
      },
      "source": [
        "fruits=['orange','apple','pear','bnana','kiwi']\n",
        "i=0\n",
        "while i<len(fruits):\n",
        "  print(fruits[i])\n",
        "  i=i+1"
      ],
      "execution_count": null,
      "outputs": [
        {
          "output_type": "stream",
          "text": [
            "orange\n",
            "apple\n",
            "pear\n",
            "bnana\n",
            "kiwi\n"
          ],
          "name": "stdout"
        }
      ]
    },
    {
      "cell_type": "markdown",
      "metadata": {
        "id": "blCojsZaYOUm",
        "colab_type": "text"
      },
      "source": [
        "**List inside list:-**"
      ]
    },
    {
      "cell_type": "code",
      "metadata": {
        "id": "IWaRayNu2fJ2",
        "colab_type": "code",
        "colab": {
          "base_uri": "https://localhost:8080/",
          "height": 34
        },
        "outputId": "0dd0fdca-94f0-4388-c67c-2c7a23e2feeb"
      },
      "source": [
        "matrix=[[1,2,3],[4,5,6],[7,8,9]]\n",
        "print(matrix[2])"
      ],
      "execution_count": null,
      "outputs": [
        {
          "output_type": "stream",
          "text": [
            "[7, 8, 9]\n"
          ],
          "name": "stdout"
        }
      ]
    },
    {
      "cell_type": "code",
      "metadata": {
        "id": "HI_PAtEc4AHE",
        "colab_type": "code",
        "colab": {
          "base_uri": "https://localhost:8080/",
          "height": 67
        },
        "outputId": "464df4d8-ddd4-4ce6-fef9-1c060c6d84f5"
      },
      "source": [
        "matrix=[[1,2,3],[4,5,6],[7,8,9]]\n",
        "for i in matrix:\n",
        "  print(i)"
      ],
      "execution_count": null,
      "outputs": [
        {
          "output_type": "stream",
          "text": [
            "[1, 2, 3]\n",
            "[4, 5, 6]\n",
            "[7, 8, 9]\n"
          ],
          "name": "stdout"
        }
      ]
    },
    {
      "cell_type": "code",
      "metadata": {
        "id": "IqxrKPFp4M49",
        "colab_type": "code",
        "colab": {
          "base_uri": "https://localhost:8080/",
          "height": 168
        },
        "outputId": "1e02ad4c-980c-4b04-901a-ce0c8b0b5ab6"
      },
      "source": [
        "matrix=[[1,2,3],[4,5,6],[7,8,9]]\n",
        "for sublist in matrix:\n",
        "  for i in sublist:\n",
        "    print(i)"
      ],
      "execution_count": null,
      "outputs": [
        {
          "output_type": "stream",
          "text": [
            "1\n",
            "2\n",
            "3\n",
            "4\n",
            "5\n",
            "6\n",
            "7\n",
            "8\n",
            "9\n"
          ],
          "name": "stdout"
        }
      ]
    },
    {
      "cell_type": "code",
      "metadata": {
        "id": "15w6ce0T4Vic",
        "colab_type": "code",
        "colab": {
          "base_uri": "https://localhost:8080/",
          "height": 34
        },
        "outputId": "2320e3b7-d402-485f-c028-fb48f50fec1e"
      },
      "source": [
        "matrix=[[1,2,3],[4,5,6],[7,8,9]]\n",
        "print(matrix[1][1])"
      ],
      "execution_count": null,
      "outputs": [
        {
          "output_type": "stream",
          "text": [
            "5\n"
          ],
          "name": "stdout"
        }
      ]
    },
    {
      "cell_type": "code",
      "metadata": {
        "id": "M1ttkgfm4cCE",
        "colab_type": "code",
        "colab": {
          "base_uri": "https://localhost:8080/",
          "height": 34
        },
        "outputId": "64316460-8b25-4d53-a6d1-86d49f59c8fd"
      },
      "source": [
        "matrix=[[1,2,3],[4,5,6],[7,8,9]]\n",
        "print(type(matrix))"
      ],
      "execution_count": null,
      "outputs": [
        {
          "output_type": "stream",
          "text": [
            "<class 'list'>\n"
          ],
          "name": "stdout"
        }
      ]
    },
    {
      "cell_type": "markdown",
      "metadata": {
        "id": "BCLr0QLiYbGy",
        "colab_type": "text"
      },
      "source": [
        "**Generate lists with range functions:-**"
      ]
    },
    {
      "cell_type": "code",
      "metadata": {
        "id": "myydDKn_4kUC",
        "colab_type": "code",
        "colab": {
          "base_uri": "https://localhost:8080/",
          "height": 34
        },
        "outputId": "a8cc41dc-91a4-4cbf-a24a-084eb8366e3c"
      },
      "source": [
        "numbers=list(range(1,11))\n",
        "print(numbers)"
      ],
      "execution_count": null,
      "outputs": [
        {
          "output_type": "stream",
          "text": [
            "[1, 2, 3, 4, 5, 6, 7, 8, 9, 10]\n"
          ],
          "name": "stdout"
        }
      ]
    },
    {
      "cell_type": "code",
      "metadata": {
        "id": "M69Qsx7f6Cdh",
        "colab_type": "code",
        "colab": {
          "base_uri": "https://localhost:8080/",
          "height": 34
        },
        "outputId": "886175a3-c7a7-447c-ddd4-cbc14cec847f"
      },
      "source": [
        "numbers.pop()\n",
        "print(numbers)"
      ],
      "execution_count": null,
      "outputs": [
        {
          "output_type": "stream",
          "text": [
            "[1, 2, 3, 4, 5, 6, 7, 8, 9]\n"
          ],
          "name": "stdout"
        }
      ]
    },
    {
      "cell_type": "markdown",
      "metadata": {
        "id": "tEA9XkgSYkz6",
        "colab_type": "text"
      },
      "source": [
        "**Index method:-**"
      ]
    },
    {
      "cell_type": "code",
      "metadata": {
        "id": "xIkwOPph6JdB",
        "colab_type": "code",
        "colab": {
          "base_uri": "https://localhost:8080/",
          "height": 34
        },
        "outputId": "5c73519b-7022-45ab-a61e-ace7c43b64b9"
      },
      "source": [
        "print(numbers.index(1))"
      ],
      "execution_count": null,
      "outputs": [
        {
          "output_type": "stream",
          "text": [
            "0\n"
          ],
          "name": "stdout"
        }
      ]
    },
    {
      "cell_type": "code",
      "metadata": {
        "id": "pxqN3KLH6P7h",
        "colab_type": "code",
        "colab": {
          "base_uri": "https://localhost:8080/",
          "height": 178
        },
        "outputId": "89404683-fe8f-46b7-cd74-e54f764ae1ac"
      },
      "source": [
        "numbers=[1,2,3,4,5,6,7,8,9,10,1,5,7,8,1]\n",
        "print(numbers.index(1,11,14))"
      ],
      "execution_count": null,
      "outputs": [
        {
          "output_type": "error",
          "ename": "ValueError",
          "evalue": "ignored",
          "traceback": [
            "\u001b[0;31m---------------------------------------------------------------------------\u001b[0m",
            "\u001b[0;31mValueError\u001b[0m                                Traceback (most recent call last)",
            "\u001b[0;32m<ipython-input-67-152a8d47f37a>\u001b[0m in \u001b[0;36m<module>\u001b[0;34m()\u001b[0m\n\u001b[1;32m      1\u001b[0m \u001b[0mnumbers\u001b[0m\u001b[0;34m=\u001b[0m\u001b[0;34m[\u001b[0m\u001b[0;36m1\u001b[0m\u001b[0;34m,\u001b[0m\u001b[0;36m2\u001b[0m\u001b[0;34m,\u001b[0m\u001b[0;36m3\u001b[0m\u001b[0;34m,\u001b[0m\u001b[0;36m4\u001b[0m\u001b[0;34m,\u001b[0m\u001b[0;36m5\u001b[0m\u001b[0;34m,\u001b[0m\u001b[0;36m6\u001b[0m\u001b[0;34m,\u001b[0m\u001b[0;36m7\u001b[0m\u001b[0;34m,\u001b[0m\u001b[0;36m8\u001b[0m\u001b[0;34m,\u001b[0m\u001b[0;36m9\u001b[0m\u001b[0;34m,\u001b[0m\u001b[0;36m10\u001b[0m\u001b[0;34m,\u001b[0m\u001b[0;36m1\u001b[0m\u001b[0;34m,\u001b[0m\u001b[0;36m5\u001b[0m\u001b[0;34m,\u001b[0m\u001b[0;36m7\u001b[0m\u001b[0;34m,\u001b[0m\u001b[0;36m8\u001b[0m\u001b[0;34m,\u001b[0m\u001b[0;36m1\u001b[0m\u001b[0;34m]\u001b[0m\u001b[0;34m\u001b[0m\u001b[0;34m\u001b[0m\u001b[0m\n\u001b[0;32m----> 2\u001b[0;31m \u001b[0mprint\u001b[0m\u001b[0;34m(\u001b[0m\u001b[0mnumbers\u001b[0m\u001b[0;34m.\u001b[0m\u001b[0mindex\u001b[0m\u001b[0;34m(\u001b[0m\u001b[0;36m1\u001b[0m\u001b[0;34m,\u001b[0m\u001b[0;36m11\u001b[0m\u001b[0;34m,\u001b[0m\u001b[0;36m14\u001b[0m\u001b[0;34m)\u001b[0m\u001b[0;34m)\u001b[0m\u001b[0;34m\u001b[0m\u001b[0;34m\u001b[0m\u001b[0m\n\u001b[0m",
            "\u001b[0;31mValueError\u001b[0m: 1 is not in list"
          ]
        }
      ]
    },
    {
      "cell_type": "markdown",
      "metadata": {
        "id": "2qKB85IGYsga",
        "colab_type": "text"
      },
      "source": [
        "**Pass list to a function:-**"
      ]
    },
    {
      "cell_type": "code",
      "metadata": {
        "id": "iIHfhD1l6mKG",
        "colab_type": "code",
        "colab": {
          "base_uri": "https://localhost:8080/",
          "height": 34
        },
        "outputId": "f1c0e217-8605-4f91-de47-c57249e42912"
      },
      "source": [
        "numbers=[1,2,3,4,5,6,7,8,9,10]\n",
        "def negative_list(l):\n",
        "  negative=[]\n",
        "  for i in l:\n",
        "    negative.append(-i)\n",
        "  return negative\n",
        "print(negative_list(numbers))"
      ],
      "execution_count": null,
      "outputs": [
        {
          "output_type": "stream",
          "text": [
            "[-1, -2, -3, -4, -5, -6, -7, -8, -9, -10]\n"
          ],
          "name": "stdout"
        }
      ]
    },
    {
      "cell_type": "markdown",
      "metadata": {
        "id": "K29nkyzPY5z4",
        "colab_type": "text"
      },
      "source": [
        "**Min and max functions-**These functions are used to find the smallest and the greatest numbers in a list."
      ]
    },
    {
      "cell_type": "code",
      "metadata": {
        "id": "Hnnd_CSs67kx",
        "colab_type": "code",
        "colab": {
          "base_uri": "https://localhost:8080/",
          "height": 50
        },
        "outputId": "e858abc7-c47c-4b84-dced-ea54e1af7045"
      },
      "source": [
        "numbers=[6,60,2]\n",
        "print(min(numbers))\n",
        "print(max(numbers))"
      ],
      "execution_count": null,
      "outputs": [
        {
          "output_type": "stream",
          "text": [
            "2\n",
            "60\n"
          ],
          "name": "stdout"
        }
      ]
    },
    {
      "cell_type": "code",
      "metadata": {
        "id": "QVjA0j1K8D_Z",
        "colab_type": "code",
        "colab": {
          "base_uri": "https://localhost:8080/",
          "height": 34
        },
        "outputId": "5df8cd06-639e-45db-fe3f-a3c4ee4d12fe"
      },
      "source": [
        "def greatest_diff(l):\n",
        "  return max(l)-min(l)\n",
        "print(greatest_diff(numbers))"
      ],
      "execution_count": null,
      "outputs": [
        {
          "output_type": "stream",
          "text": [
            "58\n"
          ],
          "name": "stdout"
        }
      ]
    },
    {
      "cell_type": "markdown",
      "metadata": {
        "id": "F_6nzOa5ZOio",
        "colab_type": "text"
      },
      "source": [
        "#**Chapter - 6**"
      ]
    },
    {
      "cell_type": "markdown",
      "metadata": {
        "id": "-gwbKpDCZUNe",
        "colab_type": "text"
      },
      "source": [
        "**Tuple-**Tuple is a data structure which can store any data type. The most important thing about tuples is that tuples are immutable,i.e., once tuple is created, we an't update it. In tuple, there is no data append, no insert, no pop, no remove."
      ]
    },
    {
      "cell_type": "markdown",
      "metadata": {
        "id": "3jpbj81ZZ-On",
        "colab_type": "text"
      },
      "source": [
        "**Methods used in tuples are-**\n",
        "\n",
        "\n",
        "1.   count, index\n",
        "2.   len function, slicing\n",
        "\n"
      ]
    },
    {
      "cell_type": "code",
      "metadata": {
        "id": "7_QVyK2D8bJh",
        "colab_type": "code",
        "colab": {
          "base_uri": "https://localhost:8080/",
          "height": 34
        },
        "outputId": "8c725103-fcac-4ddd-f256-00921219a36b"
      },
      "source": [
        "example=('one','two','three')\n",
        "print(example[:2])"
      ],
      "execution_count": null,
      "outputs": [
        {
          "output_type": "stream",
          "text": [
            "('one', 'two')\n"
          ],
          "name": "stdout"
        }
      ]
    },
    {
      "cell_type": "code",
      "metadata": {
        "id": "wv-Dz2PM1Mvx",
        "colab_type": "code",
        "colab": {
          "base_uri": "https://localhost:8080/",
          "height": 178
        },
        "outputId": "a9035fce-a274-4cfe-9e97-bb12fd185d06"
      },
      "source": [
        "example[0]=1\n",
        "print(example)"
      ],
      "execution_count": null,
      "outputs": [
        {
          "output_type": "error",
          "ename": "TypeError",
          "evalue": "ignored",
          "traceback": [
            "\u001b[0;31m---------------------------------------------------------------------------\u001b[0m",
            "\u001b[0;31mTypeError\u001b[0m                                 Traceback (most recent call last)",
            "\u001b[0;32m<ipython-input-4-73b02d24a4e5>\u001b[0m in \u001b[0;36m<module>\u001b[0;34m()\u001b[0m\n\u001b[0;32m----> 1\u001b[0;31m \u001b[0mexample\u001b[0m\u001b[0;34m[\u001b[0m\u001b[0;36m0\u001b[0m\u001b[0;34m]\u001b[0m\u001b[0;34m=\u001b[0m\u001b[0;36m1\u001b[0m\u001b[0;34m\u001b[0m\u001b[0;34m\u001b[0m\u001b[0m\n\u001b[0m\u001b[1;32m      2\u001b[0m \u001b[0mprint\u001b[0m\u001b[0;34m(\u001b[0m\u001b[0mexample\u001b[0m\u001b[0;34m)\u001b[0m\u001b[0;34m\u001b[0m\u001b[0;34m\u001b[0m\u001b[0m\n",
            "\u001b[0;31mTypeError\u001b[0m: 'tuple' object does not support item assignment"
          ]
        }
      ]
    },
    {
      "cell_type": "markdown",
      "metadata": {
        "id": "Pe5k07oYaNzL",
        "colab_type": "text"
      },
      "source": [
        "**Looping in tuples:-**"
      ]
    },
    {
      "cell_type": "code",
      "metadata": {
        "id": "FZzWd7bM1Zpx",
        "colab_type": "code",
        "colab": {
          "base_uri": "https://localhost:8080/",
          "height": 84
        },
        "outputId": "6f70af60-d95e-4036-b4e9-38b35bfd58fc"
      },
      "source": [
        "mixed=(1,2,3,4.0)\n",
        "for i in mixed:\n",
        "  print(i)"
      ],
      "execution_count": null,
      "outputs": [
        {
          "output_type": "stream",
          "text": [
            "1\n",
            "2\n",
            "3\n",
            "4.0\n"
          ],
          "name": "stdout"
        }
      ]
    },
    {
      "cell_type": "markdown",
      "metadata": {
        "id": "GsIGR2ABaU1G",
        "colab_type": "text"
      },
      "source": [
        "**Tuple with one element-**We have to type comma after giving value into the tuple, if we are making tuple f one element, otherwise, the type will change into int or string."
      ]
    },
    {
      "cell_type": "code",
      "metadata": {
        "id": "6pwf8buf1rp7",
        "colab_type": "code",
        "colab": {
          "base_uri": "https://localhost:8080/",
          "height": 34
        },
        "outputId": "6afa3833-4444-4ddf-f974-d2bb5f3d71ad"
      },
      "source": [
        "nums=(1)\n",
        "print(type(nums))"
      ],
      "execution_count": null,
      "outputs": [
        {
          "output_type": "stream",
          "text": [
            "<class 'int'>\n"
          ],
          "name": "stdout"
        }
      ]
    },
    {
      "cell_type": "code",
      "metadata": {
        "id": "nSS5fQZC1zfZ",
        "colab_type": "code",
        "colab": {
          "base_uri": "https://localhost:8080/",
          "height": 34
        },
        "outputId": "8c549d57-b3ef-496e-e928-e50d3ddbf9d4"
      },
      "source": [
        "nums=(1,)\n",
        "print(type(nums))"
      ],
      "execution_count": null,
      "outputs": [
        {
          "output_type": "stream",
          "text": [
            "<class 'tuple'>\n"
          ],
          "name": "stdout"
        }
      ]
    },
    {
      "cell_type": "markdown",
      "metadata": {
        "id": "nYneBrHWarXc",
        "colab_type": "text"
      },
      "source": [
        "**Tuple without parenthesis-**If you give more than one strings in a variable, then by default it will become a tuple."
      ]
    },
    {
      "cell_type": "code",
      "metadata": {
        "id": "mQlNrgY71_5A",
        "colab_type": "code",
        "colab": {
          "base_uri": "https://localhost:8080/",
          "height": 34
        },
        "outputId": "e5e07dde-5265-4e97-aaea-7a59000e1984"
      },
      "source": [
        "guitars='yamaha','baton rogue','taylor'\n",
        "print(type(guitars))"
      ],
      "execution_count": null,
      "outputs": [
        {
          "output_type": "stream",
          "text": [
            "<class 'tuple'>\n"
          ],
          "name": "stdout"
        }
      ]
    },
    {
      "cell_type": "markdown",
      "metadata": {
        "id": "b_zMValTa-aS",
        "colab_type": "text"
      },
      "source": [
        "**Tuple unpacking-**In tuple unpacking, we have to take the number of variables which are equal to the number of elements in the list."
      ]
    },
    {
      "cell_type": "code",
      "metadata": {
        "id": "7ES-FfMM2ZiJ",
        "colab_type": "code",
        "colab": {
          "base_uri": "https://localhost:8080/",
          "height": 34
        },
        "outputId": "7c4fea5a-c339-4d86-9456-3a76fc323693"
      },
      "source": [
        "guitarists=('Maneli Jamal','Eddie Van Der Meer','Andrew Foy')\n",
        "guitarist1,guitarist2,guitarist3=(guitarists)\n",
        "print(guitarist1)"
      ],
      "execution_count": null,
      "outputs": [
        {
          "output_type": "stream",
          "text": [
            "Maneli Jamal\n"
          ],
          "name": "stdout"
        }
      ]
    },
    {
      "cell_type": "markdown",
      "metadata": {
        "id": "tnIN3cDwbSUT",
        "colab_type": "text"
      },
      "source": [
        "**List inside tuples:-**"
      ]
    },
    {
      "cell_type": "code",
      "metadata": {
        "id": "3pjX7vW424Vr",
        "colab_type": "code",
        "colab": {
          "base_uri": "https://localhost:8080/",
          "height": 34
        },
        "outputId": "5d95243d-b38d-4e2b-efd8-16f2266801d5"
      },
      "source": [
        "favorites=('southern mangolia',['Tokyo Ghoul Theme','Landscape'])\n",
        "favorites[1].pop()\n",
        "print(favorites)"
      ],
      "execution_count": null,
      "outputs": [
        {
          "output_type": "stream",
          "text": [
            "('southern mangolia', ['Tokyo Ghoul Theme'])\n"
          ],
          "name": "stdout"
        }
      ]
    },
    {
      "cell_type": "code",
      "metadata": {
        "id": "qKLloRLl3bC-",
        "colab_type": "code",
        "colab": {
          "base_uri": "https://localhost:8080/",
          "height": 34
        },
        "outputId": "3994ad05-8a28-4944-dd70-538cd74565f1"
      },
      "source": [
        "favorites[1].append('We made it')\n",
        "print(favorites)"
      ],
      "execution_count": null,
      "outputs": [
        {
          "output_type": "stream",
          "text": [
            "('southern mangolia', ['Tokyo Ghoul Theme', 'We made it'])\n"
          ],
          "name": "stdout"
        }
      ]
    },
    {
      "cell_type": "markdown",
      "metadata": {
        "id": "e9MRh1KvbZ7W",
        "colab_type": "text"
      },
      "source": [
        "**Some functions in tuples:-**"
      ]
    },
    {
      "cell_type": "markdown",
      "metadata": {
        "id": "t3tt1pwebef4",
        "colab_type": "text"
      },
      "source": [
        "**min()**"
      ]
    },
    {
      "cell_type": "code",
      "metadata": {
        "id": "_jsAsk_U3y-5",
        "colab_type": "code",
        "colab": {
          "base_uri": "https://localhost:8080/",
          "height": 34
        },
        "outputId": "c5255de6-4356-4f0d-e022-980a6477f074"
      },
      "source": [
        "mixed=(1,2,3,4.0)\n",
        "print(min(mixed))"
      ],
      "execution_count": null,
      "outputs": [
        {
          "output_type": "stream",
          "text": [
            "1\n"
          ],
          "name": "stdout"
        }
      ]
    },
    {
      "cell_type": "markdown",
      "metadata": {
        "id": "x7LMKGB-bihe",
        "colab_type": "text"
      },
      "source": [
        "**max()**"
      ]
    },
    {
      "cell_type": "code",
      "metadata": {
        "id": "-4J45yxN4ESZ",
        "colab_type": "code",
        "colab": {
          "base_uri": "https://localhost:8080/",
          "height": 34
        },
        "outputId": "a6ae1e0b-ae5d-4165-8c7b-067ded87dead"
      },
      "source": [
        "mixed=(1,2,3,4.0)\n",
        "print(max(mixed))"
      ],
      "execution_count": null,
      "outputs": [
        {
          "output_type": "stream",
          "text": [
            "4.0\n"
          ],
          "name": "stdout"
        }
      ]
    },
    {
      "cell_type": "markdown",
      "metadata": {
        "id": "QoLwV_VvbmHK",
        "colab_type": "text"
      },
      "source": [
        "**sum()**"
      ]
    },
    {
      "cell_type": "code",
      "metadata": {
        "id": "ltGZ1QYn4J-R",
        "colab_type": "code",
        "colab": {
          "base_uri": "https://localhost:8080/",
          "height": 34
        },
        "outputId": "b0cf1b52-9cf1-44f9-f0a0-16de33497740"
      },
      "source": [
        "mixed=(1,2,3,4.0)\n",
        "print(sum(mixed))"
      ],
      "execution_count": null,
      "outputs": [
        {
          "output_type": "stream",
          "text": [
            "10.0\n"
          ],
          "name": "stdout"
        }
      ]
    },
    {
      "cell_type": "markdown",
      "metadata": {
        "id": "2EbzFB01bqNF",
        "colab_type": "text"
      },
      "source": [
        "**Function returning two values:-**"
      ]
    },
    {
      "cell_type": "code",
      "metadata": {
        "id": "8pjtOYk-4PKp",
        "colab_type": "code",
        "colab": {
          "base_uri": "https://localhost:8080/",
          "height": 34
        },
        "outputId": "f69b319d-457e-4e4d-edec-f1a6a00250bd"
      },
      "source": [
        "def func(int1,int2):\n",
        "  add=int1+int2\n",
        "  multiply=int1*int2\n",
        "  return add,multiply\n",
        "print(func(2,3))"
      ],
      "execution_count": null,
      "outputs": [
        {
          "output_type": "stream",
          "text": [
            "(5, 6)\n"
          ],
          "name": "stdout"
        }
      ]
    },
    {
      "cell_type": "markdown",
      "metadata": {
        "id": "7f61CJY0b5R8",
        "colab_type": "text"
      },
      "source": [
        "**More about tuple, list, str:-**"
      ]
    },
    {
      "cell_type": "code",
      "metadata": {
        "id": "OBWGE14P4zSS",
        "colab_type": "code",
        "colab": {
          "base_uri": "https://localhost:8080/",
          "height": 34
        },
        "outputId": "41f6e824-31c1-4d75-9afc-7fdf1a800412"
      },
      "source": [
        "nums=tuple(range(1,11))\n",
        "print(nums)"
      ],
      "execution_count": null,
      "outputs": [
        {
          "output_type": "stream",
          "text": [
            "(1, 2, 3, 4, 5, 6, 7, 8, 9, 10)\n"
          ],
          "name": "stdout"
        }
      ]
    },
    {
      "cell_type": "code",
      "metadata": {
        "id": "z5qnphG647zS",
        "colab_type": "code",
        "colab": {
          "base_uri": "https://localhost:8080/",
          "height": 34
        },
        "outputId": "6978f901-c419-4c3b-88aa-6a3b7be6d1f8"
      },
      "source": [
        "nums=list((range(1,11)))\n",
        "print(nums)"
      ],
      "execution_count": null,
      "outputs": [
        {
          "output_type": "stream",
          "text": [
            "[1, 2, 3, 4, 5, 6, 7, 8, 9, 10]\n"
          ],
          "name": "stdout"
        }
      ]
    },
    {
      "cell_type": "code",
      "metadata": {
        "id": "tvwftBiZ5Jj-",
        "colab_type": "code",
        "colab": {
          "base_uri": "https://localhost:8080/",
          "height": 50
        },
        "outputId": "becab460-75a5-4c94-b92c-fbc365ff6c70"
      },
      "source": [
        "nums=str((1,2,3,4,5,6,7,8,9,10))\n",
        "print(nums)\n",
        "print(type(nums))"
      ],
      "execution_count": null,
      "outputs": [
        {
          "output_type": "stream",
          "text": [
            "(1, 2, 3, 4, 5, 6, 7, 8, 9, 10)\n",
            "<class 'str'>\n"
          ],
          "name": "stdout"
        }
      ]
    },
    {
      "cell_type": "markdown",
      "metadata": {
        "id": "-7XPaJgicEh6",
        "colab_type": "text"
      },
      "source": [
        "#**Chapter - 7**"
      ]
    },
    {
      "cell_type": "markdown",
      "metadata": {
        "id": "_Vl_LDQ8cJ2H",
        "colab_type": "text"
      },
      "source": [
        "**Dictionaries-**Dictionaries are unordered collection of data in key:value pair. We use dictionaries because f some limitations of lists, as lists are not enough to represent real data."
      ]
    },
    {
      "cell_type": "code",
      "metadata": {
        "id": "07PlnHav5TN_",
        "colab_type": "code",
        "colab": {
          "base_uri": "https://localhost:8080/",
          "height": 50
        },
        "outputId": "07aa106b-e6c7-4dac-e648-0ff0819bac7c"
      },
      "source": [
        "user={'name':'Adarsh','Age':19}\n",
        "print(user)\n",
        "print(type(user))"
      ],
      "execution_count": null,
      "outputs": [
        {
          "output_type": "stream",
          "text": [
            "{'name': 'Adarsh', 'Age': 24}\n",
            "<class 'dict'>\n"
          ],
          "name": "stdout"
        }
      ]
    },
    {
      "cell_type": "code",
      "metadata": {
        "id": "jdA8G5Dz5_JR",
        "colab_type": "code",
        "colab": {
          "base_uri": "https://localhost:8080/",
          "height": 34
        },
        "outputId": "dfc208a0-3648-49ec-c9b6-bad6abb8c409"
      },
      "source": [
        "user=dict(name='Adarsh',Age=19)\n",
        "print(user)"
      ],
      "execution_count": null,
      "outputs": [
        {
          "output_type": "stream",
          "text": [
            "{'name': 'Adarsh', 'Age': 19}\n"
          ],
          "name": "stdout"
        }
      ]
    },
    {
      "cell_type": "markdown",
      "metadata": {
        "id": "tiMaJQ_idRLL",
        "colab_type": "text"
      },
      "source": [
        "**How to access data from dictionary-**There is no indexing in dictionary, as it is an unordered collection of data."
      ]
    },
    {
      "cell_type": "code",
      "metadata": {
        "id": "wu5qFYwJ6N9f",
        "colab_type": "code",
        "colab": {
          "base_uri": "https://localhost:8080/",
          "height": 34
        },
        "outputId": "019c42ba-d5f0-47dd-a934-147a02eda9c6"
      },
      "source": [
        "user=dict(name='Adarsh',Age=19)\n",
        "print(user['name'])"
      ],
      "execution_count": null,
      "outputs": [
        {
          "output_type": "stream",
          "text": [
            "Adarsh\n"
          ],
          "name": "stdout"
        }
      ]
    },
    {
      "cell_type": "markdown",
      "metadata": {
        "id": "7O4oKathdt8_",
        "colab_type": "text"
      },
      "source": [
        "**NOTE-**We can store anything or any type of data in dictionary."
      ]
    },
    {
      "cell_type": "code",
      "metadata": {
        "id": "YMTBPrd46YFz",
        "colab_type": "code",
        "colab": {
          "base_uri": "https://localhost:8080/",
          "height": 34
        },
        "outputId": "cff91cd5-9897-4dd2-8fd3-f7e5de6cbe4f"
      },
      "source": [
        "user_info={\n",
        "    'Name':'Adarsh',\n",
        "    'Age':19,\n",
        "    'fav_movies':['coco','avengers'],\n",
        "    'fav_tunes':['awakening','fairy tale']\n",
        "}\n",
        "print(user_info['fav_movies'])"
      ],
      "execution_count": null,
      "outputs": [
        {
          "output_type": "stream",
          "text": [
            "['coco', 'avengers']\n"
          ],
          "name": "stdout"
        }
      ]
    },
    {
      "cell_type": "markdown",
      "metadata": {
        "id": "a8tNuKd_d9Ah",
        "colab_type": "text"
      },
      "source": [
        "**NOTE-**We can also add a dictionary into another dictionary."
      ]
    },
    {
      "cell_type": "markdown",
      "metadata": {
        "id": "c2XZvj6_eMBZ",
        "colab_type": "text"
      },
      "source": [
        "**Add data in an empty dictionary:-**"
      ]
    },
    {
      "cell_type": "code",
      "metadata": {
        "id": "gINefOr77tlc",
        "colab_type": "code",
        "colab": {
          "base_uri": "https://localhost:8080/",
          "height": 34
        },
        "outputId": "b0426310-5611-4eae-b048-6f184275a4c1"
      },
      "source": [
        "user_info2={}\n",
        "user_info2['name']='mohit'\n",
        "print(user_info2)"
      ],
      "execution_count": null,
      "outputs": [
        {
          "output_type": "stream",
          "text": [
            "{'name': 'mohit'}\n"
          ],
          "name": "stdout"
        }
      ]
    },
    {
      "cell_type": "markdown",
      "metadata": {
        "id": "8s9AR3pweb1c",
        "colab_type": "text"
      },
      "source": [
        "**In keyword and iterations in dictionary:-**"
      ]
    },
    {
      "cell_type": "code",
      "metadata": {
        "id": "-jxQgE8n8LBQ",
        "colab_type": "code",
        "colab": {}
      },
      "source": [
        "user_info={\n",
        "    'Name':'Adarsh',\n",
        "    'Age':19,\n",
        "    'fav_movies':['coco','avengers'],\n",
        "    'fav_tunes':['awakening','fairy tale']\n",
        "}"
      ],
      "execution_count": null,
      "outputs": []
    },
    {
      "cell_type": "markdown",
      "metadata": {
        "id": "_L42bQNkei8P",
        "colab_type": "text"
      },
      "source": [
        "**Check if key exist in dictionary:-**"
      ]
    },
    {
      "cell_type": "code",
      "metadata": {
        "id": "viIDq9Ih8ZVg",
        "colab_type": "code",
        "colab": {
          "base_uri": "https://localhost:8080/",
          "height": 34
        },
        "outputId": "44c653cc-2ee7-4b9e-83ec-a0b13f66475f"
      },
      "source": [
        "if 'Name' in user_info:\n",
        "  print('present')\n",
        "else:\n",
        "  print('not present')"
      ],
      "execution_count": null,
      "outputs": [
        {
          "output_type": "stream",
          "text": [
            "present\n"
          ],
          "name": "stdout"
        }
      ]
    },
    {
      "cell_type": "markdown",
      "metadata": {
        "id": "0ojb_J6AeqD6",
        "colab_type": "text"
      },
      "source": [
        "**Check if value exist in dictionary:-**"
      ]
    },
    {
      "cell_type": "code",
      "metadata": {
        "id": "K-5zHPm-8kbQ",
        "colab_type": "code",
        "colab": {
          "base_uri": "https://localhost:8080/",
          "height": 34
        },
        "outputId": "03a1f6ee-1e51-46a9-9b04-fde3d44b2cb7"
      },
      "source": [
        "if 'Adarsh' in user_info.values():\n",
        "  print('present')\n",
        "else:\n",
        "  print('not present')"
      ],
      "execution_count": null,
      "outputs": [
        {
          "output_type": "stream",
          "text": [
            "present\n"
          ],
          "name": "stdout"
        }
      ]
    },
    {
      "cell_type": "code",
      "metadata": {
        "id": "cCCd2mYW8-PJ",
        "colab_type": "code",
        "colab": {
          "base_uri": "https://localhost:8080/",
          "height": 34
        },
        "outputId": "165ee0fc-9fb8-4d81-9bcd-bd03f728f159"
      },
      "source": [
        "if 19 in user_info.values():\n",
        "  print('present')\n",
        "else:\n",
        "  print('not present')"
      ],
      "execution_count": null,
      "outputs": [
        {
          "output_type": "stream",
          "text": [
            "present\n"
          ],
          "name": "stdout"
        }
      ]
    },
    {
      "cell_type": "code",
      "metadata": {
        "id": "lpaHypvC9Naj",
        "colab_type": "code",
        "colab": {
          "base_uri": "https://localhost:8080/",
          "height": 34
        },
        "outputId": "a0606a03-840a-4d2d-bd73-5b026a577028"
      },
      "source": [
        "if ['coco','avengers'] in user_info.values():\n",
        "  print('present')\n",
        "else:\n",
        "  print('not present')"
      ],
      "execution_count": null,
      "outputs": [
        {
          "output_type": "stream",
          "text": [
            "present\n"
          ],
          "name": "stdout"
        }
      ]
    },
    {
      "cell_type": "markdown",
      "metadata": {
        "id": "3jPMDmkpft4n",
        "colab_type": "text"
      },
      "source": [
        "**Loops in dictionaries:-**"
      ]
    },
    {
      "cell_type": "code",
      "metadata": {
        "id": "yFNUBCHB9f1G",
        "colab_type": "code",
        "colab": {
          "base_uri": "https://localhost:8080/",
          "height": 84
        },
        "outputId": "e36808fd-517d-408c-d05c-0d8a58200b7f"
      },
      "source": [
        "for i in user_info:\n",
        "  print(i)"
      ],
      "execution_count": null,
      "outputs": [
        {
          "output_type": "stream",
          "text": [
            "Name\n",
            "Age\n",
            "fav_movies\n",
            "fav_tunes\n"
          ],
          "name": "stdout"
        }
      ]
    },
    {
      "cell_type": "code",
      "metadata": {
        "id": "jMg_YIT9-iyN",
        "colab_type": "code",
        "colab": {
          "base_uri": "https://localhost:8080/",
          "height": 84
        },
        "outputId": "5dbe4a8a-c8fa-4314-a3bc-5619de2a8420"
      },
      "source": [
        "for i in user_info.values():\n",
        "  print(i)"
      ],
      "execution_count": null,
      "outputs": [
        {
          "output_type": "stream",
          "text": [
            "Adarsh\n",
            "19\n",
            "['coco', 'avengers']\n",
            "['awakening', 'fairy tale']\n"
          ],
          "name": "stdout"
        }
      ]
    },
    {
      "cell_type": "markdown",
      "metadata": {
        "id": "5Vfcllxjf7jc",
        "colab_type": "text"
      },
      "source": [
        "**Values method:-**"
      ]
    },
    {
      "cell_type": "code",
      "metadata": {
        "id": "bDVUXvrC-pTN",
        "colab_type": "code",
        "colab": {
          "base_uri": "https://localhost:8080/",
          "height": 50
        },
        "outputId": "7cc95d0e-abbe-4917-8b62-b737eeeab54f"
      },
      "source": [
        "user_info={\n",
        "    'Name':'Adarsh',\n",
        "    'Age':19,\n",
        "    'fav_movies':['coco','avengers'],\n",
        "    'fav_tunes':['awakening','fairy tale']\n",
        "}\n",
        "user_info_values=user_info.values()\n",
        "print(user_info_values)\n",
        "print(type(user_info_values))"
      ],
      "execution_count": null,
      "outputs": [
        {
          "output_type": "stream",
          "text": [
            "dict_values(['Adarsh', 19, ['coco', 'avengers'], ['awakening', 'fairy tale']])\n",
            "<class 'dict_values'>\n"
          ],
          "name": "stdout"
        }
      ]
    },
    {
      "cell_type": "markdown",
      "metadata": {
        "id": "8mssg3mKf_-j",
        "colab_type": "text"
      },
      "source": [
        "**Keys method:-**"
      ]
    },
    {
      "cell_type": "code",
      "metadata": {
        "id": "m1jslMHY-avA",
        "colab_type": "code",
        "colab": {
          "base_uri": "https://localhost:8080/",
          "height": 50
        },
        "outputId": "64f7f26d-4e33-4c12-86c8-fc4ddffccd22"
      },
      "source": [
        "user_info_keys=user_info.keys()\n",
        "print(user_info_keys)\n",
        "print(type(user_info_keys))"
      ],
      "execution_count": null,
      "outputs": [
        {
          "output_type": "stream",
          "text": [
            "dict_keys(['Name', 'Age', 'fav_movies', 'fav_tunes'])\n",
            "<class 'dict_keys'>\n"
          ],
          "name": "stdout"
        }
      ]
    },
    {
      "cell_type": "code",
      "metadata": {
        "id": "wkWmM9gS_Kp0",
        "colab_type": "code",
        "colab": {
          "base_uri": "https://localhost:8080/",
          "height": 84
        },
        "outputId": "b7c3ad11-b408-47a5-bdcb-1d34390bf746"
      },
      "source": [
        "for i in user_info:\n",
        "  print(user_info[i])"
      ],
      "execution_count": null,
      "outputs": [
        {
          "output_type": "stream",
          "text": [
            "Adarsh\n",
            "19\n",
            "['coco', 'avengers']\n",
            "['awakening', 'fairy tale']\n"
          ],
          "name": "stdout"
        }
      ]
    },
    {
      "cell_type": "markdown",
      "metadata": {
        "id": "X69kIKSugEuo",
        "colab_type": "text"
      },
      "source": [
        "**Items method:-**"
      ]
    },
    {
      "cell_type": "code",
      "metadata": {
        "id": "YUEAFf4m_U6X",
        "colab_type": "code",
        "colab": {
          "base_uri": "https://localhost:8080/",
          "height": 50
        },
        "outputId": "ebaa2b11-7d34-4e52-92d2-27435567f30f"
      },
      "source": [
        "user_items=user_info.items()\n",
        "print(user_items)\n",
        "print(type(user_items))"
      ],
      "execution_count": null,
      "outputs": [
        {
          "output_type": "stream",
          "text": [
            "dict_items([('Name', 'Adarsh'), ('Age', 19), ('fav_movies', ['coco', 'avengers']), ('fav_tunes', ['awakening', 'fairy tale'])])\n",
            "<class 'dict_items'>\n"
          ],
          "name": "stdout"
        }
      ]
    },
    {
      "cell_type": "code",
      "metadata": {
        "id": "_gu52ZQV_mKT",
        "colab_type": "code",
        "colab": {
          "base_uri": "https://localhost:8080/",
          "height": 84
        },
        "outputId": "58dbf58e-b370-4d28-b67d-b447ea2ed055"
      },
      "source": [
        "for key,value in user_info.items():\n",
        "  print(f'key is {key} and value is {value}')"
      ],
      "execution_count": null,
      "outputs": [
        {
          "output_type": "stream",
          "text": [
            "key is Name and value is Adarsh\n",
            "key is Age and value is 19\n",
            "key is fav_movies and value is ['coco', 'avengers']\n",
            "key is fav_tunes and value is ['awakening', 'fairy tale']\n"
          ],
          "name": "stdout"
        }
      ]
    },
    {
      "cell_type": "markdown",
      "metadata": {
        "id": "9QGmhhCCgNMJ",
        "colab_type": "text"
      },
      "source": [
        "**Add or delete data from dictionary:-**"
      ]
    },
    {
      "cell_type": "code",
      "metadata": {
        "id": "H4O245y_AD7b",
        "colab_type": "code",
        "colab": {}
      },
      "source": [
        "user_info={\n",
        "    'Name':'Adarsh',\n",
        "    'Age':19,\n",
        "    'fav_movies':['coco','avengers'],\n",
        "    'fav_tunes':['awakening','fairy tale']\n",
        "}"
      ],
      "execution_count": null,
      "outputs": []
    },
    {
      "cell_type": "markdown",
      "metadata": {
        "id": "8AtBDnTfgXvN",
        "colab_type": "text"
      },
      "source": [
        "**How to add data:-**"
      ]
    },
    {
      "cell_type": "code",
      "metadata": {
        "id": "qzto-oTeAUtZ",
        "colab_type": "code",
        "colab": {
          "base_uri": "https://localhost:8080/",
          "height": 34
        },
        "outputId": "8fde9164-a4a9-4891-c907-c1ca5f15464e"
      },
      "source": [
        "user_info['fav_songs']=['song1','song2']\n",
        "print(user_info)"
      ],
      "execution_count": null,
      "outputs": [
        {
          "output_type": "stream",
          "text": [
            "{'Name': 'Adarsh', 'Age': 19, 'fav_movies': ['coco', 'avengers'], 'fav_tunes': ['awakening', 'fairy tale'], 'fav_songs': ['song1', 'song2']}\n"
          ],
          "name": "stdout"
        }
      ]
    },
    {
      "cell_type": "markdown",
      "metadata": {
        "id": "z2mfvgNtiDxR",
        "colab_type": "text"
      },
      "source": [
        "**Pop method:-**"
      ]
    },
    {
      "cell_type": "code",
      "metadata": {
        "id": "mVM215dRAjvz",
        "colab_type": "code",
        "colab": {
          "base_uri": "https://localhost:8080/",
          "height": 50
        },
        "outputId": "e269ca01-4c2e-44a8-a4d9-9defd96e7dc3"
      },
      "source": [
        "popped_item=user_info.pop('fav_tunes')\n",
        "print(f'popped item is {popped_item}')\n",
        "print(user_info)"
      ],
      "execution_count": null,
      "outputs": [
        {
          "output_type": "stream",
          "text": [
            "popped item is ['awakening', 'fairy tale']\n",
            "{'Name': 'Adarsh', 'Age': 19, 'fav_movies': ['coco', 'avengers'], 'fav_songs': ['song1', 'song2']}\n"
          ],
          "name": "stdout"
        }
      ]
    },
    {
      "cell_type": "markdown",
      "metadata": {
        "id": "gXGl1kdraDCp",
        "colab_type": "text"
      },
      "source": [
        "**Popitem method-**If you do not pass any arguement in this method, it automatically pops any key:value pair."
      ]
    },
    {
      "cell_type": "code",
      "metadata": {
        "id": "tFWd7wqPA44A",
        "colab_type": "code",
        "colab": {
          "base_uri": "https://localhost:8080/",
          "height": 50
        },
        "outputId": "a200d279-617c-4b39-c7fd-ff0f5aa19cd8"
      },
      "source": [
        "popped_item=user_info.popitem()\n",
        "print(popped_item)\n",
        "print(user_info)"
      ],
      "execution_count": null,
      "outputs": [
        {
          "output_type": "stream",
          "text": [
            "('fav_songs', ['song1', 'song2'])\n",
            "{'Name': 'Adarsh', 'Age': 19, 'fav_movies': ['coco', 'avengers']}\n"
          ],
          "name": "stdout"
        }
      ]
    },
    {
      "cell_type": "markdown",
      "metadata": {
        "id": "TrLStyBCaioW",
        "colab_type": "text"
      },
      "source": [
        "**update() method:-**"
      ]
    },
    {
      "cell_type": "code",
      "metadata": {
        "id": "ckbJA_K8GOd8",
        "colab_type": "code",
        "colab": {
          "base_uri": "https://localhost:8080/",
          "height": 34
        },
        "outputId": "38742ac0-4292-4661-c61e-bf7c0ce97d34"
      },
      "source": [
        "user_info={\n",
        "    'Name':'Adarsh',\n",
        "    'Age':19,\n",
        "    'fav_movies':['coco','avengers'],\n",
        "    'fav_tunes':['awakening','fairy tale']\n",
        "}\n",
        "more_info={'State':'Madhya Pradesh','Hobbies':['Playing','Reading','Coding']}\n",
        "user_info.update(more_info)\n",
        "print(user_info)"
      ],
      "execution_count": null,
      "outputs": [
        {
          "output_type": "stream",
          "text": [
            "{'Name': 'Adarsh', 'Age': 19, 'fav_movies': ['coco', 'avengers'], 'fav_tunes': ['awakening', 'fairy tale'], 'State': 'Madhya Pradesh', 'Hobbies': ['Playing', 'Reading', 'Coding']}\n"
          ],
          "name": "stdout"
        }
      ]
    },
    {
      "cell_type": "code",
      "metadata": {
        "id": "gBaiApodG_6J",
        "colab_type": "code",
        "colab": {
          "base_uri": "https://localhost:8080/",
          "height": 34
        },
        "outputId": "535d6b08-6050-4a9b-baac-6334fe851053"
      },
      "source": [
        "more_info={'Name':'Krishna'}\n",
        "user_info.update(more_info)\n",
        "print(user_info)"
      ],
      "execution_count": null,
      "outputs": [
        {
          "output_type": "stream",
          "text": [
            "{'Name': 'Krishna', 'Age': 19, 'fav_movies': ['coco', 'avengers'], 'fav_tunes': ['awakening', 'fairy tale'], 'State': 'Madhya Pradesh', 'Hobbies': ['Playing', 'Reading', 'Coding']}\n"
          ],
          "name": "stdout"
        }
      ]
    },
    {
      "cell_type": "code",
      "metadata": {
        "id": "4tzsLSUEIVoQ",
        "colab_type": "code",
        "colab": {
          "base_uri": "https://localhost:8080/",
          "height": 34
        },
        "outputId": "f3dbb898-e837-4616-bd0f-20af3bbef58b"
      },
      "source": [
        "user_info.update({})\n",
        "print(user_info)"
      ],
      "execution_count": null,
      "outputs": [
        {
          "output_type": "stream",
          "text": [
            "{'Name': 'Krishna', 'Age': 19, 'fav_movies': ['coco', 'avengers'], 'fav_tunes': ['awakening', 'fairy tale'], 'State': 'Madhya Pradesh', 'Hobbies': ['Playing', 'Reading', 'Coding']}\n"
          ],
          "name": "stdout"
        }
      ]
    },
    {
      "cell_type": "markdown",
      "metadata": {
        "id": "_3FZLAl6axW5",
        "colab_type": "text"
      },
      "source": [
        "**fromkeys method:-**"
      ]
    },
    {
      "cell_type": "code",
      "metadata": {
        "id": "bQJJ-JfRIZUA",
        "colab_type": "code",
        "colab": {
          "base_uri": "https://localhost:8080/",
          "height": 34
        },
        "outputId": "40886ea8-43b1-41c3-fa8a-df59396a9a90"
      },
      "source": [
        "d=dict.fromkeys(['name','Age','Height'],'unknown')\n",
        "print(d)"
      ],
      "execution_count": null,
      "outputs": [
        {
          "output_type": "stream",
          "text": [
            "{'name': 'unknown', 'Age': 'unknown', 'Height': 'unknown'}\n"
          ],
          "name": "stdout"
        }
      ]
    },
    {
      "cell_type": "code",
      "metadata": {
        "id": "TPK2DjQvIfjP",
        "colab_type": "code",
        "colab": {
          "base_uri": "https://localhost:8080/",
          "height": 34
        },
        "outputId": "b017e456-408c-4b52-e44a-9c56faaa24b3"
      },
      "source": [
        "d=dict.fromkeys('abc','unknown')\n",
        "print(d)"
      ],
      "execution_count": null,
      "outputs": [
        {
          "output_type": "stream",
          "text": [
            "{'a': 'unknown', 'b': 'unknown', 'c': 'unknown'}\n"
          ],
          "name": "stdout"
        }
      ]
    },
    {
      "cell_type": "code",
      "metadata": {
        "id": "oM8ri1imIjFa",
        "colab_type": "code",
        "colab": {
          "base_uri": "https://localhost:8080/",
          "height": 34
        },
        "outputId": "6e7e93a9-3180-4a5a-8374-e4bc2cd1037b"
      },
      "source": [
        "d=dict.fromkeys(range(1,3),'umknown')\n",
        "print(d)"
      ],
      "execution_count": null,
      "outputs": [
        {
          "output_type": "stream",
          "text": [
            "{1: 'umknown', 2: 'umknown'}\n"
          ],
          "name": "stdout"
        }
      ]
    },
    {
      "cell_type": "code",
      "metadata": {
        "id": "Owijp892Im2t",
        "colab_type": "code",
        "colab": {
          "base_uri": "https://localhost:8080/",
          "height": 34
        },
        "outputId": "c4b5f9db-2418-4e1d-ff28-91ee9fb9a4e6"
      },
      "source": [
        "d=dict.fromkeys(range(1,3),'umknown')\n",
        "print(d)"
      ],
      "execution_count": null,
      "outputs": [
        {
          "output_type": "stream",
          "text": [
            "{1: 'umknown', 2: 'umknown'}\n"
          ],
          "name": "stdout"
        }
      ]
    },
    {
      "cell_type": "markdown",
      "metadata": {
        "id": "SS9zz2aebBtt",
        "colab_type": "text"
      },
      "source": [
        "**get method:-**"
      ]
    },
    {
      "cell_type": "code",
      "metadata": {
        "id": "FtcHrZ8GIqHY",
        "colab_type": "code",
        "colab": {
          "base_uri": "https://localhost:8080/",
          "height": 34
        },
        "outputId": "680f0b7f-7f9f-4241-b256-f4020da12343"
      },
      "source": [
        "d={'Name':'unknown','Age':'unknown'}\n",
        "print(d.get('Name'))"
      ],
      "execution_count": null,
      "outputs": [
        {
          "output_type": "stream",
          "text": [
            "unknown\n"
          ],
          "name": "stdout"
        }
      ]
    },
    {
      "cell_type": "code",
      "metadata": {
        "id": "yz6fT23QIuhZ",
        "colab_type": "code",
        "colab": {
          "base_uri": "https://localhost:8080/",
          "height": 34
        },
        "outputId": "25e6285e-174d-4b06-f286-a5671cdfce20"
      },
      "source": [
        "print(d.get('Names'))"
      ],
      "execution_count": null,
      "outputs": [
        {
          "output_type": "stream",
          "text": [
            "None\n"
          ],
          "name": "stdout"
        }
      ]
    },
    {
      "cell_type": "code",
      "metadata": {
        "id": "3N7vF7hmIx3R",
        "colab_type": "code",
        "colab": {
          "base_uri": "https://localhost:8080/",
          "height": 34
        },
        "outputId": "0d5430e9-b104-47b6-81ee-0079e5178348"
      },
      "source": [
        "if d.get('Name'):\n",
        "    print('present')\n",
        "else:\n",
        "    print('not present')"
      ],
      "execution_count": null,
      "outputs": [
        {
          "output_type": "stream",
          "text": [
            "present\n"
          ],
          "name": "stdout"
        }
      ]
    },
    {
      "cell_type": "markdown",
      "metadata": {
        "id": "4JOXNrMTbp11",
        "colab_type": "text"
      },
      "source": [
        "**clear method:-**"
      ]
    },
    {
      "cell_type": "code",
      "metadata": {
        "id": "zI808nN8I01h",
        "colab_type": "code",
        "colab": {
          "base_uri": "https://localhost:8080/",
          "height": 34
        },
        "outputId": "64e9430a-a378-48d4-b976-e2f844038344"
      },
      "source": [
        "d.clear()\n",
        "print(d)"
      ],
      "execution_count": null,
      "outputs": [
        {
          "output_type": "stream",
          "text": [
            "{}\n"
          ],
          "name": "stdout"
        }
      ]
    },
    {
      "cell_type": "markdown",
      "metadata": {
        "id": "gFsKA-WDbz1X",
        "colab_type": "text"
      },
      "source": [
        "**copy method:-**"
      ]
    },
    {
      "cell_type": "code",
      "metadata": {
        "id": "QSFtoyZ8I3eo",
        "colab_type": "code",
        "colab": {
          "base_uri": "https://localhost:8080/",
          "height": 34
        },
        "outputId": "3536ddaf-17bd-4ebd-80c0-94493673347c"
      },
      "source": [
        "d={'Name':'unknown','Age':'unknown'}\n",
        "d1=d.copy()\n",
        "print(d1)"
      ],
      "execution_count": null,
      "outputs": [
        {
          "output_type": "stream",
          "text": [
            "{'Name': 'unknown', 'Age': 'unknown'}\n"
          ],
          "name": "stdout"
        }
      ]
    },
    {
      "cell_type": "code",
      "metadata": {
        "id": "-kZzx4cOI7if",
        "colab_type": "code",
        "colab": {
          "base_uri": "https://localhost:8080/",
          "height": 50
        },
        "outputId": "4d9cb212-ae9e-47d2-bd8d-fb65e499476a"
      },
      "source": [
        "d1=d\n",
        "print(d1.popitem())\n",
        "print(d)"
      ],
      "execution_count": null,
      "outputs": [
        {
          "output_type": "stream",
          "text": [
            "('Age', 'unknown')\n",
            "{'Name': 'unknown'}\n"
          ],
          "name": "stdout"
        }
      ]
    },
    {
      "cell_type": "code",
      "metadata": {
        "id": "5k3zELoEI-SC",
        "colab_type": "code",
        "colab": {
          "base_uri": "https://localhost:8080/",
          "height": 50
        },
        "outputId": "cb309e42-6d4f-4967-9964-6bbb276adca7"
      },
      "source": [
        "d1=d.copy()\n",
        "print(d1.popitem())\n",
        "print(d)"
      ],
      "execution_count": null,
      "outputs": [
        {
          "output_type": "stream",
          "text": [
            "('Name', 'unknown')\n",
            "{'Name': 'unknown'}\n"
          ],
          "name": "stdout"
        }
      ]
    },
    {
      "cell_type": "code",
      "metadata": {
        "id": "AEhCG0UsJBXy",
        "colab_type": "code",
        "colab": {
          "base_uri": "https://localhost:8080/",
          "height": 50
        },
        "outputId": "1f5b636e-6419-4bcd-bbc4-5e535b67a981"
      },
      "source": [
        "d1=d.copy()\n",
        "print(d1 is d)\n",
        "print(d1==d)"
      ],
      "execution_count": null,
      "outputs": [
        {
          "output_type": "stream",
          "text": [
            "False\n",
            "True\n"
          ],
          "name": "stdout"
        }
      ]
    },
    {
      "cell_type": "markdown",
      "metadata": {
        "id": "p7XS8XVMcBtT",
        "colab_type": "text"
      },
      "source": [
        "**More about get() method:-**"
      ]
    },
    {
      "cell_type": "code",
      "metadata": {
        "id": "vDvAmA7aJHYq",
        "colab_type": "code",
        "colab": {
          "base_uri": "https://localhost:8080/",
          "height": 34
        },
        "outputId": "5c64345d-17c7-483b-9750-f31da2f96003"
      },
      "source": [
        "user={'Name':'Adarsh','Age':19}\n",
        "print(user.get('Names','Not Found'))"
      ],
      "execution_count": null,
      "outputs": [
        {
          "output_type": "stream",
          "text": [
            "Not Found\n"
          ],
          "name": "stdout"
        }
      ]
    },
    {
      "cell_type": "markdown",
      "metadata": {
        "id": "0RvoT3_ocQ3U",
        "colab_type": "text"
      },
      "source": [
        "**Two same keys in dictionaries:-**"
      ]
    },
    {
      "cell_type": "code",
      "metadata": {
        "id": "JLA0DAEzJK45",
        "colab_type": "code",
        "colab": {
          "base_uri": "https://localhost:8080/",
          "height": 34
        },
        "outputId": "89ec347f-91cc-4dcc-8c3a-8b0fcfbac82c"
      },
      "source": [
        "user={'Name':'Adarsh','Age':19,'Age':24}\n",
        "print(user)"
      ],
      "execution_count": null,
      "outputs": [
        {
          "output_type": "stream",
          "text": [
            "{'Name': 'Adarsh', 'Age': 24}\n"
          ],
          "name": "stdout"
        }
      ]
    },
    {
      "cell_type": "markdown",
      "metadata": {
        "id": "0hIDk9g5cehu",
        "colab_type": "text"
      },
      "source": [
        "**Wordcounter dictionary:-**"
      ]
    },
    {
      "cell_type": "code",
      "metadata": {
        "id": "7ALHWsS1JNzn",
        "colab_type": "code",
        "colab": {
          "base_uri": "https://localhost:8080/",
          "height": 34
        },
        "outputId": "fb816657-283b-4378-cd8b-2046aee96327"
      },
      "source": [
        " def word_counter(s):\n",
        "   count={}\n",
        "   for char in s:\n",
        "     count[char]=s.count(char)\n",
        "   return count\n",
        "print(word_counter('Adarsh'))"
      ],
      "execution_count": null,
      "outputs": [
        {
          "output_type": "stream",
          "text": [
            "{'A': 1, 'd': 1, 'a': 1, 'r': 1, 's': 1, 'h': 1}\n"
          ],
          "name": "stdout"
        }
      ]
    },
    {
      "cell_type": "markdown",
      "metadata": {
        "id": "F6-3p2rlctb0",
        "colab_type": "text"
      },
      "source": [
        "#**Chapter - 8**"
      ]
    },
    {
      "cell_type": "markdown",
      "metadata": {
        "id": "sKirTJWpc0PZ",
        "colab_type": "text"
      },
      "source": [
        "**Set-**Set is a data type which is an unordered collection of umique items."
      ]
    },
    {
      "cell_type": "code",
      "metadata": {
        "id": "SDSEoj4gLDFG",
        "colab_type": "code",
        "colab": {
          "base_uri": "https://localhost:8080/",
          "height": 34
        },
        "outputId": "50ea2dad-1732-473a-e0ce-9a4e438d560a"
      },
      "source": [
        "s={1,2,3}\n",
        "print(s)"
      ],
      "execution_count": null,
      "outputs": [
        {
          "output_type": "stream",
          "text": [
            "{1, 2, 3}\n"
          ],
          "name": "stdout"
        }
      ]
    },
    {
      "cell_type": "markdown",
      "metadata": {
        "id": "lGvgK6lRdIEm",
        "colab_type": "text"
      },
      "source": [
        "**Creating a set:-**"
      ]
    },
    {
      "cell_type": "code",
      "metadata": {
        "id": "joZvGtsqLhrA",
        "colab_type": "code",
        "colab": {
          "base_uri": "https://localhost:8080/",
          "height": 34
        },
        "outputId": "2472fd0a-adbb-49e1-f7f4-403569ad7afa"
      },
      "source": [
        "s={1,2,3,2}\n",
        "print(s)"
      ],
      "execution_count": null,
      "outputs": [
        {
          "output_type": "stream",
          "text": [
            "{1, 2, 3}\n"
          ],
          "name": "stdout"
        }
      ]
    },
    {
      "cell_type": "markdown",
      "metadata": {
        "id": "mnxlh4v3dTlj",
        "colab_type": "text"
      },
      "source": [
        "**NOTE-**There is no indexing in sets."
      ]
    },
    {
      "cell_type": "code",
      "metadata": {
        "id": "V8yZy7scdaOo",
        "colab_type": "code",
        "colab": {
          "base_uri": "https://localhost:8080/",
          "height": 178
        },
        "outputId": "cd645cc7-40ce-407b-ef0e-adb7865292c3"
      },
      "source": [
        "s={1,2,3,2}\n",
        "print(s[1])"
      ],
      "execution_count": null,
      "outputs": [
        {
          "output_type": "error",
          "ename": "TypeError",
          "evalue": "ignored",
          "traceback": [
            "\u001b[0;31m---------------------------------------------------------------------------\u001b[0m",
            "\u001b[0;31mTypeError\u001b[0m                                 Traceback (most recent call last)",
            "\u001b[0;32m<ipython-input-2-70eeae3839bf>\u001b[0m in \u001b[0;36m<module>\u001b[0;34m()\u001b[0m\n\u001b[1;32m      1\u001b[0m \u001b[0ms\u001b[0m\u001b[0;34m=\u001b[0m\u001b[0;34m{\u001b[0m\u001b[0;36m1\u001b[0m\u001b[0;34m,\u001b[0m\u001b[0;36m2\u001b[0m\u001b[0;34m,\u001b[0m\u001b[0;36m3\u001b[0m\u001b[0;34m,\u001b[0m\u001b[0;36m2\u001b[0m\u001b[0;34m}\u001b[0m\u001b[0;34m\u001b[0m\u001b[0;34m\u001b[0m\u001b[0m\n\u001b[0;32m----> 2\u001b[0;31m \u001b[0mprint\u001b[0m\u001b[0;34m(\u001b[0m\u001b[0ms\u001b[0m\u001b[0;34m[\u001b[0m\u001b[0;36m1\u001b[0m\u001b[0;34m]\u001b[0m\u001b[0;34m)\u001b[0m\u001b[0;34m\u001b[0m\u001b[0;34m\u001b[0m\u001b[0m\n\u001b[0m",
            "\u001b[0;31mTypeError\u001b[0m: 'set' object does not support indexing"
          ]
        }
      ]
    },
    {
      "cell_type": "markdown",
      "metadata": {
        "id": "OpQd_nRJdjNE",
        "colab_type": "text"
      },
      "source": [
        "**NOTE-**Set is mainly used to remove the duplicate items.\n",
        "\n",
        "set() function s also used to make a set."
      ]
    },
    {
      "cell_type": "code",
      "metadata": {
        "id": "cQG7wm6UP7E9",
        "colab_type": "code",
        "colab": {
          "base_uri": "https://localhost:8080/",
          "height": 34
        },
        "outputId": "77b4afb5-ef17-4e95-bc00-ad1689c9c425"
      },
      "source": [
        "l={1,2,3,4,5,5,5,5,6,7,7,8,9}\n",
        "s2=set(l)\n",
        "print(s2)"
      ],
      "execution_count": null,
      "outputs": [
        {
          "output_type": "stream",
          "text": [
            "{1, 2, 3, 4, 5, 6, 7, 8, 9}\n"
          ],
          "name": "stdout"
        }
      ]
    },
    {
      "cell_type": "code",
      "metadata": {
        "id": "EBWftHDXQJ00",
        "colab_type": "code",
        "colab": {
          "base_uri": "https://localhost:8080/",
          "height": 34
        },
        "outputId": "4060cf2d-d7bb-499d-c7bc-f1a858678457"
      },
      "source": [
        "s2=list(set(l))\n",
        "print(s2)"
      ],
      "execution_count": null,
      "outputs": [
        {
          "output_type": "stream",
          "text": [
            "[1, 2, 3, 4, 5, 6, 7, 8, 9]\n"
          ],
          "name": "stdout"
        }
      ]
    },
    {
      "cell_type": "markdown",
      "metadata": {
        "id": "yroO5BlheDhE",
        "colab_type": "text"
      },
      "source": [
        "**Add any item in the set:-**"
      ]
    },
    {
      "cell_type": "code",
      "metadata": {
        "id": "mJNiJCPeQQie",
        "colab_type": "code",
        "colab": {
          "base_uri": "https://localhost:8080/",
          "height": 34
        },
        "outputId": "c84257ad-06c9-405e-d401-fe758350be9c"
      },
      "source": [
        "s={1,2,3}\n",
        "s.add(4)\n",
        "print(s)"
      ],
      "execution_count": null,
      "outputs": [
        {
          "output_type": "stream",
          "text": [
            "{1, 2, 3, 4}\n"
          ],
          "name": "stdout"
        }
      ]
    },
    {
      "cell_type": "markdown",
      "metadata": {
        "id": "i6SEHYYreOux",
        "colab_type": "text"
      },
      "source": [
        "**Remove any item in the set:-**"
      ]
    },
    {
      "cell_type": "code",
      "metadata": {
        "id": "5ECi7irdQW-e",
        "colab_type": "code",
        "colab": {
          "base_uri": "https://localhost:8080/",
          "height": 34
        },
        "outputId": "25143d20-9318-429e-df1b-e94d85f3ac7c"
      },
      "source": [
        "s={1,2,3}\n",
        "s.remove(3)\n",
        "print(s)"
      ],
      "execution_count": null,
      "outputs": [
        {
          "output_type": "stream",
          "text": [
            "{1, 2}\n"
          ],
          "name": "stdout"
        }
      ]
    },
    {
      "cell_type": "markdown",
      "metadata": {
        "id": "GrAKevM1ecpC",
        "colab_type": "text"
      },
      "source": [
        "**NOTE-**If you ant to remove an item which is not in the set, there will be error in remove() method, but there will be no error in discard method."
      ]
    },
    {
      "cell_type": "code",
      "metadata": {
        "id": "IFy-YB-AQeeu",
        "colab_type": "code",
        "colab": {
          "base_uri": "https://localhost:8080/",
          "height": 34
        },
        "outputId": "0db1600e-7271-4225-dc56-d4fcc7b69e83"
      },
      "source": [
        "s={1,2,3}\n",
        "s.discard(3)\n",
        "print(s)"
      ],
      "execution_count": null,
      "outputs": [
        {
          "output_type": "stream",
          "text": [
            "{1, 2}\n"
          ],
          "name": "stdout"
        }
      ]
    },
    {
      "cell_type": "markdown",
      "metadata": {
        "id": "5eeRMGQAe2_q",
        "colab_type": "text"
      },
      "source": [
        "**clear() method:-**"
      ]
    },
    {
      "cell_type": "code",
      "metadata": {
        "id": "NoCJtHfhQmsX",
        "colab_type": "code",
        "colab": {
          "base_uri": "https://localhost:8080/",
          "height": 34
        },
        "outputId": "e9b409d4-6933-4932-ad2a-6bc6765225b0"
      },
      "source": [
        "s={1,2,3}\n",
        "s.clear()\n",
        "print(s)"
      ],
      "execution_count": null,
      "outputs": [
        {
          "output_type": "stream",
          "text": [
            "set()\n"
          ],
          "name": "stdout"
        }
      ]
    },
    {
      "cell_type": "markdown",
      "metadata": {
        "id": "3yJw00Sle8E_",
        "colab_type": "text"
      },
      "source": [
        "**Copy method:-**"
      ]
    },
    {
      "cell_type": "code",
      "metadata": {
        "id": "MVSzR3s3QsRa",
        "colab_type": "code",
        "colab": {
          "base_uri": "https://localhost:8080/",
          "height": 34
        },
        "outputId": "475b9f0d-fe57-4d5b-a29d-9ee62d8b5c8e"
      },
      "source": [
        "s={1,2,3}\n",
        "s1=s.copy()\n",
        "print(s1)"
      ],
      "execution_count": null,
      "outputs": [
        {
          "output_type": "stream",
          "text": [
            "{1, 2, 3}\n"
          ],
          "name": "stdout"
        }
      ]
    },
    {
      "cell_type": "markdown",
      "metadata": {
        "id": "OmAF1WHZfBrg",
        "colab_type": "text"
      },
      "source": [
        "**NOTE-** We cannot store list, tuple and dictionary in a set.\n",
        "We can store integer, floating point number and string in a set."
      ]
    },
    {
      "cell_type": "code",
      "metadata": {
        "id": "gzkC0W8PQzwc",
        "colab_type": "code",
        "colab": {
          "base_uri": "https://localhost:8080/",
          "height": 34
        },
        "outputId": "4bb5082c-6104-43d1-fca8-ee3947a6b4f5"
      },
      "source": [
        "s={1,1.0,2.3,'string'}\n",
        "print(s)"
      ],
      "execution_count": null,
      "outputs": [
        {
          "output_type": "stream",
          "text": [
            "{1, 2.3, 'string'}\n"
          ],
          "name": "stdout"
        }
      ]
    },
    {
      "cell_type": "markdown",
      "metadata": {
        "id": "WS0OpOF-fYsR",
        "colab_type": "text"
      },
      "source": [
        "**In keyword in set for loop:-**"
      ]
    },
    {
      "cell_type": "code",
      "metadata": {
        "id": "mRO73L-FQ8Lw",
        "colab_type": "code",
        "colab": {
          "base_uri": "https://localhost:8080/",
          "height": 34
        },
        "outputId": "412da931-1992-4d4b-ab88-0cb963ed5b77"
      },
      "source": [
        "s={'a','b','c'}\n",
        "if 'a' in s:\n",
        "  print('present')\n",
        "else:\n",
        "  print('not present')"
      ],
      "execution_count": null,
      "outputs": [
        {
          "output_type": "stream",
          "text": [
            "present\n"
          ],
          "name": "stdout"
        }
      ]
    },
    {
      "cell_type": "code",
      "metadata": {
        "id": "3G7DioAWROTA",
        "colab_type": "code",
        "colab": {
          "base_uri": "https://localhost:8080/",
          "height": 67
        },
        "outputId": "d710ee20-5558-4cc9-e0e4-4624147c3503"
      },
      "source": [
        "for item in s:\n",
        "  print(item)"
      ],
      "execution_count": null,
      "outputs": [
        {
          "output_type": "stream",
          "text": [
            "b\n",
            "a\n",
            "c\n"
          ],
          "name": "stdout"
        }
      ]
    },
    {
      "cell_type": "markdown",
      "metadata": {
        "id": "t3tMEoHefhCQ",
        "colab_type": "text"
      },
      "source": [
        "**Set mathematics:-**"
      ]
    },
    {
      "cell_type": "markdown",
      "metadata": {
        "id": "-nToamejfllx",
        "colab_type": "text"
      },
      "source": [
        "**Union-**For union of two ets, pipe keyword is used."
      ]
    },
    {
      "cell_type": "code",
      "metadata": {
        "id": "JBhmwlVzRUA4",
        "colab_type": "code",
        "colab": {
          "base_uri": "https://localhost:8080/",
          "height": 34
        },
        "outputId": "8f8f95fb-0c7e-4504-878c-3cb9b12eaff0"
      },
      "source": [
        "s1={1,2,3,4}\n",
        "s2={3,4,5,6}\n",
        "union_set=s1|s2\n",
        "print(union_set)"
      ],
      "execution_count": null,
      "outputs": [
        {
          "output_type": "stream",
          "text": [
            "{1, 2, 3, 4, 5, 6}\n"
          ],
          "name": "stdout"
        }
      ]
    },
    {
      "cell_type": "markdown",
      "metadata": {
        "id": "q9_1j0IjfzZ-",
        "colab_type": "text"
      },
      "source": [
        "**Intersection-**For intersection of two sets, and(&) keyword is used."
      ]
    },
    {
      "cell_type": "code",
      "metadata": {
        "id": "UeYbuKdbRk9r",
        "colab_type": "code",
        "colab": {
          "base_uri": "https://localhost:8080/",
          "height": 34
        },
        "outputId": "cde0ce21-f679-4a6a-9110-c70c4a4836ce"
      },
      "source": [
        "s1={1,2,3,4}\n",
        "s2={3,4,5,6}\n",
        "intersection=s1&s2\n",
        "print(intersection)"
      ],
      "execution_count": null,
      "outputs": [
        {
          "output_type": "stream",
          "text": [
            "{3, 4}\n"
          ],
          "name": "stdout"
        }
      ]
    },
    {
      "cell_type": "markdown",
      "metadata": {
        "id": "iGiaM8E7gSir",
        "colab_type": "text"
      },
      "source": [
        "#**Chapter - 9**"
      ]
    },
    {
      "cell_type": "markdown",
      "metadata": {
        "id": "NXIjxJEXgWiu",
        "colab_type": "text"
      },
      "source": [
        "**Creating a list of squares from 1 to 3:-**"
      ]
    },
    {
      "cell_type": "markdown",
      "metadata": {
        "id": "S_-iGCCEgfMz",
        "colab_type": "text"
      },
      "source": [
        "**1. With list comprehension:-**"
      ]
    },
    {
      "cell_type": "code",
      "metadata": {
        "id": "rtUH8PvbR39x",
        "colab_type": "code",
        "colab": {
          "base_uri": "https://localhost:8080/",
          "height": 34
        },
        "outputId": "da93b374-ed6d-4ff8-96b2-930d60013037"
      },
      "source": [
        "squares=[]\n",
        "for i in range(1,4):\n",
        "  squares.append(i**2)\n",
        "print(squares)"
      ],
      "execution_count": null,
      "outputs": [
        {
          "output_type": "stream",
          "text": [
            "[1, 4, 9]\n"
          ],
          "name": "stdout"
        }
      ]
    },
    {
      "cell_type": "markdown",
      "metadata": {
        "id": "YkjdPd8vgmEU",
        "colab_type": "text"
      },
      "source": [
        "**2. Without list comprehension:-**"
      ]
    },
    {
      "cell_type": "code",
      "metadata": {
        "id": "icsVCMZgSPcC",
        "colab_type": "code",
        "colab": {
          "base_uri": "https://localhost:8080/",
          "height": 34
        },
        "outputId": "9bf9ca8b-2e8b-4a1d-dd71-cb580e1e1679"
      },
      "source": [
        "square=[i**2 for i in range(1,4)]\n",
        "print(square)"
      ],
      "execution_count": null,
      "outputs": [
        {
          "output_type": "stream",
          "text": [
            "[1, 4, 9]\n"
          ],
          "name": "stdout"
        }
      ]
    },
    {
      "cell_type": "markdown",
      "metadata": {
        "id": "LggnPdRMhN6N",
        "colab_type": "text"
      },
      "source": [
        "**Creating a list of negative numbers:-**"
      ]
    },
    {
      "cell_type": "code",
      "metadata": {
        "id": "06klrs3iSaXG",
        "colab_type": "code",
        "colab": {
          "base_uri": "https://localhost:8080/",
          "height": 34
        },
        "outputId": "509efe54-9f7d-4fbc-8d7c-932a93eca3ed"
      },
      "source": [
        "negative=[]\n",
        "for i in range(1,4):\n",
        "  negative.append(-i)\n",
        "print(negative)"
      ],
      "execution_count": null,
      "outputs": [
        {
          "output_type": "stream",
          "text": [
            "[-1, -2, -3]\n"
          ],
          "name": "stdout"
        }
      ]
    },
    {
      "cell_type": "code",
      "metadata": {
        "id": "3WBtIcIvTV4g",
        "colab_type": "code",
        "colab": {
          "base_uri": "https://localhost:8080/",
          "height": 34
        },
        "outputId": "3a3c83d8-760a-44f3-d802-f8dd48596a0d"
      },
      "source": [
        "negative=[-i for i in range(1,4)]\n",
        "print(negative)"
      ],
      "execution_count": null,
      "outputs": [
        {
          "output_type": "stream",
          "text": [
            "[-1, -2, -3]\n"
          ],
          "name": "stdout"
        }
      ]
    },
    {
      "cell_type": "code",
      "metadata": {
        "id": "LbUeeRh1Tjo4",
        "colab_type": "code",
        "colab": {
          "base_uri": "https://localhost:8080/",
          "height": 34
        },
        "outputId": "1fc263f4-0377-41a1-de21-a8e92751aea4"
      },
      "source": [
        "names=['Adarsh','Krishna','Romeo']\n",
        "new_list=[]\n",
        "for name in names:\n",
        "  new_list.append(name[0])\n",
        "print(new_list)"
      ],
      "execution_count": null,
      "outputs": [
        {
          "output_type": "stream",
          "text": [
            "['A', 'K', 'R']\n"
          ],
          "name": "stdout"
        }
      ]
    },
    {
      "cell_type": "code",
      "metadata": {
        "id": "tjVimtcSUJA1",
        "colab_type": "code",
        "colab": {
          "base_uri": "https://localhost:8080/",
          "height": 34
        },
        "outputId": "0f7f6497-0dfb-464e-f287-0fb8cd97628e"
      },
      "source": [
        "names=['Adarsh','Krishna','Romeo']\n",
        "new_list=[name[0] for name in names]\n",
        "print(new_list)"
      ],
      "execution_count": null,
      "outputs": [
        {
          "output_type": "stream",
          "text": [
            "['A', 'K', 'R']\n"
          ],
          "name": "stdout"
        }
      ]
    },
    {
      "cell_type": "markdown",
      "metadata": {
        "id": "A9Qf1dcCherv",
        "colab_type": "text"
      },
      "source": [
        "**List comprehension with if statement:-**"
      ]
    },
    {
      "cell_type": "code",
      "metadata": {
        "id": "QkJ_zdwYUbPN",
        "colab_type": "code",
        "colab": {
          "base_uri": "https://localhost:8080/",
          "height": 34
        },
        "outputId": "c60a2a0b-3c95-4356-e424-b4fd09463c6e"
      },
      "source": [
        "numbers=list(range(1,11))\n",
        "nums=[]\n",
        "for i in numbers:\n",
        "  if i%2==0:\n",
        "    nums.append(i)\n",
        "print(nums)"
      ],
      "execution_count": null,
      "outputs": [
        {
          "output_type": "stream",
          "text": [
            "[2, 4, 6, 8, 10]\n"
          ],
          "name": "stdout"
        }
      ]
    },
    {
      "cell_type": "code",
      "metadata": {
        "id": "dfvda1PaU9Zf",
        "colab_type": "code",
        "colab": {
          "base_uri": "https://localhost:8080/",
          "height": 34
        },
        "outputId": "3d2e86e6-f64c-41a2-c80d-9ab66b1c139f"
      },
      "source": [
        "even_nums=[i for i in range(1,11) if i%2==0]\n",
        "print(even_nums)"
      ],
      "execution_count": null,
      "outputs": [
        {
          "output_type": "stream",
          "text": [
            "[2, 4, 6, 8, 10]\n"
          ],
          "name": "stdout"
        }
      ]
    },
    {
      "cell_type": "code",
      "metadata": {
        "id": "_bzoPs7AVL2y",
        "colab_type": "code",
        "colab": {
          "base_uri": "https://localhost:8080/",
          "height": 34
        },
        "outputId": "3c163d5c-8923-4371-d685-d81575e03eed"
      },
      "source": [
        "odd_nums=[i for i in range(1,11) if i%2!=0]\n",
        "print(odd_nums)"
      ],
      "execution_count": null,
      "outputs": [
        {
          "output_type": "stream",
          "text": [
            "[1, 3, 5, 7, 9]\n"
          ],
          "name": "stdout"
        }
      ]
    },
    {
      "cell_type": "markdown",
      "metadata": {
        "id": "k_uehc3GhqOW",
        "colab_type": "text"
      },
      "source": [
        "**List comprehension with if-else statement:-**"
      ]
    },
    {
      "cell_type": "code",
      "metadata": {
        "id": "jiOc1rPHVpia",
        "colab_type": "code",
        "colab": {
          "base_uri": "https://localhost:8080/",
          "height": 34
        },
        "outputId": "be52094d-12d9-4620-f834-3494454d7125"
      },
      "source": [
        "nums=[1,2,3,4,5,6,7,8,9,10]\n",
        "new_list=[]\n",
        "for i in nums:\n",
        "  if i%2==0:\n",
        "    new_list.append(i*2)\n",
        "  else:\n",
        "    new_list.append(-i)\n",
        "print(new_list)"
      ],
      "execution_count": null,
      "outputs": [
        {
          "output_type": "stream",
          "text": [
            "[-1, 4, -3, 8, -5, 12, -7, 16, -9, 20]\n"
          ],
          "name": "stdout"
        }
      ]
    },
    {
      "cell_type": "code",
      "metadata": {
        "id": "F-qH8S60h5Pv",
        "colab_type": "code",
        "colab": {
          "base_uri": "https://localhost:8080/",
          "height": 34
        },
        "outputId": "7011ec60-0b00-4dd9-e7f4-860fe2826dcd"
      },
      "source": [
        "nums=[1,2,3,4,5,6,7,8,9,10]\n",
        "new_list=[i*2 if(i%2==0) else -i for i in nums]\n",
        "print(new_list)"
      ],
      "execution_count": null,
      "outputs": [
        {
          "output_type": "stream",
          "text": [
            "[-1, 4, -3, 8, -5, 12, -7, 16, -9, 20]\n"
          ],
          "name": "stdout"
        }
      ]
    },
    {
      "cell_type": "markdown",
      "metadata": {
        "id": "0VG7F13UiLIL",
        "colab_type": "text"
      },
      "source": [
        "**Nested list comprehension:-**"
      ]
    },
    {
      "cell_type": "code",
      "metadata": {
        "id": "jRJ-Fnva3phh",
        "colab_type": "code",
        "colab": {
          "base_uri": "https://localhost:8080/",
          "height": 34
        },
        "outputId": "9910b203-4050-4f80-e893-1d761dddaa0a"
      },
      "source": [
        "nested_comp=[[i for i in range(1,4)] for j in range(3)]\n",
        "print(nested_comp)"
      ],
      "execution_count": null,
      "outputs": [
        {
          "output_type": "stream",
          "text": [
            "[[1, 2, 3], [1, 2, 3], [1, 2, 3]]\n"
          ],
          "name": "stdout"
        }
      ]
    },
    {
      "cell_type": "markdown",
      "metadata": {
        "id": "zg1xqEpIiUNN",
        "colab_type": "text"
      },
      "source": [
        "#**Chapter - 10**"
      ]
    },
    {
      "cell_type": "markdown",
      "metadata": {
        "id": "TZD864WaiYIO",
        "colab_type": "text"
      },
      "source": [
        "**Dictionary comprehension:-**"
      ]
    },
    {
      "cell_type": "code",
      "metadata": {
        "id": "4T96TX3X39bN",
        "colab_type": "code",
        "colab": {
          "base_uri": "https://localhost:8080/",
          "height": 34
        },
        "outputId": "a9d684c9-14c9-41db-8518-3700a0cfbf68"
      },
      "source": [
        "square={num:num**2 for num in range(1,4)}\n",
        "print(square)"
      ],
      "execution_count": null,
      "outputs": [
        {
          "output_type": "stream",
          "text": [
            "{1: 1, 2: 4, 3: 9}\n"
          ],
          "name": "stdout"
        }
      ]
    },
    {
      "cell_type": "code",
      "metadata": {
        "id": "kSgEvlyX45wC",
        "colab_type": "code",
        "colab": {
          "base_uri": "https://localhost:8080/",
          "height": 34
        },
        "outputId": "062a4dfe-7834-45fa-dd54-8b2b0b493018"
      },
      "source": [
        "square={f'Square of {num} is':num**2 for num in range(1,4) }\n",
        "print(square)"
      ],
      "execution_count": null,
      "outputs": [
        {
          "output_type": "stream",
          "text": [
            "{'Square of 1 is': 1, 'Square of 2 is': 4, 'Square of 3 is': 9}\n"
          ],
          "name": "stdout"
        }
      ]
    },
    {
      "cell_type": "code",
      "metadata": {
        "id": "XO3fCJxg5yG9",
        "colab_type": "code",
        "colab": {
          "base_uri": "https://localhost:8080/",
          "height": 34
        },
        "outputId": "fdba81c4-c6b5-44c0-e917-ef148e9e3377"
      },
      "source": [
        "string='Adarsh'\n",
        "word_count={char:string.count(char) for char in string}\n",
        "print(word_count)"
      ],
      "execution_count": null,
      "outputs": [
        {
          "output_type": "stream",
          "text": [
            "{'A': 1, 'd': 1, 'a': 1, 'r': 1, 's': 1, 'h': 1}\n"
          ],
          "name": "stdout"
        }
      ]
    },
    {
      "cell_type": "markdown",
      "metadata": {
        "id": "CduS60YjijD8",
        "colab_type": "text"
      },
      "source": [
        "**Dictionay comprehension with if else:-**"
      ]
    },
    {
      "cell_type": "code",
      "metadata": {
        "id": "MOdMVivZ6Ibz",
        "colab_type": "code",
        "colab": {
          "base_uri": "https://localhost:8080/",
          "height": 34
        },
        "outputId": "d3cedb2b-c3be-4c77-9299-2ce4879bf507"
      },
      "source": [
        "odd_even={i:('even' if i%2==0 else 'odd') for i in range(1,11)}\n",
        "print(odd_even)"
      ],
      "execution_count": null,
      "outputs": [
        {
          "output_type": "stream",
          "text": [
            "{1: 'odd', 2: 'even', 3: 'odd', 4: 'even', 5: 'odd', 6: 'even', 7: 'odd', 8: 'even', 9: 'odd', 10: 'even'}\n"
          ],
          "name": "stdout"
        }
      ]
    },
    {
      "cell_type": "markdown",
      "metadata": {
        "id": "5crID_z-irnf",
        "colab_type": "text"
      },
      "source": [
        "**Sets comprehension:-**"
      ]
    },
    {
      "cell_type": "code",
      "metadata": {
        "id": "iJpEGVGD6crU",
        "colab_type": "code",
        "colab": {
          "base_uri": "https://localhost:8080/",
          "height": 34
        },
        "outputId": "575b2446-33e2-46b1-ed27-b63ea5e47dd5"
      },
      "source": [
        "s={k**2 for k in range(1,11)}\n",
        "print(s)"
      ],
      "execution_count": null,
      "outputs": [
        {
          "output_type": "stream",
          "text": [
            "{64, 1, 4, 36, 100, 9, 16, 49, 81, 25}\n"
          ],
          "name": "stdout"
        }
      ]
    },
    {
      "cell_type": "code",
      "metadata": {
        "id": "oY7rYcq26rM-",
        "colab_type": "code",
        "colab": {
          "base_uri": "https://localhost:8080/",
          "height": 34
        },
        "outputId": "f560b282-9365-49c6-bd6f-f80124999aa1"
      },
      "source": [
        "names=['Adarsh','Krishna','Shiva']\n",
        "first={name[0] for name in names}\n",
        "print(first)"
      ],
      "execution_count": null,
      "outputs": [
        {
          "output_type": "stream",
          "text": [
            "{'S', 'A', 'K'}\n"
          ],
          "name": "stdout"
        }
      ]
    },
    {
      "cell_type": "markdown",
      "metadata": {
        "id": "f2fDLB7Rixsk",
        "colab_type": "text"
      },
      "source": [
        "**NOTE-**Sets have no order of output. They can changetheir order of index as many times as the code runs."
      ]
    },
    {
      "cell_type": "markdown",
      "metadata": {
        "id": "wf8UP-oLjFb4",
        "colab_type": "text"
      },
      "source": [
        "#**Chapter - 11**"
      ]
    },
    {
      "cell_type": "markdown",
      "metadata": {
        "id": "nCB817fcjKo9",
        "colab_type": "text"
      },
      "source": [
        "**Intro to *args:-**"
      ]
    },
    {
      "cell_type": "code",
      "metadata": {
        "id": "8QqntB3r6_ba",
        "colab_type": "code",
        "colab": {
          "base_uri": "https://localhost:8080/",
          "height": 195
        },
        "outputId": "9ae75c7a-c119-4b03-ccad-59ea1885594a"
      },
      "source": [
        "def total(a,b):\n",
        "  return a+b\n",
        "print(total(3,4,10,9))"
      ],
      "execution_count": null,
      "outputs": [
        {
          "output_type": "error",
          "ename": "TypeError",
          "evalue": "ignored",
          "traceback": [
            "\u001b[0;31m---------------------------------------------------------------------------\u001b[0m",
            "\u001b[0;31mTypeError\u001b[0m                                 Traceback (most recent call last)",
            "\u001b[0;32m<ipython-input-13-decdace2e4dd>\u001b[0m in \u001b[0;36m<module>\u001b[0;34m()\u001b[0m\n\u001b[1;32m      1\u001b[0m \u001b[0;32mdef\u001b[0m \u001b[0mtotal\u001b[0m\u001b[0;34m(\u001b[0m\u001b[0ma\u001b[0m\u001b[0;34m,\u001b[0m\u001b[0mb\u001b[0m\u001b[0;34m)\u001b[0m\u001b[0;34m:\u001b[0m\u001b[0;34m\u001b[0m\u001b[0;34m\u001b[0m\u001b[0m\n\u001b[1;32m      2\u001b[0m   \u001b[0;32mreturn\u001b[0m \u001b[0ma\u001b[0m\u001b[0;34m+\u001b[0m\u001b[0mb\u001b[0m\u001b[0;34m\u001b[0m\u001b[0;34m\u001b[0m\u001b[0m\n\u001b[0;32m----> 3\u001b[0;31m \u001b[0mprint\u001b[0m\u001b[0;34m(\u001b[0m\u001b[0mtotal\u001b[0m\u001b[0;34m(\u001b[0m\u001b[0;36m3\u001b[0m\u001b[0;34m,\u001b[0m\u001b[0;36m4\u001b[0m\u001b[0;34m,\u001b[0m\u001b[0;36m10\u001b[0m\u001b[0;34m,\u001b[0m\u001b[0;36m9\u001b[0m\u001b[0;34m)\u001b[0m\u001b[0;34m)\u001b[0m\u001b[0;34m\u001b[0m\u001b[0;34m\u001b[0m\u001b[0m\n\u001b[0m",
            "\u001b[0;31mTypeError\u001b[0m: total() takes 2 positional arguments but 4 were given"
          ]
        }
      ]
    },
    {
      "cell_type": "markdown",
      "metadata": {
        "id": "_VG7RlORjqE0",
        "colab_type": "text"
      },
      "source": [
        "This problem is solved by the * operator."
      ]
    },
    {
      "cell_type": "code",
      "metadata": {
        "id": "b2o4dTxa7UEz",
        "colab_type": "code",
        "colab": {
          "base_uri": "https://localhost:8080/",
          "height": 34
        },
        "outputId": "5af0d535-d95a-49a8-d5a7-5ed25c90f1c2"
      },
      "source": [
        " def all_total(*args):\n",
        "   total=0\n",
        "   for num in  args:\n",
        "     total+=num\n",
        "   return(total)\n",
        "print(all_total(1,5,7,9))"
      ],
      "execution_count": null,
      "outputs": [
        {
          "output_type": "stream",
          "text": [
            "22\n"
          ],
          "name": "stdout"
        }
      ]
    },
    {
      "cell_type": "markdown",
      "metadata": {
        "id": "8QJfFsy9jwyC",
        "colab_type": "text"
      },
      "source": [
        "***args with normal parameter:-**"
      ]
    },
    {
      "cell_type": "code",
      "metadata": {
        "id": "_r9Y8Lp571wW",
        "colab_type": "code",
        "colab": {
          "base_uri": "https://localhost:8080/",
          "height": 34
        },
        "outputId": "d659488f-056f-433c-fb1b-89a97ded219c"
      },
      "source": [
        "def multiply_nums(*args):\n",
        "  multiply=1\n",
        "  for i in args:\n",
        "    multiply*=i\n",
        "  return(multiply)\n",
        "print(multiply_nums(2,3,4))"
      ],
      "execution_count": null,
      "outputs": [
        {
          "output_type": "stream",
          "text": [
            "24\n"
          ],
          "name": "stdout"
        }
      ]
    },
    {
      "cell_type": "code",
      "metadata": {
        "id": "4RGcW7y-8fDF",
        "colab_type": "code",
        "colab": {
          "base_uri": "https://localhost:8080/",
          "height": 67
        },
        "outputId": "5e758cd6-0ec0-4d8e-a49c-b7074e730558"
      },
      "source": [
        "def multiply_nums(num,*args):\n",
        "  multiply=1\n",
        "  print(num)\n",
        "  print(args)\n",
        "  for i in args:\n",
        "    multiply*=i\n",
        "  return multiply\n",
        "print(multiply_nums(2,2,3))"
      ],
      "execution_count": null,
      "outputs": [
        {
          "output_type": "stream",
          "text": [
            "2\n",
            "(2, 3)\n",
            "6\n"
          ],
          "name": "stdout"
        }
      ]
    },
    {
      "cell_type": "code",
      "metadata": {
        "id": "D5LaaxO19AL-",
        "colab_type": "code",
        "colab": {
          "base_uri": "https://localhost:8080/",
          "height": 67
        },
        "outputId": "12c6d26b-63a1-4f9c-9844-3774fc0d9ba4"
      },
      "source": [
        "def multiply(*args):\n",
        "  multiply=1\n",
        "  print(args)\n",
        "  for i in args:\n",
        "    multiply*=i\n",
        "  return multiply\n",
        "print(multiply_nums(2,2,3))"
      ],
      "execution_count": null,
      "outputs": [
        {
          "output_type": "stream",
          "text": [
            "2\n",
            "(2, 3)\n",
            "6\n"
          ],
          "name": "stdout"
        }
      ]
    },
    {
      "cell_type": "code",
      "metadata": {
        "id": "489zLxJg_wq9",
        "colab_type": "code",
        "colab": {
          "base_uri": "https://localhost:8080/",
          "height": 50
        },
        "outputId": "9fc95f59-b3ac-4e74-8f3f-0a9bf31661e0"
      },
      "source": [
        "def multiply_nums(*args):\n",
        "  multiply=1\n",
        "  print(args)\n",
        "  for i in args:\n",
        "    multiply*=1\n",
        "  return multiply\n",
        "print(multiply_nums())"
      ],
      "execution_count": null,
      "outputs": [
        {
          "output_type": "stream",
          "text": [
            "()\n",
            "1\n"
          ],
          "name": "stdout"
        }
      ]
    },
    {
      "cell_type": "code",
      "metadata": {
        "id": "_0fit8jfAWAU",
        "colab_type": "code",
        "colab": {
          "base_uri": "https://localhost:8080/",
          "height": 195
        },
        "outputId": "c13599f8-b6bd-4d6f-83b9-9a23ac579927"
      },
      "source": [
        "def multiply_nums(num,*args):\n",
        "  multiply=1\n",
        "  print(num)\n",
        "  print(args)\n",
        "  for i in args:\n",
        "    multiply*=i\n",
        "  return multiply\n",
        "print(multiply_nums())"
      ],
      "execution_count": null,
      "outputs": [
        {
          "output_type": "error",
          "ename": "TypeError",
          "evalue": "ignored",
          "traceback": [
            "\u001b[0;31m---------------------------------------------------------------------------\u001b[0m",
            "\u001b[0;31mTypeError\u001b[0m                                 Traceback (most recent call last)",
            "\u001b[0;32m<ipython-input-21-115f5c748493>\u001b[0m in \u001b[0;36m<module>\u001b[0;34m()\u001b[0m\n\u001b[1;32m      6\u001b[0m     \u001b[0mmultiply\u001b[0m\u001b[0;34m*=\u001b[0m\u001b[0mi\u001b[0m\u001b[0;34m\u001b[0m\u001b[0;34m\u001b[0m\u001b[0m\n\u001b[1;32m      7\u001b[0m   \u001b[0;32mreturn\u001b[0m \u001b[0mmultiply\u001b[0m\u001b[0;34m\u001b[0m\u001b[0;34m\u001b[0m\u001b[0m\n\u001b[0;32m----> 8\u001b[0;31m \u001b[0mprint\u001b[0m\u001b[0;34m(\u001b[0m\u001b[0mmultiply_nums\u001b[0m\u001b[0;34m(\u001b[0m\u001b[0;34m)\u001b[0m\u001b[0;34m)\u001b[0m\u001b[0;34m\u001b[0m\u001b[0;34m\u001b[0m\u001b[0m\n\u001b[0m",
            "\u001b[0;31mTypeError\u001b[0m: multiply_nums() missing 1 required positional argument: 'num'"
          ]
        }
      ]
    },
    {
      "cell_type": "markdown",
      "metadata": {
        "id": "GLoF3JN2kU3c",
        "colab_type": "text"
      },
      "source": [
        "***args as arguement:-**"
      ]
    },
    {
      "cell_type": "code",
      "metadata": {
        "id": "yrbujZaHAvKM",
        "colab_type": "code",
        "colab": {
          "base_uri": "https://localhost:8080/",
          "height": 50
        },
        "outputId": "8eafb005-9954-4245-a765-7e6f39770469"
      },
      "source": [
        "def multiply_nums(*args):\n",
        "  multiply=1\n",
        "  print(args)\n",
        "  for i in args:\n",
        "    multiply*=i\n",
        "  return multiply\n",
        "num=[2,3,4]\n",
        "print(multiply_nums(num))"
      ],
      "execution_count": null,
      "outputs": [
        {
          "output_type": "stream",
          "text": [
            "([2, 3, 4],)\n",
            "[2, 3, 4]\n"
          ],
          "name": "stdout"
        }
      ]
    },
    {
      "cell_type": "markdown",
      "metadata": {
        "id": "Ma9NTAc-kcQE",
        "colab_type": "text"
      },
      "source": [
        "**With * as arguement:-**"
      ]
    },
    {
      "cell_type": "code",
      "metadata": {
        "id": "jqkbKklkBNHO",
        "colab_type": "code",
        "colab": {
          "base_uri": "https://localhost:8080/",
          "height": 50
        },
        "outputId": "689602f3-0e46-48f5-b9a0-5c5c1f5e9326"
      },
      "source": [
        "def multiply_nums(*args):\n",
        "  multiply=1\n",
        "  print(args)\n",
        "  for i in args:\n",
        "    multiply*=i\n",
        "  return multiply\n",
        "num=[2,3,4]\n",
        "print(multiply_nums(*num))"
      ],
      "execution_count": null,
      "outputs": [
        {
          "output_type": "stream",
          "text": [
            "(2, 3, 4)\n",
            "24\n"
          ],
          "name": "stdout"
        }
      ]
    },
    {
      "cell_type": "markdown",
      "metadata": {
        "id": "qtDSRHpRkh-m",
        "colab_type": "text"
      },
      "source": [
        "****kwargs(double star operator)-**It is a keyword arguement which gathers all the inputs given by the user and gives a dictionary of them as output."
      ]
    },
    {
      "cell_type": "code",
      "metadata": {
        "id": "vnGKAY0eBfHW",
        "colab_type": "code",
        "colab": {
          "base_uri": "https://localhost:8080/",
          "height": 34
        },
        "outputId": "ddde7983-b4ac-4ff6-e176-1256aeb94797"
      },
      "source": [
        "def func(**kwargs):\n",
        "  print(kwargs)\n",
        "func(first_name='Adarsh',last_name='Jadon')"
      ],
      "execution_count": null,
      "outputs": [
        {
          "output_type": "stream",
          "text": [
            "{'first_name': 'Adarsh', 'last_name': 'Jadon'}\n"
          ],
          "name": "stdout"
        }
      ]
    },
    {
      "cell_type": "markdown",
      "metadata": {
        "id": "23zYPtTkk6pJ",
        "colab_type": "text"
      },
      "source": [
        "**kwargs as a parameter:-**"
      ]
    },
    {
      "cell_type": "code",
      "metadata": {
        "id": "PoJcAF6bB3iq",
        "colab_type": "code",
        "colab": {
          "base_uri": "https://localhost:8080/",
          "height": 50
        },
        "outputId": "f0cb6fa3-8b9a-478a-9e41-a361ed21a268"
      },
      "source": [
        "def func(**kwargs):\n",
        "  for k,v in kwargs.items():\n",
        "    print(f'{k}:{v}')\n",
        "func(first_name='Adarsh',last_name='Jadon')"
      ],
      "execution_count": null,
      "outputs": [
        {
          "output_type": "stream",
          "text": [
            "first_name:Adarsh\n",
            "last_name:Jadon\n"
          ],
          "name": "stdout"
        }
      ]
    },
    {
      "cell_type": "markdown",
      "metadata": {
        "id": "SscWRx7LlETK",
        "colab_type": "text"
      },
      "source": [
        "**Dictionary unpacking:-**"
      ]
    },
    {
      "cell_type": "code",
      "metadata": {
        "id": "NU-E68wMCRTS",
        "colab_type": "code",
        "colab": {
          "base_uri": "https://localhost:8080/",
          "height": 162
        },
        "outputId": "d0ebe84f-9e72-44ad-c524-4dbbe2da51ad"
      },
      "source": [
        "func('Krishna',first_name='Adarsh',last_name='Jadon')"
      ],
      "execution_count": null,
      "outputs": [
        {
          "output_type": "error",
          "ename": "TypeError",
          "evalue": "ignored",
          "traceback": [
            "\u001b[0;31m---------------------------------------------------------------------------\u001b[0m",
            "\u001b[0;31mTypeError\u001b[0m                                 Traceback (most recent call last)",
            "\u001b[0;32m<ipython-input-27-059155bc51fa>\u001b[0m in \u001b[0;36m<module>\u001b[0;34m()\u001b[0m\n\u001b[0;32m----> 1\u001b[0;31m \u001b[0mfunc\u001b[0m\u001b[0;34m(\u001b[0m\u001b[0;34m'Krishna'\u001b[0m\u001b[0;34m,\u001b[0m\u001b[0mfirst_name\u001b[0m\u001b[0;34m=\u001b[0m\u001b[0;34m'Adarsh'\u001b[0m\u001b[0;34m,\u001b[0m\u001b[0mlast_name\u001b[0m\u001b[0;34m=\u001b[0m\u001b[0;34m'Jadon'\u001b[0m\u001b[0;34m)\u001b[0m\u001b[0;34m\u001b[0m\u001b[0;34m\u001b[0m\u001b[0m\n\u001b[0m",
            "\u001b[0;31mTypeError\u001b[0m: func() takes 0 positional arguments but 1 was given"
          ]
        }
      ]
    },
    {
      "cell_type": "code",
      "metadata": {
        "id": "eGzmz3ccCqp6",
        "colab_type": "code",
        "colab": {
          "base_uri": "https://localhost:8080/",
          "height": 195
        },
        "outputId": "15ed62af-45b5-438b-d451-581f73c1fd1e"
      },
      "source": [
        "def func(**kwargs):\n",
        "  for k,v in kwargs.items():\n",
        "    print(f'{k}:{v}')\n",
        "d={'name':'Adarsh','age':19}\n",
        "func(d)"
      ],
      "execution_count": null,
      "outputs": [
        {
          "output_type": "error",
          "ename": "TypeError",
          "evalue": "ignored",
          "traceback": [
            "\u001b[0;31m---------------------------------------------------------------------------\u001b[0m",
            "\u001b[0;31mTypeError\u001b[0m                                 Traceback (most recent call last)",
            "\u001b[0;32m<ipython-input-28-b6f4571d845a>\u001b[0m in \u001b[0;36m<module>\u001b[0;34m()\u001b[0m\n\u001b[1;32m      3\u001b[0m     \u001b[0mprint\u001b[0m\u001b[0;34m(\u001b[0m\u001b[0;34mf'{k}:{v}'\u001b[0m\u001b[0;34m)\u001b[0m\u001b[0;34m\u001b[0m\u001b[0;34m\u001b[0m\u001b[0m\n\u001b[1;32m      4\u001b[0m \u001b[0md\u001b[0m\u001b[0;34m=\u001b[0m\u001b[0;34m{\u001b[0m\u001b[0;34m'name'\u001b[0m\u001b[0;34m:\u001b[0m\u001b[0;34m'Adarsh'\u001b[0m\u001b[0;34m,\u001b[0m\u001b[0;34m'age'\u001b[0m\u001b[0;34m:\u001b[0m\u001b[0;36m19\u001b[0m\u001b[0;34m}\u001b[0m\u001b[0;34m\u001b[0m\u001b[0;34m\u001b[0m\u001b[0m\n\u001b[0;32m----> 5\u001b[0;31m \u001b[0mfunc\u001b[0m\u001b[0;34m(\u001b[0m\u001b[0md\u001b[0m\u001b[0;34m)\u001b[0m\u001b[0;34m\u001b[0m\u001b[0;34m\u001b[0m\u001b[0m\n\u001b[0m",
            "\u001b[0;31mTypeError\u001b[0m: func() takes 0 positional arguments but 1 was given"
          ]
        }
      ]
    },
    {
      "cell_type": "code",
      "metadata": {
        "id": "IZWZiRduDKpM",
        "colab_type": "code",
        "colab": {
          "base_uri": "https://localhost:8080/",
          "height": 50
        },
        "outputId": "1d46d174-33eb-4c3c-ecd3-d9b1bbfe1bbb"
      },
      "source": [
        "func(**d)"
      ],
      "execution_count": null,
      "outputs": [
        {
          "output_type": "stream",
          "text": [
            "name:Adarsh\n",
            "age:19\n"
          ],
          "name": "stdout"
        }
      ]
    },
    {
      "cell_type": "markdown",
      "metadata": {
        "id": "sRhxbzvDlLsV",
        "colab_type": "text"
      },
      "source": [
        "**Functions with all parameters:-**"
      ]
    },
    {
      "cell_type": "code",
      "metadata": {
        "id": "fitDUq1xDOmU",
        "colab_type": "code",
        "colab": {
          "base_uri": "https://localhost:8080/",
          "height": 50
        },
        "outputId": "f7768add-fc1c-45ac-a232-f75aa83290bf"
      },
      "source": [
        "def func(name='unknown',age=19):\n",
        "  print(name)\n",
        "  print(age)\n",
        "func()"
      ],
      "execution_count": null,
      "outputs": [
        {
          "output_type": "stream",
          "text": [
            "unknown\n",
            "19\n"
          ],
          "name": "stdout"
        }
      ]
    },
    {
      "cell_type": "code",
      "metadata": {
        "id": "OfcGI8cilbiZ",
        "colab_type": "code",
        "colab": {
          "base_uri": "https://localhost:8080/",
          "height": 50
        },
        "outputId": "c447c437-cd32-4a15-8f3d-0755da07d0a4"
      },
      "source": [
        "func('Adarsh')"
      ],
      "execution_count": null,
      "outputs": [
        {
          "output_type": "stream",
          "text": [
            "Adarsh\n",
            "19\n"
          ],
          "name": "stdout"
        }
      ]
    },
    {
      "cell_type": "markdown",
      "metadata": {
        "id": "w2UlIxDWlh_B",
        "colab_type": "text"
      },
      "source": [
        "**System of passing all parameters in a function:-**\n",
        "\n",
        "*   parameters\n",
        "*   *args\n",
        "\n",
        "*   default parameters\n",
        "*   **kwargs\n",
        "\n",
        "\n",
        "\n"
      ]
    },
    {
      "cell_type": "code",
      "metadata": {
        "id": "2URel99mDfWx",
        "colab_type": "code",
        "colab": {
          "base_uri": "https://localhost:8080/",
          "height": 84
        },
        "outputId": "8d607a81-ffd6-44ca-eb04-8f9eb71f9a2a"
      },
      "source": [
        "def func(name,*args,last_name='unknown',**kwargs):\n",
        "  print(name)\n",
        "  print(args)\n",
        "  print(last_name)\n",
        "  print(kwargs)\n",
        "func('Adarsh',1,2,3,a=1,b=2)"
      ],
      "execution_count": null,
      "outputs": [
        {
          "output_type": "stream",
          "text": [
            "Adarsh\n",
            "(1, 2, 3)\n",
            "unknown\n",
            "{'a': 1, 'b': 2}\n"
          ],
          "name": "stdout"
        }
      ]
    },
    {
      "cell_type": "markdown",
      "metadata": {
        "id": "3SwR7K9_l4Ly",
        "colab_type": "text"
      },
      "source": [
        "#**Chapter - 12**"
      ]
    },
    {
      "cell_type": "markdown",
      "metadata": {
        "id": "ZUuz3dRbl-2r",
        "colab_type": "text"
      },
      "source": [
        "**Lambda expression-**It is an anonymous function. It is so called as it has no name. It is defined in one line which has no name."
      ]
    },
    {
      "cell_type": "code",
      "metadata": {
        "id": "EWH89YhFEACp",
        "colab_type": "code",
        "colab": {
          "base_uri": "https://localhost:8080/",
          "height": 34
        },
        "outputId": "644c8104-1e39-40cc-f42f-a7cb86fa2a19"
      },
      "source": [
        "add=lambda a,b:a+b\n",
        "print(add(3,2))"
      ],
      "execution_count": null,
      "outputs": [
        {
          "output_type": "stream",
          "text": [
            "5\n"
          ],
          "name": "stdout"
        }
      ]
    },
    {
      "cell_type": "markdown",
      "metadata": {
        "id": "itD3AOKZmT7i",
        "colab_type": "text"
      },
      "source": [
        "We use lambda expressions with built-in functions like-map, reduce, filter"
      ]
    },
    {
      "cell_type": "code",
      "metadata": {
        "id": "Fpf2og1lmeEF",
        "colab_type": "code",
        "colab": {
          "base_uri": "https://localhost:8080/",
          "height": 34
        },
        "outputId": "44533d33-f6ce-4668-c5b2-f6a29ca2c130"
      },
      "source": [
        "multiply=lambda a,b:a*b\n",
        "print(multiply(2,3))"
      ],
      "execution_count": null,
      "outputs": [
        {
          "output_type": "stream",
          "text": [
            "6\n"
          ],
          "name": "stdout"
        }
      ]
    },
    {
      "cell_type": "code",
      "metadata": {
        "id": "MeRP9qvG_eVA",
        "colab_type": "code",
        "colab": {
          "base_uri": "https://localhost:8080/",
          "height": 34
        },
        "outputId": "1fa49a86-0131-4b4d-d151-93c67f9a9ee9"
      },
      "source": [
        "def is_even(a):\n",
        "  if a%2==0:\n",
        "    return True\n",
        "  else:\n",
        "    return False\n",
        "print(is_even(4))"
      ],
      "execution_count": null,
      "outputs": [
        {
          "output_type": "stream",
          "text": [
            "True\n"
          ],
          "name": "stdout"
        }
      ]
    },
    {
      "cell_type": "markdown",
      "metadata": {
        "id": "CSXTv99gmqCy",
        "colab_type": "text"
      },
      "source": [
        "**With lambda expression:-**"
      ]
    },
    {
      "cell_type": "code",
      "metadata": {
        "id": "PRko9fYBAkvd",
        "colab_type": "code",
        "colab": {
          "base_uri": "https://localhost:8080/",
          "height": 34
        },
        "outputId": "062e0c9b-f013-4c6a-b276-05d12fe32a55"
      },
      "source": [
        "is_even=lambda a:a%2==0\n",
        "print(is_even(6))"
      ],
      "execution_count": null,
      "outputs": [
        {
          "output_type": "stream",
          "text": [
            "True\n"
          ],
          "name": "stdout"
        }
      ]
    },
    {
      "cell_type": "code",
      "metadata": {
        "id": "RI0oEsEFCKYk",
        "colab_type": "code",
        "colab": {}
      },
      "source": [
        "def add(a,b):\n",
        "  return a+b"
      ],
      "execution_count": null,
      "outputs": []
    },
    {
      "cell_type": "code",
      "metadata": {
        "id": "5vVigL0aASZa",
        "colab_type": "code",
        "colab": {
          "base_uri": "https://localhost:8080/",
          "height": 34
        },
        "outputId": "91440e6d-e558-4b1c-844f-1971b23626e8"
      },
      "source": [
        "last_char=lambda s:s[-1]\n",
        "print(last_char('adarsh'))"
      ],
      "execution_count": null,
      "outputs": [
        {
          "output_type": "stream",
          "text": [
            "h\n"
          ],
          "name": "stdout"
        }
      ]
    },
    {
      "cell_type": "markdown",
      "metadata": {
        "id": "m_5SkarYmzPM",
        "colab_type": "text"
      },
      "source": [
        "**Lambda with if-else:-**"
      ]
    },
    {
      "cell_type": "code",
      "metadata": {
        "id": "HrX0foQnA3Jp",
        "colab_type": "code",
        "colab": {
          "base_uri": "https://localhost:8080/",
          "height": 34
        },
        "outputId": "b941add1-4b20-4be4-b4e0-ac324d987eb3"
      },
      "source": [
        "def func(s):\n",
        "  if len(s)>5:\n",
        "    return True\n",
        "  return False\n",
        "print(func('abc'))"
      ],
      "execution_count": null,
      "outputs": [
        {
          "output_type": "stream",
          "text": [
            "False\n"
          ],
          "name": "stdout"
        }
      ]
    },
    {
      "cell_type": "code",
      "metadata": {
        "id": "4gyFUFQ8BRRM",
        "colab_type": "code",
        "colab": {
          "base_uri": "https://localhost:8080/",
          "height": 34
        },
        "outputId": "d711028b-f6bc-425a-eb11-3768943532e3"
      },
      "source": [
        "func=lambda s:True if len(s)>5 else False\n",
        "print(func('abc'))"
      ],
      "execution_count": null,
      "outputs": [
        {
          "output_type": "stream",
          "text": [
            "False\n"
          ],
          "name": "stdout"
        }
      ]
    },
    {
      "cell_type": "markdown",
      "metadata": {
        "id": "7HVO-k0gm5K7",
        "colab_type": "text"
      },
      "source": [
        "#**Chapter - 13**"
      ]
    },
    {
      "cell_type": "markdown",
      "metadata": {
        "id": "uaYZnYTDrrpE",
        "colab_type": "text"
      },
      "source": [
        "**Enumerate() function-**Enumerate function is used with for loop. It is used when we have to search the position of an item in a list/tuple."
      ]
    },
    {
      "cell_type": "code",
      "metadata": {
        "id": "xjQEn4Y6Bt6b",
        "colab_type": "code",
        "colab": {
          "base_uri": "https://localhost:8080/",
          "height": 67
        },
        "outputId": "c5167c57-dc3e-4fd9-cdc4-8ef51a9deb8e"
      },
      "source": [
        "names=['abc','abcdef','adarsh']\n",
        "pos=0\n",
        "for name in names:\n",
        "  print(f'{pos}:{name}')\n",
        "  pos+=1"
      ],
      "execution_count": null,
      "outputs": [
        {
          "output_type": "stream",
          "text": [
            "0:abc\n",
            "1:abcdef\n",
            "2:adarsh\n"
          ],
          "name": "stdout"
        }
      ]
    },
    {
      "cell_type": "markdown",
      "metadata": {
        "id": "RUaj1Y-9sGIN",
        "colab_type": "text"
      },
      "source": [
        "**With enumerate function:-**"
      ]
    },
    {
      "cell_type": "code",
      "metadata": {
        "id": "rSKenUsODG1j",
        "colab_type": "code",
        "colab": {
          "base_uri": "https://localhost:8080/",
          "height": 67
        },
        "outputId": "6f4bb0d3-6014-4522-8843-e8ff9cd75e9b"
      },
      "source": [
        "names=['abc','abcdef','adarsh']\n",
        "for pos,name in enumerate(names):\n",
        "  print(f'{pos}:{name}')"
      ],
      "execution_count": null,
      "outputs": [
        {
          "output_type": "stream",
          "text": [
            "0:abc\n",
            "1:abcdef\n",
            "2:adarsh\n"
          ],
          "name": "stdout"
        }
      ]
    },
    {
      "cell_type": "markdown",
      "metadata": {
        "id": "omQVdhnxsQKw",
        "colab_type": "text"
      },
      "source": [
        "**Map() function:-**"
      ]
    },
    {
      "cell_type": "code",
      "metadata": {
        "id": "OJ73KXUXDriB",
        "colab_type": "code",
        "colab": {
          "base_uri": "https://localhost:8080/",
          "height": 34
        },
        "outputId": "ae987384-2ace-4b67-b721-cb020c2dc60c"
      },
      "source": [
        "numbers=[1,2,3,4]\n",
        "def square(a):\n",
        "  return a**2\n",
        "squares=list(map(square,numbers))\n",
        "print(squares)"
      ],
      "execution_count": null,
      "outputs": [
        {
          "output_type": "stream",
          "text": [
            "[1, 4, 9, 16]\n"
          ],
          "name": "stdout"
        }
      ]
    },
    {
      "cell_type": "code",
      "metadata": {
        "id": "18nQ-bdiESb0",
        "colab_type": "code",
        "colab": {
          "base_uri": "https://localhost:8080/",
          "height": 34
        },
        "outputId": "35d0f7e4-5a16-481b-ec9d-df8806e765c8"
      },
      "source": [
        "numbers=[1,2,3,4]\n",
        "squares=list(map(lambda a:a**2,numbers))\n",
        "print(squares)"
      ],
      "execution_count": null,
      "outputs": [
        {
          "output_type": "stream",
          "text": [
            "[1, 4, 9, 16]\n"
          ],
          "name": "stdout"
        }
      ]
    },
    {
      "cell_type": "markdown",
      "metadata": {
        "id": "tOo0lAJMsVft",
        "colab_type": "text"
      },
      "source": [
        "**With list comprehension:-**"
      ]
    },
    {
      "cell_type": "code",
      "metadata": {
        "id": "lYu9G4O-E2HF",
        "colab_type": "code",
        "colab": {
          "base_uri": "https://localhost:8080/",
          "height": 34
        },
        "outputId": "80067134-e801-4d7a-804e-015ae60d14bb"
      },
      "source": [
        "numbers=[1,2,3,4]\n",
        "squares_new=[i**2 for i in numbers]\n",
        "print(squares_new)"
      ],
      "execution_count": null,
      "outputs": [
        {
          "output_type": "stream",
          "text": [
            "[1, 4, 9, 16]\n"
          ],
          "name": "stdout"
        }
      ]
    },
    {
      "cell_type": "code",
      "metadata": {
        "id": "r1xyxJzmFRgc",
        "colab_type": "code",
        "colab": {
          "base_uri": "https://localhost:8080/",
          "height": 34
        },
        "outputId": "5963b28b-0ed9-44ac-98b3-d4c5574b21ee"
      },
      "source": [
        "numbers=[1,2,3,4]\n",
        "new_list=[]\n",
        "for num in numbers:\n",
        "  new_list.append(square(num))\n",
        "print(new_list)"
      ],
      "execution_count": null,
      "outputs": [
        {
          "output_type": "stream",
          "text": [
            "[1, 4, 9, 16]\n"
          ],
          "name": "stdout"
        }
      ]
    },
    {
      "cell_type": "markdown",
      "metadata": {
        "id": "aGlaY1OzsbH_",
        "colab_type": "text"
      },
      "source": [
        "**To find the length of string:-**"
      ]
    },
    {
      "cell_type": "code",
      "metadata": {
        "id": "XsIf43qdF9gc",
        "colab_type": "code",
        "colab": {
          "base_uri": "https://localhost:8080/",
          "height": 67
        },
        "outputId": "b1d34866-43da-4521-f8df-d77a29c710de"
      },
      "source": [
        "names=['abc','abcd','abcde']\n",
        "length=map(len,names)\n",
        "for i in length:\n",
        "  print(i)"
      ],
      "execution_count": null,
      "outputs": [
        {
          "output_type": "stream",
          "text": [
            "3\n",
            "4\n",
            "5\n"
          ],
          "name": "stdout"
        }
      ]
    },
    {
      "cell_type": "markdown",
      "metadata": {
        "id": "wLMpKSDssi5S",
        "colab_type": "text"
      },
      "source": [
        "**Filter() function:-**"
      ]
    },
    {
      "cell_type": "code",
      "metadata": {
        "id": "O4XkfrPRGVZT",
        "colab_type": "code",
        "colab": {
          "base_uri": "https://localhost:8080/",
          "height": 34
        },
        "outputId": "781a64b6-f802-4171-b2db-aa12564c618d"
      },
      "source": [
        "def is_even(a):\n",
        "  return a%2==0\n",
        "numbers=[3,4,2,1,5,6,9,8,10]\n",
        "evens=tuple(filter(is_even,numbers))\n",
        "print(evens)"
      ],
      "execution_count": null,
      "outputs": [
        {
          "output_type": "stream",
          "text": [
            "(4, 2, 6, 8, 10)\n"
          ],
          "name": "stdout"
        }
      ]
    },
    {
      "cell_type": "markdown",
      "metadata": {
        "id": "AvwhtdQLsn9M",
        "colab_type": "text"
      },
      "source": [
        "**With lambda expression:-**"
      ]
    },
    {
      "cell_type": "code",
      "metadata": {
        "id": "TUEPi5kQIjiG",
        "colab_type": "code",
        "colab": {
          "base_uri": "https://localhost:8080/",
          "height": 34
        },
        "outputId": "1e5889b6-febf-466c-a174-4c1cd1d21dc8"
      },
      "source": [
        "numbers=[3,4,2,1,5,6,9,8,10]\n",
        "evens=tuple(filter(lambda a:a%2==0,numbers))\n",
        "print(evens)"
      ],
      "execution_count": null,
      "outputs": [
        {
          "output_type": "stream",
          "text": [
            "(4, 2, 6, 8, 10)\n"
          ],
          "name": "stdout"
        }
      ]
    },
    {
      "cell_type": "code",
      "metadata": {
        "id": "M01u9VWFI09X",
        "colab_type": "code",
        "colab": {
          "base_uri": "https://localhost:8080/",
          "height": 101
        },
        "outputId": "963662a0-c90d-409d-a3d1-7f0b4e666fea"
      },
      "source": [
        "for i in evens:\n",
        "  print(i)"
      ],
      "execution_count": null,
      "outputs": [
        {
          "output_type": "stream",
          "text": [
            "4\n",
            "2\n",
            "6\n",
            "8\n",
            "10\n"
          ],
          "name": "stdout"
        }
      ]
    },
    {
      "cell_type": "code",
      "metadata": {
        "id": "AW2tDNpTJekt",
        "colab_type": "code",
        "colab": {
          "base_uri": "https://localhost:8080/",
          "height": 50
        },
        "outputId": "53e30158-a99c-4f60-ebf1-cec9b14e9261"
      },
      "source": [
        "new_evens=(i for i in numbers if i%2==0)\n",
        "print(list(evens))\n",
        "print(new_evens)"
      ],
      "execution_count": null,
      "outputs": [
        {
          "output_type": "stream",
          "text": [
            "[4, 2, 6, 8, 10]\n",
            "<generator object <genexpr> at 0x7f1c4fc87678>\n"
          ],
          "name": "stdout"
        }
      ]
    },
    {
      "cell_type": "markdown",
      "metadata": {
        "id": "FUefI1kBtCeA",
        "colab_type": "text"
      },
      "source": [
        "**Iterator VS iterable:-**"
      ]
    },
    {
      "cell_type": "code",
      "metadata": {
        "id": "_us5CHNbJucD",
        "colab_type": "code",
        "colab": {
          "base_uri": "https://localhost:8080/",
          "height": 34
        },
        "outputId": "5eded21f-af16-4923-c6f2-d3025cc7c08f"
      },
      "source": [
        "numbers=[1,2,3,4]\n",
        "number_iter=iter(numbers)\n",
        "print(next(number_iter))"
      ],
      "execution_count": null,
      "outputs": [
        {
          "output_type": "stream",
          "text": [
            "1\n"
          ],
          "name": "stdout"
        }
      ]
    },
    {
      "cell_type": "code",
      "metadata": {
        "id": "MMxjVSPPKMiU",
        "colab_type": "code",
        "colab": {
          "base_uri": "https://localhost:8080/",
          "height": 50
        },
        "outputId": "01cc0467-8a57-4c34-8007-49a63da82834"
      },
      "source": [
        "number_iter=iter(numbers)\n",
        "print(next(number_iter))\n",
        "print(next(number_iter))"
      ],
      "execution_count": null,
      "outputs": [
        {
          "output_type": "stream",
          "text": [
            "1\n",
            "2\n"
          ],
          "name": "stdout"
        }
      ]
    },
    {
      "cell_type": "code",
      "metadata": {
        "id": "N7cDSIuXKU4M",
        "colab_type": "code",
        "colab": {
          "base_uri": "https://localhost:8080/",
          "height": 67
        },
        "outputId": "5d168326-52a2-445c-9bc7-d97aac2f09bc"
      },
      "source": [
        "number_iter=iter(numbers)\n",
        "print(next(number_iter))\n",
        "print(next(number_iter))\n",
        "print(next(number_iter))"
      ],
      "execution_count": null,
      "outputs": [
        {
          "output_type": "stream",
          "text": [
            "1\n",
            "2\n",
            "3\n"
          ],
          "name": "stdout"
        }
      ]
    },
    {
      "cell_type": "code",
      "metadata": {
        "id": "gTvrM6YYKZX6",
        "colab_type": "code",
        "colab": {
          "base_uri": "https://localhost:8080/",
          "height": 84
        },
        "outputId": "b1a2a54e-d3f7-4de3-8d11-59113c4329ce"
      },
      "source": [
        "number_iter=iter(numbers)\n",
        "print(next(number_iter))\n",
        "print(next(number_iter))\n",
        "print(next(number_iter))\n",
        "print(next(number_iter))"
      ],
      "execution_count": null,
      "outputs": [
        {
          "output_type": "stream",
          "text": [
            "1\n",
            "2\n",
            "3\n",
            "4\n"
          ],
          "name": "stdout"
        }
      ]
    },
    {
      "cell_type": "code",
      "metadata": {
        "id": "K3bmNV5uKhBL",
        "colab_type": "code",
        "colab": {
          "base_uri": "https://localhost:8080/",
          "height": 34
        },
        "outputId": "44ca4e6a-7ec4-4a61-a334-191d124d4275"
      },
      "source": [
        "print(iter(numbers))"
      ],
      "execution_count": null,
      "outputs": [
        {
          "output_type": "stream",
          "text": [
            "<list_iterator object at 0x7f1c4fc7c588>\n"
          ],
          "name": "stdout"
        }
      ]
    },
    {
      "cell_type": "markdown",
      "metadata": {
        "id": "6Ec2SQ7ytLCw",
        "colab_type": "text"
      },
      "source": [
        "**Zip() function-**It is used to combine two lists or tuples. It returns a list of combined tuples."
      ]
    },
    {
      "cell_type": "code",
      "metadata": {
        "id": "RG9zPSc0Ko-V",
        "colab_type": "code",
        "colab": {
          "base_uri": "https://localhost:8080/",
          "height": 34
        },
        "outputId": "12c5db8f-fdab-48d8-f42a-094605c29fff"
      },
      "source": [
        "user_id=['user1','user2','user3']\n",
        "names=['Adarsh','Krishna','Romeo']\n",
        "print(list(zip(user_id,names)))"
      ],
      "execution_count": null,
      "outputs": [
        {
          "output_type": "stream",
          "text": [
            "[('user1', 'Adarsh'), ('user2', 'Krishna'), ('user3', 'Romeo')]\n"
          ],
          "name": "stdout"
        }
      ]
    },
    {
      "cell_type": "code",
      "metadata": {
        "id": "KSyeP1adLJot",
        "colab_type": "code",
        "colab": {
          "base_uri": "https://localhost:8080/",
          "height": 34
        },
        "outputId": "c00f90c3-501f-4745-aabf-2e62ff6a994a"
      },
      "source": [
        "user_id=['user1','user2']\n",
        "names=['Adarsh','Krishna','Romeo']\n",
        "print(list(zip(user_id,names)))"
      ],
      "execution_count": null,
      "outputs": [
        {
          "output_type": "stream",
          "text": [
            "[('user1', 'Adarsh'), ('user2', 'Krishna')]\n"
          ],
          "name": "stdout"
        }
      ]
    },
    {
      "cell_type": "code",
      "metadata": {
        "id": "ZHkZT-7xLpXv",
        "colab_type": "code",
        "colab": {
          "base_uri": "https://localhost:8080/",
          "height": 34
        },
        "outputId": "26faa076-7616-47d3-f45d-304e6d2f5c98"
      },
      "source": [
        "user_id=['user1','user2']\n",
        "names=['Adarsh','Krishna','Romeo']\n",
        "last_names=['Jadon','Jadon','Squad']\n",
        "print(list(zip(user_id,names,last_names)))"
      ],
      "execution_count": null,
      "outputs": [
        {
          "output_type": "stream",
          "text": [
            "[('user1', 'Adarsh', 'Jadon'), ('user2', 'Krishna', 'Jadon')]\n"
          ],
          "name": "stdout"
        }
      ]
    },
    {
      "cell_type": "markdown",
      "metadata": {
        "id": "yKXAU_VatlZy",
        "colab_type": "text"
      },
      "source": [
        "**NOTE-**You can change list of tuples to dictionaries."
      ]
    },
    {
      "cell_type": "code",
      "metadata": {
        "id": "4I7WCdeYQM3I",
        "colab_type": "code",
        "colab": {
          "base_uri": "https://localhost:8080/",
          "height": 34
        },
        "outputId": "14d27df7-dc72-4d8f-b6b0-f78b6ba8f1ac"
      },
      "source": [
        "example=[('a',1),('b',2)]\n",
        "print(dict(example))"
      ],
      "execution_count": null,
      "outputs": [
        {
          "output_type": "stream",
          "text": [
            "{'a': 1, 'b': 2}\n"
          ],
          "name": "stdout"
        }
      ]
    },
    {
      "cell_type": "markdown",
      "metadata": {
        "id": "bOf_if97tvDG",
        "colab_type": "text"
      },
      "source": [
        "*** operator with zip function:-**"
      ]
    },
    {
      "cell_type": "code",
      "metadata": {
        "id": "_WpbErDjQijb",
        "colab_type": "code",
        "colab": {
          "base_uri": "https://localhost:8080/",
          "height": 34
        },
        "outputId": "eb2fb5ac-aca7-43b6-d2c6-b34e6dbf2f01"
      },
      "source": [
        "l=[(1,2),(3,4),(5,6),(7,8)]\n",
        "print(list(zip(*l)))"
      ],
      "execution_count": null,
      "outputs": [
        {
          "output_type": "stream",
          "text": [
            "[(1, 3, 5, 7), (2, 4, 6, 8)]\n"
          ],
          "name": "stdout"
        }
      ]
    },
    {
      "cell_type": "code",
      "metadata": {
        "id": "xWquAztnQzSd",
        "colab_type": "code",
        "colab": {
          "base_uri": "https://localhost:8080/",
          "height": 50
        },
        "outputId": "efb66361-051c-40cc-97d1-fbab6988c51f"
      },
      "source": [
        "l=[(1,2),(3,4),(5,6),(7,8)]\n",
        "l1,l2=list(zip(*l))\n",
        "print(l1)\n",
        "print(l2)"
      ],
      "execution_count": null,
      "outputs": [
        {
          "output_type": "stream",
          "text": [
            "(1, 3, 5, 7)\n",
            "(2, 4, 6, 8)\n"
          ],
          "name": "stdout"
        }
      ]
    },
    {
      "cell_type": "code",
      "metadata": {
        "id": "tDMEXLJNQ8aw",
        "colab_type": "code",
        "colab": {
          "base_uri": "https://localhost:8080/",
          "height": 50
        },
        "outputId": "2d8aa230-274c-4a74-a413-a7015b1c821e"
      },
      "source": [
        "l=[(1,2),(3,4),(5,6),(7,8)]\n",
        "l1,l2=list(zip(*l))\n",
        "print(list(l1))\n",
        "print(list(l2))"
      ],
      "execution_count": null,
      "outputs": [
        {
          "output_type": "stream",
          "text": [
            "[1, 3, 5, 7]\n",
            "[2, 4, 6, 8]\n"
          ],
          "name": "stdout"
        }
      ]
    },
    {
      "cell_type": "markdown",
      "metadata": {
        "id": "L9nRVCA1t4wy",
        "colab_type": "text"
      },
      "source": [
        "**Finding maximum values from tuples in zip() function:-**"
      ]
    },
    {
      "cell_type": "code",
      "metadata": {
        "id": "wCbaHt-tRTBS",
        "colab_type": "code",
        "colab": {
          "base_uri": "https://localhost:8080/",
          "height": 34
        },
        "outputId": "bdf8fdf2-c1a3-4506-d869-bf2a4996e727"
      },
      "source": [
        "l1=[1,3,5,7]\n",
        "l2=[2,4,6,8]\n",
        "new_list=[]\n",
        "for pair in zip(l1,l2):\n",
        "  new_list.append(max(pair))\n",
        "print(new_list)"
      ],
      "execution_count": null,
      "outputs": [
        {
          "output_type": "stream",
          "text": [
            "[2, 4, 6, 8]\n"
          ],
          "name": "stdout"
        }
      ]
    },
    {
      "cell_type": "markdown",
      "metadata": {
        "id": "az6GU_9VuEZ7",
        "colab_type": "text"
      },
      "source": [
        "**Any and all function:-**"
      ]
    },
    {
      "cell_type": "code",
      "metadata": {
        "id": "BUIVwkylRp13",
        "colab_type": "code",
        "colab": {
          "base_uri": "https://localhost:8080/",
          "height": 34
        },
        "outputId": "0d482fa6-8401-4ecf-d67e-e9145be28021"
      },
      "source": [
        "n1=[2,4,6,8,10]\n",
        "n2=[1,2,3,4,5,6]\n",
        "evens1=[]\n",
        "for num in n1:\n",
        "  evens1.append(num%2==0)\n",
        "print(evens1)"
      ],
      "execution_count": null,
      "outputs": [
        {
          "output_type": "stream",
          "text": [
            "[True, True, True, True, True]\n"
          ],
          "name": "stdout"
        }
      ]
    },
    {
      "cell_type": "code",
      "metadata": {
        "id": "FYo7xqYqI5Sp",
        "colab_type": "code",
        "colab": {
          "base_uri": "https://localhost:8080/",
          "height": 34
        },
        "outputId": "61ff266e-1c5f-4dc6-bac4-b1af473073c2"
      },
      "source": [
        "n1=[2,4,6,8,10]\n",
        "n2=[1,2,3,4,5,6]\n",
        "print(all([num%2==0 for num in n1]))"
      ],
      "execution_count": null,
      "outputs": [
        {
          "output_type": "stream",
          "text": [
            "True\n"
          ],
          "name": "stdout"
        }
      ]
    },
    {
      "cell_type": "code",
      "metadata": {
        "id": "7U-No3WoJTZ9",
        "colab_type": "code",
        "colab": {
          "base_uri": "https://localhost:8080/",
          "height": 34
        },
        "outputId": "cb6dd120-4771-4f2a-e0ee-df4511b3590e"
      },
      "source": [
        "n1=[2,4,6,8,10]\n",
        "n2=[1,2,3,4,5,6]\n",
        "print(all([num%2==0 for num in n2]))"
      ],
      "execution_count": null,
      "outputs": [
        {
          "output_type": "stream",
          "text": [
            "False\n"
          ],
          "name": "stdout"
        }
      ]
    },
    {
      "cell_type": "code",
      "metadata": {
        "id": "-3DmTA70Je5z",
        "colab_type": "code",
        "colab": {
          "base_uri": "https://localhost:8080/",
          "height": 34
        },
        "outputId": "d5baa9b7-811c-41cb-f9ce-8c29d31f04a5"
      },
      "source": [
        "print(any([num%2==0 for num in n2]))"
      ],
      "execution_count": null,
      "outputs": [
        {
          "output_type": "stream",
          "text": [
            "True\n"
          ],
          "name": "stdout"
        }
      ]
    },
    {
      "cell_type": "code",
      "metadata": {
        "id": "d59jtZqpJmVx",
        "colab_type": "code",
        "colab": {
          "base_uri": "https://localhost:8080/",
          "height": 313
        },
        "outputId": "924db67c-3978-4c5a-e3dc-fe02b7522b45"
      },
      "source": [
        "def my_sum(*args):\n",
        "  total=0\n",
        "  for num in args:\n",
        "    total+=num\n",
        "  return total\n",
        "print(my_sum(1,2,3,4,'adarsh',['adarsh']))"
      ],
      "execution_count": null,
      "outputs": [
        {
          "output_type": "error",
          "ename": "TypeError",
          "evalue": "ignored",
          "traceback": [
            "\u001b[0;31m---------------------------------------------------------------------------\u001b[0m",
            "\u001b[0;31mTypeError\u001b[0m                                 Traceback (most recent call last)",
            "\u001b[0;32m<ipython-input-8-ffd996cb37c2>\u001b[0m in \u001b[0;36m<module>\u001b[0;34m()\u001b[0m\n\u001b[1;32m      4\u001b[0m     \u001b[0mtotal\u001b[0m\u001b[0;34m+=\u001b[0m\u001b[0mnum\u001b[0m\u001b[0;34m\u001b[0m\u001b[0;34m\u001b[0m\u001b[0m\n\u001b[1;32m      5\u001b[0m   \u001b[0;32mreturn\u001b[0m \u001b[0mtotal\u001b[0m\u001b[0;34m\u001b[0m\u001b[0;34m\u001b[0m\u001b[0m\n\u001b[0;32m----> 6\u001b[0;31m \u001b[0mprint\u001b[0m\u001b[0;34m(\u001b[0m\u001b[0mmy_sum\u001b[0m\u001b[0;34m(\u001b[0m\u001b[0;36m1\u001b[0m\u001b[0;34m,\u001b[0m\u001b[0;36m2\u001b[0m\u001b[0;34m,\u001b[0m\u001b[0;36m3\u001b[0m\u001b[0;34m,\u001b[0m\u001b[0;36m4\u001b[0m\u001b[0;34m,\u001b[0m\u001b[0;34m'adarsh'\u001b[0m\u001b[0;34m,\u001b[0m\u001b[0;34m[\u001b[0m\u001b[0;34m'adarsh'\u001b[0m\u001b[0;34m]\u001b[0m\u001b[0;34m)\u001b[0m\u001b[0;34m)\u001b[0m\u001b[0;34m\u001b[0m\u001b[0;34m\u001b[0m\u001b[0m\n\u001b[0m",
            "\u001b[0;32m<ipython-input-8-ffd996cb37c2>\u001b[0m in \u001b[0;36mmy_sum\u001b[0;34m(*args)\u001b[0m\n\u001b[1;32m      2\u001b[0m   \u001b[0mtotal\u001b[0m\u001b[0;34m=\u001b[0m\u001b[0;36m0\u001b[0m\u001b[0;34m\u001b[0m\u001b[0;34m\u001b[0m\u001b[0m\n\u001b[1;32m      3\u001b[0m   \u001b[0;32mfor\u001b[0m \u001b[0mnum\u001b[0m \u001b[0;32min\u001b[0m \u001b[0margs\u001b[0m\u001b[0;34m:\u001b[0m\u001b[0;34m\u001b[0m\u001b[0;34m\u001b[0m\u001b[0m\n\u001b[0;32m----> 4\u001b[0;31m     \u001b[0mtotal\u001b[0m\u001b[0;34m+=\u001b[0m\u001b[0mnum\u001b[0m\u001b[0;34m\u001b[0m\u001b[0;34m\u001b[0m\u001b[0m\n\u001b[0m\u001b[1;32m      5\u001b[0m   \u001b[0;32mreturn\u001b[0m \u001b[0mtotal\u001b[0m\u001b[0;34m\u001b[0m\u001b[0;34m\u001b[0m\u001b[0m\n\u001b[1;32m      6\u001b[0m \u001b[0mprint\u001b[0m\u001b[0;34m(\u001b[0m\u001b[0mmy_sum\u001b[0m\u001b[0;34m(\u001b[0m\u001b[0;36m1\u001b[0m\u001b[0;34m,\u001b[0m\u001b[0;36m2\u001b[0m\u001b[0;34m,\u001b[0m\u001b[0;36m3\u001b[0m\u001b[0;34m,\u001b[0m\u001b[0;36m4\u001b[0m\u001b[0;34m,\u001b[0m\u001b[0;34m'adarsh'\u001b[0m\u001b[0;34m,\u001b[0m\u001b[0;34m[\u001b[0m\u001b[0;34m'adarsh'\u001b[0m\u001b[0;34m]\u001b[0m\u001b[0;34m)\u001b[0m\u001b[0;34m)\u001b[0m\u001b[0;34m\u001b[0m\u001b[0;34m\u001b[0m\u001b[0m\n",
            "\u001b[0;31mTypeError\u001b[0m: unsupported operand type(s) for +=: 'int' and 'str'"
          ]
        }
      ]
    },
    {
      "cell_type": "code",
      "metadata": {
        "id": "MDEXIoODKCy7",
        "colab_type": "code",
        "colab": {
          "base_uri": "https://localhost:8080/",
          "height": 34
        },
        "outputId": "5e885c61-6f8c-4593-e37a-fe7439f10cd5"
      },
      "source": [
        "def my_sum(*args):\n",
        "  if all([(type(arg)==int or type(arg)==float) for arg in args]):\n",
        "    total=0\n",
        "    for num in args:\n",
        "      total+=num\n",
        "    return total\n",
        "  else:\n",
        "    return 'Wrong Input'\n",
        "print(my_sum(1,2,3,4,'adarsh',['adarsh']))"
      ],
      "execution_count": null,
      "outputs": [
        {
          "output_type": "stream",
          "text": [
            "Wrong Input\n"
          ],
          "name": "stdout"
        }
      ]
    },
    {
      "cell_type": "code",
      "metadata": {
        "id": "wmolZaobKzQm",
        "colab_type": "code",
        "colab": {
          "base_uri": "https://localhost:8080/",
          "height": 34
        },
        "outputId": "6b3af0ca-b921-4c31-93e0-3da4e3f68066"
      },
      "source": [
        "print(my_sum(1,2,3,4))"
      ],
      "execution_count": null,
      "outputs": [
        {
          "output_type": "stream",
          "text": [
            "10\n"
          ],
          "name": "stdout"
        }
      ]
    },
    {
      "cell_type": "markdown",
      "metadata": {
        "id": "yFjpNQYUuNu3",
        "colab_type": "text"
      },
      "source": [
        "**Advance min() and max() functions:-**"
      ]
    },
    {
      "cell_type": "code",
      "metadata": {
        "id": "6Nn_AXCFLDn-",
        "colab_type": "code",
        "colab": {
          "base_uri": "https://localhost:8080/",
          "height": 34
        },
        "outputId": "3fa52d67-c6eb-4cce-c386-cab082d862e8"
      },
      "source": [
        "def func(item):\n",
        "  return len(item)\n",
        "names=['adarsh','krishna','romeo']\n",
        "print(max(names,key=func))"
      ],
      "execution_count": null,
      "outputs": [
        {
          "output_type": "stream",
          "text": [
            "krishna\n"
          ],
          "name": "stdout"
        }
      ]
    },
    {
      "cell_type": "code",
      "metadata": {
        "id": "UK4RNVXzLZa8",
        "colab_type": "code",
        "colab": {
          "base_uri": "https://localhost:8080/",
          "height": 34
        },
        "outputId": "2798a1dd-237a-4fb9-92f1-24a769bc35e5"
      },
      "source": [
        "print(max(names, key=lambda item:len(item)))"
      ],
      "execution_count": null,
      "outputs": [
        {
          "output_type": "stream",
          "text": [
            "krishna\n"
          ],
          "name": "stdout"
        }
      ]
    },
    {
      "cell_type": "code",
      "metadata": {
        "id": "gVRdOetSLkU4",
        "colab_type": "code",
        "colab": {
          "base_uri": "https://localhost:8080/",
          "height": 34
        },
        "outputId": "d85da507-851a-4b37-d5ae-54c01389b665"
      },
      "source": [
        "students=[\n",
        "          {'name':'adarsh','score':90,'age':20},\n",
        "          {'name':'krishna','score':70,'age':18},\n",
        "          {'name':'romeo','score':60,'age':26}\n",
        "]\n",
        "print(max(students,key=lambda item:item.get('score')))"
      ],
      "execution_count": null,
      "outputs": [
        {
          "output_type": "stream",
          "text": [
            "{'name': 'adarsh', 'score': 90, 'age': 20}\n"
          ],
          "name": "stdout"
        }
      ]
    },
    {
      "cell_type": "code",
      "metadata": {
        "id": "KbHFP3KyMYme",
        "colab_type": "code",
        "colab": {
          "base_uri": "https://localhost:8080/",
          "height": 34
        },
        "outputId": "c4ea2637-dd0c-4d59-8649-fc120266c1e5"
      },
      "source": [
        "students2={\n",
        "    'adarsh':{'score':90,'age':20},\n",
        "    'krishna':{'score':70,'age':18},\n",
        "    'romeo':{'score':60,'age':26}\n",
        "}\n",
        "print(max(students2,key=lambda item:students2[item]['score']))"
      ],
      "execution_count": null,
      "outputs": [
        {
          "output_type": "stream",
          "text": [
            "adarsh\n"
          ],
          "name": "stdout"
        }
      ]
    },
    {
      "cell_type": "markdown",
      "metadata": {
        "id": "CO3DJ4I6uUzD",
        "colab_type": "text"
      },
      "source": [
        "**Advance sorted() function:-**"
      ]
    },
    {
      "cell_type": "code",
      "metadata": {
        "id": "hpBTm2lGPXxN",
        "colab_type": "code",
        "colab": {
          "base_uri": "https://localhost:8080/",
          "height": 34
        },
        "outputId": "639fcab0-d435-4a9c-aca9-74e57e550d05"
      },
      "source": [
        "fruits=['grapes','mango','apple']\n",
        "fruits.sort()\n",
        "print(fruits)"
      ],
      "execution_count": null,
      "outputs": [
        {
          "output_type": "stream",
          "text": [
            "['apple', 'grapes', 'mango']\n"
          ],
          "name": "stdout"
        }
      ]
    },
    {
      "cell_type": "markdown",
      "metadata": {
        "id": "CRONhIrhuaon",
        "colab_type": "text"
      },
      "source": [
        "**NOTE-**Sort() function is not available in tuples."
      ]
    },
    {
      "cell_type": "code",
      "metadata": {
        "id": "LVv4VGBdQYUN",
        "colab_type": "code",
        "colab": {
          "base_uri": "https://localhost:8080/",
          "height": 195
        },
        "outputId": "bebf7931-cc2e-4f8f-9c2d-e5871cf2c4ff"
      },
      "source": [
        "fruits2=('grapes','mango','apple')\n",
        "fruits2.sort()\n",
        "print(fruits2)"
      ],
      "execution_count": null,
      "outputs": [
        {
          "output_type": "error",
          "ename": "AttributeError",
          "evalue": "ignored",
          "traceback": [
            "\u001b[0;31m---------------------------------------------------------------------------\u001b[0m",
            "\u001b[0;31mAttributeError\u001b[0m                            Traceback (most recent call last)",
            "\u001b[0;32m<ipython-input-25-ba3e45daaac7>\u001b[0m in \u001b[0;36m<module>\u001b[0;34m()\u001b[0m\n\u001b[1;32m      1\u001b[0m \u001b[0mfruits2\u001b[0m\u001b[0;34m=\u001b[0m\u001b[0;34m(\u001b[0m\u001b[0;34m'grapes'\u001b[0m\u001b[0;34m,\u001b[0m\u001b[0;34m'mango'\u001b[0m\u001b[0;34m,\u001b[0m\u001b[0;34m'apple'\u001b[0m\u001b[0;34m)\u001b[0m\u001b[0;34m\u001b[0m\u001b[0;34m\u001b[0m\u001b[0m\n\u001b[0;32m----> 2\u001b[0;31m \u001b[0mfruits2\u001b[0m\u001b[0;34m.\u001b[0m\u001b[0msort\u001b[0m\u001b[0;34m(\u001b[0m\u001b[0;34m)\u001b[0m\u001b[0;34m\u001b[0m\u001b[0;34m\u001b[0m\u001b[0m\n\u001b[0m\u001b[1;32m      3\u001b[0m \u001b[0mprint\u001b[0m\u001b[0;34m(\u001b[0m\u001b[0mfruits2\u001b[0m\u001b[0;34m)\u001b[0m\u001b[0;34m\u001b[0m\u001b[0;34m\u001b[0m\u001b[0m\n",
            "\u001b[0;31mAttributeError\u001b[0m: 'tuple' object has no attribute 'sort'"
          ]
        }
      ]
    },
    {
      "cell_type": "code",
      "metadata": {
        "id": "9_UcZEzdQlod",
        "colab_type": "code",
        "colab": {
          "base_uri": "https://localhost:8080/",
          "height": 34
        },
        "outputId": "76794ab7-f3b5-4dcb-cfb5-e27b4ab489b1"
      },
      "source": [
        "fruits2=('grapes','mango','apple')\n",
        "sorted(fruits2)\n",
        "print(fruits2)"
      ],
      "execution_count": null,
      "outputs": [
        {
          "output_type": "stream",
          "text": [
            "('grapes', 'mango', 'apple')\n"
          ],
          "name": "stdout"
        }
      ]
    },
    {
      "cell_type": "code",
      "metadata": {
        "id": "8CpnfOeNQ7Cl",
        "colab_type": "code",
        "colab": {
          "base_uri": "https://localhost:8080/",
          "height": 34
        },
        "outputId": "e4142c0e-faeb-4b42-d654-0f806a3eb466"
      },
      "source": [
        "fruits2=('grapes','mango','apple')\n",
        "print(sorted(fruits2))"
      ],
      "execution_count": null,
      "outputs": [
        {
          "output_type": "stream",
          "text": [
            "['apple', 'grapes', 'mango']\n"
          ],
          "name": "stdout"
        }
      ]
    },
    {
      "cell_type": "code",
      "metadata": {
        "id": "OlKyLHOFRC2t",
        "colab_type": "code",
        "colab": {
          "base_uri": "https://localhost:8080/",
          "height": 34
        },
        "outputId": "8c09d6f5-2d5a-46af-f1fd-f2106c515126"
      },
      "source": [
        "guitars=[\n",
        "         {'model':'yamaha f310','price':8400},\n",
        "         {'model':'faith naptune','price':50000},\n",
        "         {'model':'faith apollo venus','price':35000},\n",
        "         {'model':'taylor 814ce','price':450000}\n",
        "]\n",
        "print(sorted(guitars,key=lambda d:d['price']))"
      ],
      "execution_count": null,
      "outputs": [
        {
          "output_type": "stream",
          "text": [
            "[{'model': 'yamaha f310', 'price': 8400}, {'model': 'faith apollo venus', 'price': 35000}, {'model': 'faith naptune', 'price': 50000}, {'model': 'taylor 814ce', 'price': 450000}]\n"
          ],
          "name": "stdout"
        }
      ]
    },
    {
      "cell_type": "code",
      "metadata": {
        "id": "QPxIK9lyR7Ll",
        "colab_type": "code",
        "colab": {
          "base_uri": "https://localhost:8080/",
          "height": 34
        },
        "outputId": "1adf2089-77c8-4f08-ee80-8e00da03c867"
      },
      "source": [
        "print(sorted(guitars,key=lambda d:d['price'],reverse=True))"
      ],
      "execution_count": null,
      "outputs": [
        {
          "output_type": "stream",
          "text": [
            "[{'model': 'taylor 814ce', 'price': 450000}, {'model': 'faith naptune', 'price': 50000}, {'model': 'faith apollo venus', 'price': 35000}, {'model': 'yamaha f310', 'price': 8400}]\n"
          ],
          "name": "stdout"
        }
      ]
    },
    {
      "cell_type": "code",
      "metadata": {
        "id": "cwYwNJOfSMWU",
        "colab_type": "code",
        "colab": {
          "base_uri": "https://localhost:8080/",
          "height": 34
        },
        "outputId": "4f78e544-8724-4bd6-aafc-faa845d00efa"
      },
      "source": [
        "sorted_guitars=sorted(guitars,key=lambda d:d['price'],reverse=True)\n",
        "print(sorted_guitars)"
      ],
      "execution_count": null,
      "outputs": [
        {
          "output_type": "stream",
          "text": [
            "[{'model': 'taylor 814ce', 'price': 450000}, {'model': 'faith naptune', 'price': 50000}, {'model': 'faith apollo venus', 'price': 35000}, {'model': 'yamaha f310', 'price': 8400}]\n"
          ],
          "name": "stdout"
        }
      ]
    },
    {
      "cell_type": "markdown",
      "metadata": {
        "id": "C6mNV-3nupEd",
        "colab_type": "text"
      },
      "source": [
        "**Doc strings-**Doc strings are triple single quotes(''' ''') or triple double quotes(\"\"\" \"\"\"). We use this to give the user a message."
      ]
    },
    {
      "cell_type": "code",
      "metadata": {
        "id": "rbRNdo-WSf9b",
        "colab_type": "code",
        "colab": {
          "base_uri": "https://localhost:8080/",
          "height": 34
        },
        "outputId": "64a1e968-5c2b-43f1-9e3a-004f06b08d63"
      },
      "source": [
        "def add(a,b):\n",
        "  return a+b\n",
        "print(add.__doc__)"
      ],
      "execution_count": null,
      "outputs": [
        {
          "output_type": "stream",
          "text": [
            "None\n"
          ],
          "name": "stdout"
        }
      ]
    },
    {
      "cell_type": "markdown",
      "metadata": {
        "id": "9pdV2n2kvXYB",
        "colab_type": "text"
      },
      "source": [
        "**NOTE-**We can see the doc string of built-in functions like len, sum, ax, min, sorted etc."
      ]
    },
    {
      "cell_type": "markdown",
      "metadata": {
        "id": "pqffxQJMvRRk",
        "colab_type": "text"
      },
      "source": [
        "**Help function:-**"
      ]
    },
    {
      "cell_type": "code",
      "metadata": {
        "id": "2FA7utRlvNOG",
        "colab_type": "code",
        "colab": {
          "base_uri": "https://localhost:8080/",
          "height": 185
        },
        "outputId": "f29507b6-d4b1-4b43-eed8-4310ca5dc7f0"
      },
      "source": [
        "print(help(sum))"
      ],
      "execution_count": 7,
      "outputs": [
        {
          "output_type": "stream",
          "text": [
            "Help on built-in function sum in module builtins:\n",
            "\n",
            "sum(iterable, start=0, /)\n",
            "    Return the sum of a 'start' value (default: 0) plus an iterable of numbers\n",
            "    \n",
            "    When the iterable is empty, return the start value.\n",
            "    This function is intended specifically for use with numeric values and may\n",
            "    reject non-numeric types.\n",
            "\n",
            "None\n"
          ],
          "name": "stdout"
        }
      ]
    },
    {
      "cell_type": "markdown",
      "metadata": {
        "id": "S7h8d2PTvlQR",
        "colab_type": "text"
      },
      "source": [
        "**NOTE-**help() function is used to take help or detail about built-in functions. If we do not know more about any built-in function, then this help() function can be used."
      ]
    },
    {
      "cell_type": "markdown",
      "metadata": {
        "id": "SA3qtBJyv8v1",
        "colab_type": "text"
      },
      "source": [
        "#**Chapter - 14**"
      ]
    },
    {
      "cell_type": "markdown",
      "metadata": {
        "id": "cEzQExVCwTni",
        "colab_type": "text"
      },
      "source": [
        "**First class function/closures:-**"
      ]
    },
    {
      "cell_type": "code",
      "metadata": {
        "id": "GaE-jWzGS3OF",
        "colab_type": "code",
        "colab": {
          "base_uri": "https://localhost:8080/",
          "height": 34
        },
        "outputId": "033f65a9-d9d3-4c82-e14b-8e2791ae3940"
      },
      "source": [
        "def square(a):\n",
        "  return a**2\n",
        "s=square(7)\n",
        "print(s)"
      ],
      "execution_count": 10,
      "outputs": [
        {
          "output_type": "stream",
          "text": [
            "49\n"
          ],
          "name": "stdout"
        }
      ]
    },
    {
      "cell_type": "code",
      "metadata": {
        "id": "-D2qVNwuwqfg",
        "colab_type": "code",
        "colab": {
          "base_uri": "https://localhost:8080/",
          "height": 34
        },
        "outputId": "eede158e-fe01-48de-ebbc-01722c999ada"
      },
      "source": [
        "s=square\n",
        "print(s(7))"
      ],
      "execution_count": 11,
      "outputs": [
        {
          "output_type": "stream",
          "text": [
            "49\n"
          ],
          "name": "stdout"
        }
      ]
    },
    {
      "cell_type": "code",
      "metadata": {
        "id": "kkunJD-xTY69",
        "colab_type": "code",
        "colab": {
          "base_uri": "https://localhost:8080/",
          "height": 50
        },
        "outputId": "e8391b29-0c2c-4439-b622-d03e16331f17"
      },
      "source": [
        "print(s.__name__)\n",
        "print(square.__name__)"
      ],
      "execution_count": 12,
      "outputs": [
        {
          "output_type": "stream",
          "text": [
            "square\n",
            "square\n"
          ],
          "name": "stdout"
        }
      ]
    },
    {
      "cell_type": "markdown",
      "metadata": {
        "id": "CPjdQxU8wbvV",
        "colab_type": "text"
      },
      "source": [
        "**Pass function as arguement:-**"
      ]
    },
    {
      "cell_type": "code",
      "metadata": {
        "id": "rPr4XSBoTjyU",
        "colab_type": "code",
        "colab": {
          "base_uri": "https://localhost:8080/",
          "height": 34
        },
        "outputId": "a0f9f92f-1d6f-4ac6-e402-b561586fdacb"
      },
      "source": [
        "def square(a):\n",
        "  return a**2\n",
        "l=[1,2,3,4]\n",
        "print(list(map(square,l)))"
      ],
      "execution_count": null,
      "outputs": [
        {
          "output_type": "stream",
          "text": [
            "[1, 4, 9, 16]\n"
          ],
          "name": "stdout"
        }
      ]
    },
    {
      "cell_type": "code",
      "metadata": {
        "id": "eGUf0sRqT9zU",
        "colab_type": "code",
        "colab": {
          "base_uri": "https://localhost:8080/",
          "height": 34
        },
        "outputId": "2727d57e-4a38-4830-9781-e2136a16d281"
      },
      "source": [
        "def square(a):\n",
        "  return a**2\n",
        "l=[1,2,3,4]\n",
        "def my_map(func,l):\n",
        "  new_list=[]\n",
        "  for item in l:\n",
        "    new_list.append(func(item))\n",
        "  return new_list\n",
        "print(my_map(square,l))"
      ],
      "execution_count": null,
      "outputs": [
        {
          "output_type": "stream",
          "text": [
            "[1, 4, 9, 16]\n"
          ],
          "name": "stdout"
        }
      ]
    },
    {
      "cell_type": "code",
      "metadata": {
        "id": "-5pGOHONUisE",
        "colab_type": "code",
        "colab": {
          "base_uri": "https://localhost:8080/",
          "height": 34
        },
        "outputId": "4c05b813-0dc0-45e3-e511-e702f88f043e"
      },
      "source": [
        "l=[1,2,3,4]\n",
        "def my_map(func,l):\n",
        "  new_list=[]\n",
        "  for item in l:\n",
        "    new_list.append(func(item))\n",
        "  return new_list\n",
        "print(my_map(lambda a:a**3,l))"
      ],
      "execution_count": null,
      "outputs": [
        {
          "output_type": "stream",
          "text": [
            "[1, 8, 27, 64]\n"
          ],
          "name": "stdout"
        }
      ]
    },
    {
      "cell_type": "markdown",
      "metadata": {
        "id": "qzlwcL2bw6jp",
        "colab_type": "text"
      },
      "source": [
        "**Function returning function:-**"
      ]
    },
    {
      "cell_type": "code",
      "metadata": {
        "id": "sYgFS-pLUxu1",
        "colab_type": "code",
        "colab": {
          "base_uri": "https://localhost:8080/",
          "height": 34
        },
        "outputId": "28387eeb-5552-4f53-e24e-0b1ce5a509ca"
      },
      "source": [
        "def outer_func():\n",
        "  def inner_func():\n",
        "    print('inside inner func')\n",
        "  return inner_func\n",
        "var=outer_func()\n",
        "var()"
      ],
      "execution_count": null,
      "outputs": [
        {
          "output_type": "stream",
          "text": [
            "inside inner func\n"
          ],
          "name": "stdout"
        }
      ]
    },
    {
      "cell_type": "code",
      "metadata": {
        "id": "yI0LxJrBbDvY",
        "colab_type": "code",
        "colab": {
          "base_uri": "https://localhost:8080/",
          "height": 34
        },
        "outputId": "5c621a8a-0682-4a60-cbe6-7f1fbbf9eafa"
      },
      "source": [
        "def outer_func():\n",
        "  def inner_func():\n",
        "    print('inside inner func')\n",
        "  return inner_func()\n",
        "var=outer_func()"
      ],
      "execution_count": null,
      "outputs": [
        {
          "output_type": "stream",
          "text": [
            "inside inner func\n"
          ],
          "name": "stdout"
        }
      ]
    },
    {
      "cell_type": "code",
      "metadata": {
        "id": "czeI__1eYX0T",
        "colab_type": "code",
        "colab": {
          "base_uri": "https://localhost:8080/",
          "height": 34
        },
        "outputId": "08e921e6-8baf-497d-fec4-3da5ef8a19ec"
      },
      "source": [
        "def outer_func2(msg):\n",
        "  def inner_func2():\n",
        "    print(f'{msg}')\n",
        "  return inner_func2\n",
        "var=outer_func2('adarsh')\n",
        "var()"
      ],
      "execution_count": null,
      "outputs": [
        {
          "output_type": "stream",
          "text": [
            "adarsh\n"
          ],
          "name": "stdout"
        }
      ]
    },
    {
      "cell_type": "markdown",
      "metadata": {
        "id": "t2tFd5y-xCG9",
        "colab_type": "text"
      },
      "source": [
        "**Closures practice:-**"
      ]
    },
    {
      "cell_type": "code",
      "metadata": {
        "id": "_23opm89Yvu6",
        "colab_type": "code",
        "colab": {
          "base_uri": "https://localhost:8080/",
          "height": 34
        },
        "outputId": "7538e23e-b666-4d12-dc59-685e968eb316"
      },
      "source": [
        "def to_power(x):\n",
        "  def calc_power(n):\n",
        "    return n**x\n",
        "  return calc_power\n",
        "cube=to_power(3)\n",
        "print(cube(5))"
      ],
      "execution_count": null,
      "outputs": [
        {
          "output_type": "stream",
          "text": [
            "125\n"
          ],
          "name": "stdout"
        }
      ]
    },
    {
      "cell_type": "markdown",
      "metadata": {
        "id": "ozt7M-KnxJFQ",
        "colab_type": "text"
      },
      "source": [
        "**Decorators-**They enhance the functionality of all other functions."
      ]
    },
    {
      "cell_type": "code",
      "metadata": {
        "id": "K0XVo72XZJdm",
        "colab_type": "code",
        "colab": {}
      },
      "source": [
        "def decorator_function(any_function):\n",
        "  def wrapper_function():\n",
        "    print('This is awesome function')\n",
        "    any_function()\n",
        "  return wrapper_function"
      ],
      "execution_count": null,
      "outputs": []
    },
    {
      "cell_type": "code",
      "metadata": {
        "id": "XI-xnPYtZppT",
        "colab_type": "code",
        "colab": {
          "base_uri": "https://localhost:8080/",
          "height": 50
        },
        "outputId": "b65e65e9-29d2-4d85-c100-7b64fd8bf462"
      },
      "source": [
        "def func1():\n",
        "  print('This is function 1')\n",
        "def func2():\n",
        "  print('This is functio 2')\n",
        "var=decorator_function(func1)\n",
        "var()"
      ],
      "execution_count": null,
      "outputs": [
        {
          "output_type": "stream",
          "text": [
            "This is awesome function\n",
            "This is function 1\n"
          ],
          "name": "stdout"
        }
      ]
    },
    {
      "cell_type": "code",
      "metadata": {
        "id": "dv_le7M4Z8mD",
        "colab_type": "code",
        "colab": {
          "base_uri": "https://localhost:8080/",
          "height": 50
        },
        "outputId": "5e9de4a5-bd85-4bbe-cbdc-98622a043f13"
      },
      "source": [
        "func2=decorator_function(func2)\n",
        "func2()"
      ],
      "execution_count": null,
      "outputs": [
        {
          "output_type": "stream",
          "text": [
            "This is awesome function\n",
            "This is functio 2\n"
          ],
          "name": "stdout"
        }
      ]
    },
    {
      "cell_type": "code",
      "metadata": {
        "id": "9HJU45rxaHmo",
        "colab_type": "code",
        "colab": {
          "base_uri": "https://localhost:8080/",
          "height": 34
        },
        "outputId": "c79c9fd2-9429-4415-963b-050d04a60167"
      },
      "source": [
        "def decorator_function(any_function):\n",
        "  def wrapper_function():\n",
        "    print('This is awesome function')\n",
        "    any_function\n",
        "  return wrapper_function\n",
        "@decorator_function\n",
        "def func1():\n",
        "  print('This is function 1')\n",
        "func1()"
      ],
      "execution_count": null,
      "outputs": [
        {
          "output_type": "stream",
          "text": [
            "This is awesome function\n"
          ],
          "name": "stdout"
        }
      ]
    },
    {
      "cell_type": "code",
      "metadata": {
        "id": "S13LX4TMasus",
        "colab_type": "code",
        "colab": {
          "base_uri": "https://localhost:8080/",
          "height": 195
        },
        "outputId": "288e7634-b235-4583-82fc-cb38b1327691"
      },
      "source": [
        "def decorator_function(any_function):\n",
        "  def wrapper_function():\n",
        "    print('This is awesome function')\n",
        "    any_function\n",
        "  return wrapper_function\n",
        "@decorator_function\n",
        "def func(a):\n",
        "  print(f'this is function with arguement{a}')\n",
        "func(7)"
      ],
      "execution_count": null,
      "outputs": [
        {
          "output_type": "error",
          "ename": "TypeError",
          "evalue": "ignored",
          "traceback": [
            "\u001b[0;31m---------------------------------------------------------------------------\u001b[0m",
            "\u001b[0;31mTypeError\u001b[0m                                 Traceback (most recent call last)",
            "\u001b[0;32m<ipython-input-15-7d63f64981a5>\u001b[0m in \u001b[0;36m<module>\u001b[0;34m()\u001b[0m\n\u001b[1;32m      7\u001b[0m \u001b[0;32mdef\u001b[0m \u001b[0mfunc\u001b[0m\u001b[0;34m(\u001b[0m\u001b[0ma\u001b[0m\u001b[0;34m)\u001b[0m\u001b[0;34m:\u001b[0m\u001b[0;34m\u001b[0m\u001b[0;34m\u001b[0m\u001b[0m\n\u001b[1;32m      8\u001b[0m   \u001b[0mprint\u001b[0m\u001b[0;34m(\u001b[0m\u001b[0;34mf'this is function with arguement{a}'\u001b[0m\u001b[0;34m)\u001b[0m\u001b[0;34m\u001b[0m\u001b[0;34m\u001b[0m\u001b[0m\n\u001b[0;32m----> 9\u001b[0;31m \u001b[0mfunc\u001b[0m\u001b[0;34m(\u001b[0m\u001b[0;36m7\u001b[0m\u001b[0;34m)\u001b[0m\u001b[0;34m\u001b[0m\u001b[0;34m\u001b[0m\u001b[0m\n\u001b[0m",
            "\u001b[0;31mTypeError\u001b[0m: wrapper_function() takes 0 positional arguments but 1 was given"
          ]
        }
      ]
    },
    {
      "cell_type": "code",
      "metadata": {
        "id": "93qmBaicbj-j",
        "colab_type": "code",
        "colab": {
          "base_uri": "https://localhost:8080/",
          "height": 50
        },
        "outputId": "fc67a7b7-8016-491e-f54a-0511444126bc"
      },
      "source": [
        "def decorator_function(any_function):\n",
        "  def wrapper_function(*args,**kwargs):\n",
        "    print('This is awesome function')\n",
        "    any_function(*args,**kwargs)\n",
        "  return wrapper_function\n",
        "@decorator_function\n",
        "def func(a):\n",
        "  print(f'this is function with arguement {a}')\n",
        "func(7)"
      ],
      "execution_count": null,
      "outputs": [
        {
          "output_type": "stream",
          "text": [
            "This is awesome function\n",
            "this is function with arguement 7\n"
          ],
          "name": "stdout"
        }
      ]
    },
    {
      "cell_type": "code",
      "metadata": {
        "id": "MfP0BEOFcArx",
        "colab_type": "code",
        "colab": {
          "base_uri": "https://localhost:8080/",
          "height": 84
        },
        "outputId": "8c20828a-8c83-4302-e53f-1fac13f3384f"
      },
      "source": [
        "def decorator_function(any_function):\n",
        "  def wrapper_function(*args,**kwargs):\n",
        "    print('This is awesome function')\n",
        "    any_function(*args,**kwargs)\n",
        "  return wrapper_function\n",
        "@decorator_function\n",
        "def func(a):\n",
        "  print(f'this is function with arguement {a}')\n",
        "func(5)\n",
        "@decorator_function\n",
        "def add(a,b):\n",
        "  return a+b\n",
        "print(add(2,3))"
      ],
      "execution_count": null,
      "outputs": [
        {
          "output_type": "stream",
          "text": [
            "This is awesome function\n",
            "this is function with arguement 5\n",
            "This is awesome function\n",
            "None\n"
          ],
          "name": "stdout"
        }
      ]
    },
    {
      "cell_type": "markdown",
      "metadata": {
        "id": "OcUz1_6Kxame",
        "colab_type": "text"
      },
      "source": [
        "**Decorators with arguements:-**"
      ]
    },
    {
      "cell_type": "code",
      "metadata": {
        "id": "gNrcAzyEccOa",
        "colab_type": "code",
        "colab": {
          "base_uri": "https://localhost:8080/",
          "height": 50
        },
        "outputId": "cfa5e958-b92a-47d5-f1ca-db0bcb7edfd1"
      },
      "source": [
        "from functools import wraps\n",
        "def decorator_function(any_function):\n",
        "  @wraps(any_function)\n",
        "  def wrapper_function(*args,**kwargs):\n",
        "    print('This is awesome function')\n",
        "    return any_function(*args,**kwargs)\n",
        "  return wrapper_function\n",
        "@decorator_function\n",
        "def add(a,b):\n",
        "  '''this is add function'''\n",
        "  return a+b\n",
        "print(add.__doc__)\n",
        "print(add.__name__)"
      ],
      "execution_count": null,
      "outputs": [
        {
          "output_type": "stream",
          "text": [
            "this is add function\n",
            "add\n"
          ],
          "name": "stdout"
        }
      ]
    },
    {
      "cell_type": "markdown",
      "metadata": {
        "id": "7v8WwTzHxhdm",
        "colab_type": "text"
      },
      "source": [
        "#**Chapter - 15**"
      ]
    },
    {
      "cell_type": "markdown",
      "metadata": {
        "id": "cMXoEuN1xm2s",
        "colab_type": "text"
      },
      "source": [
        "**Generators-**Generators are iterative. We can make a generator by using-\n",
        "\n",
        "*   generator function\n",
        "*   generator comprehension\n",
        "\n"
      ]
    },
    {
      "cell_type": "code",
      "metadata": {
        "id": "A-PW82pydhr-",
        "colab_type": "code",
        "colab": {
          "base_uri": "https://localhost:8080/",
          "height": 185
        },
        "outputId": "04cdc2f6-7f7e-444b-93e3-47d5ebd46bfa"
      },
      "source": [
        "def nums(n):\n",
        "  for i in range(1,n+1):\n",
        "    yield(i)\n",
        "for number in nums(10):\n",
        "  print(number)"
      ],
      "execution_count": null,
      "outputs": [
        {
          "output_type": "stream",
          "text": [
            "1\n",
            "2\n",
            "3\n",
            "4\n",
            "5\n",
            "6\n",
            "7\n",
            "8\n",
            "9\n",
            "10\n"
          ],
          "name": "stdout"
        }
      ]
    },
    {
      "cell_type": "markdown",
      "metadata": {
        "id": "LPyU5O6fx9ky",
        "colab_type": "text"
      },
      "source": [
        "**Generator comprehension:-**"
      ]
    },
    {
      "cell_type": "code",
      "metadata": {
        "id": "eyHll8GaecRQ",
        "colab_type": "code",
        "colab": {
          "base_uri": "https://localhost:8080/",
          "height": 185
        },
        "outputId": "dec46149-b153-45b1-80de-576797345b80"
      },
      "source": [
        "square=(i**2 for i in range(1,11))\n",
        "for num in square:\n",
        "  print(num)"
      ],
      "execution_count": null,
      "outputs": [
        {
          "output_type": "stream",
          "text": [
            "1\n",
            "4\n",
            "9\n",
            "16\n",
            "25\n",
            "36\n",
            "49\n",
            "64\n",
            "81\n",
            "100\n"
          ],
          "name": "stdout"
        }
      ]
    },
    {
      "cell_type": "markdown",
      "metadata": {
        "id": "-Q23--uTyGZ4",
        "colab_type": "text"
      },
      "source": [
        "#**Chapter - 16**"
      ]
    },
    {
      "cell_type": "markdown",
      "metadata": {
        "id": "HqicIcLWyLKJ",
        "colab_type": "text"
      },
      "source": [
        "**Object Oriented Programming(OOP)-**OOP is just a style to write a code. It is very helpful in creating real world problems."
      ]
    },
    {
      "cell_type": "markdown",
      "metadata": {
        "id": "hf0stU5Pydqz",
        "colab_type": "text"
      },
      "source": [
        "**Creating Class:-**"
      ]
    },
    {
      "cell_type": "code",
      "metadata": {
        "id": "0DdyKYIHep6a",
        "colab_type": "code",
        "colab": {
          "base_uri": "https://localhost:8080/",
          "height": 50
        },
        "outputId": "52a38d3f-aa9b-4293-a948-6a5a9b7fb14a"
      },
      "source": [
        "class Person:\n",
        "  def __init__(self,first_name,last_name,age):\n",
        "    self.first_name=first_name\n",
        "    self.last_name=last_name\n",
        "    self.age=age\n",
        "p1=Person('Adarsh','Jadon',19)\n",
        "p2=Person('Krishna','Jadon',24)\n",
        "print(p1.first_name)\n",
        "print(p2.last_name)"
      ],
      "execution_count": null,
      "outputs": [
        {
          "output_type": "stream",
          "text": [
            "Adarsh\n",
            "Jadon\n"
          ],
          "name": "stdout"
        }
      ]
    },
    {
      "cell_type": "markdown",
      "metadata": {
        "id": "VB30zh0MyjxB",
        "colab_type": "text"
      },
      "source": [
        "**Instance methods:-**"
      ]
    },
    {
      "cell_type": "code",
      "metadata": {
        "id": "nx34aqF3moXe",
        "colab_type": "code",
        "colab": {
          "base_uri": "https://localhost:8080/",
          "height": 50
        },
        "outputId": "b3f2dd13-2fe8-470a-cbeb-503ddfbdcfd6"
      },
      "source": [
        "class Person:\n",
        "  def __init__(self,first_name,last_name,age):\n",
        "    self.first_name=first_name\n",
        "    self.last_name=last_name\n",
        "    self.age=age\n",
        "  def full_name(self):\n",
        "    return f'{self.first_name}{self.last_name}'\n",
        "p1=Person('Adarsh','Jadon',19)\n",
        "p2=Person('Krishna','Jadon',24)\n",
        "print(p2.full_name())  \n",
        "print(Person.full_name(p2))"
      ],
      "execution_count": null,
      "outputs": [
        {
          "output_type": "stream",
          "text": [
            "KrishnaJadon\n",
            "KrishnaJadon\n"
          ],
          "name": "stdout"
        }
      ]
    },
    {
      "cell_type": "markdown",
      "metadata": {
        "id": "KH-z0Wqfyu7J",
        "colab_type": "text"
      },
      "source": [
        "**Class variable-**The class variable is shared with every object in the class."
      ]
    },
    {
      "cell_type": "code",
      "metadata": {
        "id": "cIFaRb8OncjU",
        "colab_type": "code",
        "colab": {
          "base_uri": "https://localhost:8080/",
          "height": 34
        },
        "outputId": "b1a3eaa7-ff12-4339-b9da-d3097bff4e7d"
      },
      "source": [
        "class Circle:\n",
        "  pi=3.14\n",
        "  def __init__(self,radius):\n",
        "    self.radius=radius\n",
        "  def calc_circumference(self):\n",
        "    return 2*Circle.pi*self.radius\n",
        "c=Circle(4)\n",
        "c1=Circle(5)\n",
        "print(c.calc_circumference())"
      ],
      "execution_count": null,
      "outputs": [
        {
          "output_type": "stream",
          "text": [
            "25.12\n"
          ],
          "name": "stdout"
        }
      ]
    },
    {
      "cell_type": "code",
      "metadata": {
        "id": "t5D1MGXMog99",
        "colab_type": "code",
        "colab": {
          "base_uri": "https://localhost:8080/",
          "height": 50
        },
        "outputId": "83bde8a5-c8f1-4544-b2d6-5fba287e1c2d"
      },
      "source": [
        "class Laptop:\n",
        "  discount_percent=10\n",
        "  def __init__(self,brand,name,price):\n",
        "    self.brand=brand\n",
        "    self.name=name\n",
        "    self.price=price\n",
        "    self.laptop_name=brand + '' + name\n",
        "  def apply_descount(self):\n",
        "    off_price=(Laptop.discount_percent/100)*self.price\n",
        "    return self.price-off_price\n",
        "Laptop.discount_percent=0\n",
        "laptop1=Laptop('hp','aull4tx',63000)\n",
        "print(laptop1.apply_descount())\n",
        "print(laptop1.__dict__)"
      ],
      "execution_count": null,
      "outputs": [
        {
          "output_type": "stream",
          "text": [
            "63000.0\n",
            "{'brand': 'hp', 'name': 'aull4tx', 'price': 63000, 'laptop_name': 'hpaull4tx'}\n"
          ],
          "name": "stdout"
        }
      ]
    },
    {
      "cell_type": "code",
      "metadata": {
        "id": "QSTb9h2GqjTT",
        "colab_type": "code",
        "colab": {
          "base_uri": "https://localhost:8080/",
          "height": 50
        },
        "outputId": "8e79bd17-e079-4043-ccb3-a287cbfedd0f"
      },
      "source": [
        "class Laptop:\n",
        "  discount_percent=10\n",
        "  def __init__(self,brand,name,price):\n",
        "    self.brand=brand\n",
        "    self.name=name\n",
        "    self.price=price\n",
        "    self.laptop_name=brand + '' + name\n",
        "  def apply_descount(self):\n",
        "    off_price=(self.discount_percent/100)*self.price\n",
        "    return self.price-off_price\n",
        "laptop1=Laptop('hp','aull4tx',63000)\n",
        "laptop1.discount_percent=50\n",
        "print(laptop1.__dict__)\n",
        "print(laptop1.apply_descount())"
      ],
      "execution_count": null,
      "outputs": [
        {
          "output_type": "stream",
          "text": [
            "{'brand': 'hp', 'name': 'aull4tx', 'price': 63000, 'laptop_name': 'hpaull4tx', 'discount_percent': 50}\n",
            "31500.0\n"
          ],
          "name": "stdout"
        }
      ]
    },
    {
      "cell_type": "markdown",
      "metadata": {
        "id": "h3JzQm5-y-mW",
        "colab_type": "text"
      },
      "source": [
        "**Class methods:-**"
      ]
    },
    {
      "cell_type": "code",
      "metadata": {
        "id": "zItg64X1uOvU",
        "colab_type": "code",
        "colab": {
          "base_uri": "https://localhost:8080/",
          "height": 34
        },
        "outputId": "0267964b-6bd7-4d48-ae20-861cb66fafd5"
      },
      "source": [
        "class Person:\n",
        "  count_instance=0\n",
        "  def __init__(self,first_name,last_name,age):\n",
        "    Person.count_instance+=1\n",
        "    self.first_name=first_name\n",
        "    self.last_name=last_name\n",
        "    self.age=age\n",
        "  @classmethod\n",
        "  def count_instances(cls):\n",
        "    return f'You have created{cls.count_instance} instance of {cls.__name__} class'\n",
        "  def full_name(self):\n",
        "    return f'{self.first_name} {self.last_name}'\n",
        "  def is_above_18(self):\n",
        "    return self.age>18\n",
        "p1=Person('Adarsh','Jadon',19)\n",
        "p2=Person('Krishna','Jadon',10)\n",
        "print(Person.count_instances())"
      ],
      "execution_count": null,
      "outputs": [
        {
          "output_type": "stream",
          "text": [
            "You have created2 instance of Person class\n"
          ],
          "name": "stdout"
        }
      ]
    },
    {
      "cell_type": "markdown",
      "metadata": {
        "id": "jSNr0dOHzNoY",
        "colab_type": "text"
      },
      "source": [
        "**Class method as a constructor:-**"
      ]
    },
    {
      "cell_type": "code",
      "metadata": {
        "id": "uBu3m0ycme5f",
        "colab_type": "code",
        "colab": {
          "base_uri": "https://localhost:8080/",
          "height": 34
        },
        "outputId": "1f2c4bd8-abcf-40f0-a98b-14f6a62be76e"
      },
      "source": [
        "class Person:\n",
        "  count_instance=0\n",
        "  def __init__(self,first_name,last_name,age):\n",
        "    Person.count_instance+=1\n",
        "    self.first_name=first_name\n",
        "    self.last_name=last_name\n",
        "    self.age=age\n",
        "  @classmethod\n",
        "  def from_string(cls,string):\n",
        "    first,last,age=string.split(',')\n",
        "    return cls(first,last,age)\n",
        "  @classmethod\n",
        "  def count_instances(cls):\n",
        "    return f'You have created {cls.count_instance} instances of {cls.__name__} class'\n",
        "  def full_name(self):\n",
        "    return f'{self.first_name} {self.last_name}'\n",
        "  def is_above_18(self):\n",
        "    return self.age>18\n",
        "p1=Person('Adarsh','Jadon',19)\n",
        "p2=Person('Krishna','Jadon',10)\n",
        "p3=Person.from_string('Romeo,Nene,18')\n",
        "print(p3.full_name())"
      ],
      "execution_count": null,
      "outputs": [
        {
          "output_type": "stream",
          "text": [
            "Romeo Nene\n"
          ],
          "name": "stdout"
        }
      ]
    },
    {
      "cell_type": "markdown",
      "metadata": {
        "id": "RSoNoB19zUlZ",
        "colab_type": "text"
      },
      "source": [
        "**Static method:-**"
      ]
    },
    {
      "cell_type": "code",
      "metadata": {
        "id": "t2EWaLCTpBCO",
        "colab_type": "code",
        "colab": {
          "base_uri": "https://localhost:8080/",
          "height": 34
        },
        "outputId": "a16ce3ea-7620-4ec0-ee52-396b0198a52a"
      },
      "source": [
        "class Person:\n",
        "  count_instance=0\n",
        "  def __init__(self,first_name,last_name,age):\n",
        "    Person.count_instance+=1\n",
        "    self.first_name=first_name\n",
        "    self.last_name=last_name\n",
        "    self.age=age\n",
        "  @classmethod\n",
        "  def from_string(cls,string):\n",
        "    first,last,age=string.split(',')\n",
        "    return cls(first,last,age)\n",
        "  @classmethod\n",
        "  def count_instances(cls):\n",
        "    return f'You have created {cls.count_instance} instances of {cls.__name__} class'\n",
        "  @staticmethod\n",
        "  def hello():\n",
        "    print('hello,static method called')\n",
        "  def full_name(self):\n",
        "    return f'{self.first_name} {self.last_name}'\n",
        "  def is_above_18(self):\n",
        "    return self.age>18\n",
        "p1=Person('Adarsh','Jadon',19)\n",
        "p2=Person.from_string('Romeo,Nene,18')\n",
        "Person.hello()"
      ],
      "execution_count": null,
      "outputs": [
        {
          "output_type": "stream",
          "text": [
            "hello,static method called\n"
          ],
          "name": "stdout"
        }
      ]
    },
    {
      "cell_type": "markdown",
      "metadata": {
        "id": "b5hzEPKlzaml",
        "colab_type": "text"
      },
      "source": [
        "**Encapsulation, Abstraction, Naming, Conventions, Name Mangling:-**"
      ]
    },
    {
      "cell_type": "code",
      "metadata": {
        "id": "NVKXDEj2qPbh",
        "colab_type": "code",
        "colab": {
          "base_uri": "https://localhost:8080/",
          "height": 34
        },
        "outputId": "e4cab0ae-4980-40f6-e2ec-1331dcb09d49"
      },
      "source": [
        "class Phone:\n",
        "  def __init__(self,brand,model_name,price):\n",
        "    self.brand=brand\n",
        "    self.model_name=model_name\n",
        "    self.__price=price\n",
        "  def make_a_call(self,phone_number):\n",
        "    print(f'calling {phone_number}....')\n",
        "  def full_name(self):\n",
        "    return f'{self.brand} {self.model_name}'\n",
        "  def send_message(self):\n",
        "    pass #twilio\n",
        "phone1=Phone('nokia','1100',1000)\n",
        "print(phone1.__dict__)"
      ],
      "execution_count": null,
      "outputs": [
        {
          "output_type": "stream",
          "text": [
            "{'brand': 'nokia', 'model_name': '1100', '_Phone__price': 1000}\n"
          ],
          "name": "stdout"
        }
      ]
    },
    {
      "cell_type": "markdown",
      "metadata": {
        "id": "X_tV1L-vzl2B",
        "colab_type": "text"
      },
      "source": [
        "**Property, setter decorator:-**"
      ]
    },
    {
      "cell_type": "code",
      "metadata": {
        "id": "UU2aq6MVrhRe",
        "colab_type": "code",
        "colab": {
          "base_uri": "https://localhost:8080/",
          "height": 50
        },
        "outputId": "481550af-4e76-4ffe-a1d6-9ea499279986"
      },
      "source": [
        "class Phone:\n",
        "  def __init__(self,brand,model_name,price):\n",
        "    self.brand=brand\n",
        "    self.model_name=model_name\n",
        "    self._price=max(price,0)\n",
        "  @property\n",
        "  def complete_specification(self):\n",
        "    return f'{self.brand} {self.model_name} and price is {self._price}'\n",
        "  @property\n",
        "  def price(self):\n",
        "        return self._price\n",
        "  @price.setter\n",
        "  def price(self,new_price):\n",
        "        self._price=max(new_price,0)        \n",
        "  def make_a_call(self,phone_number):\n",
        "    print(f'calling {phone_number}....')\n",
        "  def full_name(self):\n",
        "    return f'{self.brand} {self.model_name}'\n",
        "  def send_message(self):\n",
        "    pass #twilio\n",
        "phone1=Phone('nokia','1100',1000)\n",
        "phone1.price=-500\n",
        "print(phone1._price)\n",
        "print(phone1.complete_specification)"
      ],
      "execution_count": null,
      "outputs": [
        {
          "output_type": "stream",
          "text": [
            "0\n",
            "nokia 1100 and price is 0\n"
          ],
          "name": "stdout"
        }
      ]
    },
    {
      "cell_type": "markdown",
      "metadata": {
        "id": "ZC-qBhLwztFI",
        "colab_type": "text"
      },
      "source": [
        "**Inheritance:-**"
      ]
    },
    {
      "cell_type": "code",
      "metadata": {
        "id": "L5B9QvP7u0_9",
        "colab_type": "code",
        "colab": {
          "base_uri": "https://localhost:8080/",
          "height": 50
        },
        "outputId": "63451a00-15c6-49d1-8303-a492ec1f2ee5"
      },
      "source": [
        "class Phone:\n",
        "  def __init__(self,brand,model_name,price):\n",
        "    self.brand=brand\n",
        "    self.model_name=model_name\n",
        "    self._price=max(price,0)\n",
        "  def full_name(self):\n",
        "    return f'{self.brand} {self.model_name}'\n",
        "  def make_a_call(self,number):\n",
        "    return f'calling {number}...'\n",
        "class Smartphone(Phone):\n",
        "  def __init__(self,brand,model_name,price,ram,internal_memory,rear_camera):\n",
        "    Phone.__init__(self,brand,model_name,price)\n",
        "    self.ram=ram\n",
        "    self.internal_memory=internal_memory\n",
        "    self.rear_camera=rear_camera\n",
        "phone=Phone('nokia','1100',1000)\n",
        "smartphone=Smartphone('oneplus','5',30000,'6 GB','64GB','20MP')\n",
        "print(phone.full_name())\n",
        "print(smartphone.full_name() + f'and price is {smartphone._price}')"
      ],
      "execution_count": null,
      "outputs": [
        {
          "output_type": "stream",
          "text": [
            "nokia 1100\n",
            "oneplus 5and price is 30000\n"
          ],
          "name": "stdout"
        }
      ]
    },
    {
      "cell_type": "markdown",
      "metadata": {
        "id": "e7IAaI3Oz0fZ",
        "colab_type": "text"
      },
      "source": [
        "**Multilevel inheritance:-**"
      ]
    },
    {
      "cell_type": "code",
      "metadata": {
        "id": "j3RYko7w8Eyo",
        "colab_type": "code",
        "colab": {
          "base_uri": "https://localhost:8080/",
          "height": 34
        },
        "outputId": "bebd6414-0b03-44e2-a1b3-523f3aa9b34e"
      },
      "source": [
        "class Phone:\n",
        "  def __init__(self,brand,model_name,price):\n",
        "    self.brand=brand\n",
        "    self.model_name=model_name\n",
        "    self._price=max(price,0)\n",
        "  def full_name(self):\n",
        "    return f'{self.brand} {self.model_name}'\n",
        "  def make_a_call(self,number):\n",
        "    return f'calling {number}...'\n",
        "class Smartphone(Phone):\n",
        "  def __init__(self,brand,model_name,price,ram,internal_memory,rear_camera):\n",
        "    Phone.__init__(self,brand,model_name,price)\n",
        "    self.ram=ram\n",
        "    self.internal_memory=internal_memory\n",
        "    self.rear_camera=rear_camera\n",
        "class FlagshipPhone(Smartphone):\n",
        "  def __init__(self,brand,model_name,price,ram,internal_memory,rear_camera,front_camera):\n",
        "    super().__init__(brand,model_name,price,ram,internal_memory,rear_camera)\n",
        "    self.front_camera=front_camera\n",
        "smartphone=Smartphone('oneplus','5',30000,'6 GB','64GB','20MP')\n",
        "oneplus=FlagshipPhone('oneplus','5',30000,'6 GB','64GB','20MP','16MP')\n",
        "print(oneplus.full_name())"
      ],
      "execution_count": null,
      "outputs": [
        {
          "output_type": "stream",
          "text": [
            "oneplus 5\n"
          ],
          "name": "stdout"
        }
      ]
    },
    {
      "cell_type": "markdown",
      "metadata": {
        "id": "_EA_2cRdz9_Q",
        "colab_type": "text"
      },
      "source": [
        "**Method Overriding:-**"
      ]
    },
    {
      "cell_type": "code",
      "metadata": {
        "id": "x6LxLtCLAak_",
        "colab_type": "code",
        "colab": {
          "base_uri": "https://localhost:8080/",
          "height": 34
        },
        "outputId": "d85bab76-2e2a-4c36-d27f-9e074721381f"
      },
      "source": [
        "class Phone:\n",
        "  def __init__(self,brand,model_name,price):\n",
        "    self.brand=brand\n",
        "    self.model_name=model_name\n",
        "    self._price=max(price,0)\n",
        "  def full_name(self):\n",
        "    return f'{self.brand} {self.model_name}'\n",
        "  def make_a_call(self,number):\n",
        "    return f'calling {number}...'\n",
        "class Smartphone(Phone):\n",
        "  def __init__(self,brand,model_name,price,ram,internal_memory,rear_camera):\n",
        "    Phone.__init__(self,brand,model_name,price)\n",
        "    self.ram=ram\n",
        "    self.internal_memory=internal_memory\n",
        "    self.rear_camera=rear_camera\n",
        "class FlagshipPhone(Smartphone):\n",
        "  def __init__(self,brand,model_name,price,ram,internal_memory,rear_camera,front_camera):\n",
        "    super().__init__(brand,model_name,price,ram,internal_memory,rear_camera)\n",
        "    self.front_camera=front_camera\n",
        "  def full_name(self):\n",
        "    return f'{self.brand} {self.model_name} and price is {self._price} and front camera={self.front_camera}'\n",
        "smartphone=Smartphone('oneplus','5',30000,'6 GB','64GB','20MP')\n",
        "oneplus=FlagshipPhone('oneplus','5',30000,'6 GB','64GB','20MP','16MP')\n",
        "print(oneplus.full_name())"
      ],
      "execution_count": null,
      "outputs": [
        {
          "output_type": "stream",
          "text": [
            "oneplus 5 and price is 30000 and front camera=16MP\n"
          ],
          "name": "stdout"
        }
      ]
    },
    {
      "cell_type": "markdown",
      "metadata": {
        "id": "pIjBT55C0F2P",
        "colab_type": "text"
      },
      "source": [
        "**isinstance function-**It tells that whether the object is in the given class or not."
      ]
    },
    {
      "cell_type": "code",
      "metadata": {
        "id": "sOfO-BVz9Y77",
        "colab_type": "code",
        "colab": {
          "base_uri": "https://localhost:8080/",
          "height": 34
        },
        "outputId": "dfeae59c-9221-4c8a-a3c1-46ee02a2b60f"
      },
      "source": [
        "print(isinstance(smartphone,Smartphone))"
      ],
      "execution_count": null,
      "outputs": [
        {
          "output_type": "stream",
          "text": [
            "True\n"
          ],
          "name": "stdout"
        }
      ]
    },
    {
      "cell_type": "code",
      "metadata": {
        "id": "CdGfpM2l9p6l",
        "colab_type": "code",
        "colab": {
          "base_uri": "https://localhost:8080/",
          "height": 34
        },
        "outputId": "0da50639-3909-4480-b8d1-e81d3adeffb5"
      },
      "source": [
        "print(isinstance(smartphone,Phone))"
      ],
      "execution_count": null,
      "outputs": [
        {
          "output_type": "stream",
          "text": [
            "True\n"
          ],
          "name": "stdout"
        }
      ]
    },
    {
      "cell_type": "code",
      "metadata": {
        "id": "E2JkSCEH9vYd",
        "colab_type": "code",
        "colab": {
          "base_uri": "https://localhost:8080/",
          "height": 34
        },
        "outputId": "4cb2cdcd-d2fb-44ec-b26b-5809f06d3587"
      },
      "source": [
        "print(isinstance(smartphone,FlagshipPhone))"
      ],
      "execution_count": null,
      "outputs": [
        {
          "output_type": "stream",
          "text": [
            "False\n"
          ],
          "name": "stdout"
        }
      ]
    },
    {
      "cell_type": "markdown",
      "metadata": {
        "id": "ZU8cJFWi0SZr",
        "colab_type": "text"
      },
      "source": [
        "**issubclass() function-**It checks out that a class is nheriting another class or not."
      ]
    },
    {
      "cell_type": "code",
      "metadata": {
        "id": "euSvySO793_O",
        "colab_type": "code",
        "colab": {
          "base_uri": "https://localhost:8080/",
          "height": 34
        },
        "outputId": "58229985-165e-4934-aef4-9aec049cb280"
      },
      "source": [
        "print(issubclass(Smartphone,Phone))"
      ],
      "execution_count": null,
      "outputs": [
        {
          "output_type": "stream",
          "text": [
            "True\n"
          ],
          "name": "stdout"
        }
      ]
    },
    {
      "cell_type": "code",
      "metadata": {
        "id": "JPMLeDNe-AiP",
        "colab_type": "code",
        "colab": {
          "base_uri": "https://localhost:8080/",
          "height": 34
        },
        "outputId": "11d49d9d-e032-429b-fd75-6ad4256b4248"
      },
      "source": [
        "print(issubclass(Smartphone,FlagshipPhone))"
      ],
      "execution_count": null,
      "outputs": [
        {
          "output_type": "stream",
          "text": [
            "False\n"
          ],
          "name": "stdout"
        }
      ]
    },
    {
      "cell_type": "code",
      "metadata": {
        "id": "fK4JnHcZ-H0-",
        "colab_type": "code",
        "colab": {
          "base_uri": "https://localhost:8080/",
          "height": 50
        },
        "outputId": "42770bf6-5f30-4414-d24b-0f844c61499d"
      },
      "source": [
        "class A:\n",
        "  def class_a_method(self):\n",
        "    return 'I\\'m just class A method'\n",
        "  def hello(self):\n",
        "    return 'hello from class A'\n",
        "class B:\n",
        "  def class_b_method(self):\n",
        "    return 'I\\'m just class A method'\n",
        "  def hello(self):\n",
        "    return 'hello from class B'\n",
        "class C(A,B):\n",
        "  pass\n",
        "instance_c=C()\n",
        "print(instance_c.class_a_method())\n",
        "print(instance_c.class_b_method())"
      ],
      "execution_count": null,
      "outputs": [
        {
          "output_type": "stream",
          "text": [
            "I'm just class A method\n",
            "I'm just class A method\n"
          ],
          "name": "stdout"
        }
      ]
    },
    {
      "cell_type": "code",
      "metadata": {
        "id": "3PRStgf2_598",
        "colab_type": "code",
        "colab": {
          "base_uri": "https://localhost:8080/",
          "height": 34
        },
        "outputId": "126026c7-5dbf-4367-b37f-cd83e496decd"
      },
      "source": [
        "print(instance_c.hello())"
      ],
      "execution_count": null,
      "outputs": [
        {
          "output_type": "stream",
          "text": [
            "hello from class A\n"
          ],
          "name": "stdout"
        }
      ]
    },
    {
      "cell_type": "code",
      "metadata": {
        "id": "YKQGonUSACqh",
        "colab_type": "code",
        "colab": {
          "base_uri": "https://localhost:8080/",
          "height": 34
        },
        "outputId": "7cbf0819-6288-4aee-dcd5-c36260b2465f"
      },
      "source": [
        "class C(B,A):\n",
        "  pass\n",
        "instance_c=C()\n",
        "print(instance_c.hello())"
      ],
      "execution_count": null,
      "outputs": [
        {
          "output_type": "stream",
          "text": [
            "hello from class B\n"
          ],
          "name": "stdout"
        }
      ]
    },
    {
      "cell_type": "markdown",
      "metadata": {
        "id": "TIdrQ4S70koV",
        "colab_type": "text"
      },
      "source": [
        "**Dunder methods:-**"
      ]
    },
    {
      "cell_type": "code",
      "metadata": {
        "id": "AX4LPEgrASTp",
        "colab_type": "code",
        "colab": {
          "base_uri": "https://localhost:8080/",
          "height": 67
        },
        "outputId": "0956a18f-1c49-4e25-fd3d-2bf7b9bb5708"
      },
      "source": [
        "class Phone:\n",
        "  def __init__(self,brand,model,price):\n",
        "    self.brand=brand\n",
        "    self.model=model\n",
        "    self.price=price\n",
        "  def phone_name(self):\n",
        "    return f'{self.brand} {self.model}'\n",
        "  def __str__(self):\n",
        "    return f'{self.brand} {self.model} and price is {self.price}'\n",
        "  def __repr__(self):\n",
        "    return f'phone (\\'{self.brand}\\',\\'{self.model}\\',{self.price})'\n",
        "my_phone=Phone('nokia','1100',1000)\n",
        "print(str(my_phone))\n",
        "print(my_phone.__repr__())"
      ],
      "execution_count": null,
      "outputs": [
        {
          "output_type": "stream",
          "text": [
            "nokia 1100 and price is 1000\n",
            "phone ('nokia','1100',1000)\n",
            "10\n"
          ],
          "name": "stdout"
        }
      ]
    },
    {
      "cell_type": "code",
      "metadata": {
        "id": "sJOjTLzICMJh",
        "colab_type": "code",
        "colab": {
          "base_uri": "https://localhost:8080/",
          "height": 34
        },
        "outputId": "617cb2fa-b4be-4acd-b5ed-4dfc46b54ab2"
      },
      "source": [
        "class Phone:\n",
        "  def __init__(self,brand,model,price):\n",
        "    self.brand=brand\n",
        "    self.model=model\n",
        "    self.price=price\n",
        "  def phone_name(self):\n",
        "    return f'{self.brand} {self.model}'\n",
        "  def __len__(self):\n",
        "    return len(self.phone_name())\n",
        "my_phone=Phone('nokia','1100',1000)\n",
        "print(len(my_phone))"
      ],
      "execution_count": 14,
      "outputs": [
        {
          "output_type": "stream",
          "text": [
            "10\n"
          ],
          "name": "stdout"
        }
      ]
    },
    {
      "cell_type": "markdown",
      "metadata": {
        "id": "mcz5a-z015ce",
        "colab_type": "text"
      },
      "source": [
        "**Operator overloading:-**"
      ]
    },
    {
      "cell_type": "code",
      "metadata": {
        "id": "Waccc4DC1EoX",
        "colab_type": "code",
        "colab": {
          "base_uri": "https://localhost:8080/",
          "height": 34
        },
        "outputId": "67df78c6-6462-4215-a6d9-c98127ba1296"
      },
      "source": [
        "class Phone:\n",
        "  def __init__(self,brand,model,price):\n",
        "    self.brand=brand\n",
        "    self.model=model\n",
        "    self.price=price\n",
        "  def phone_name(self):\n",
        "    return f'{self.brand} {self.model}'\n",
        "  def __len__(self):\n",
        "    return len(self.phone_name())\n",
        "  def __add__(self,other):\n",
        "    return self.price + other.price\n",
        "my_phone=Phone('nokia','1100',1000)\n",
        "my_phone2=Phone('nokia','1600',1200)\n",
        "print(my_phone + my_phone2)"
      ],
      "execution_count": 19,
      "outputs": [
        {
          "output_type": "stream",
          "text": [
            "2200\n"
          ],
          "name": "stdout"
        }
      ]
    },
    {
      "cell_type": "code",
      "metadata": {
        "id": "8p_NXk47Dlw_",
        "colab_type": "code",
        "colab": {
          "base_uri": "https://localhost:8080/",
          "height": 34
        },
        "outputId": "418a7c65-8d19-44aa-945f-d4b3060db52a"
      },
      "source": [
        "class Phone:\n",
        "  def __init__(self,brand,model,price):\n",
        "    self.brand=brand\n",
        "    self.model=model\n",
        "    self.price=price\n",
        "  def phone_name(self):\n",
        "    return f'{self.brand} {self.model}'\n",
        "  def __add__(self,other):\n",
        "    return self.price + other.price\n",
        "my_phone=Phone('nokia','1100',1000)\n",
        "my_phone2=Phone('nokia','1600',1200)\n",
        "print(my_phone + my_phone2)"
      ],
      "execution_count": null,
      "outputs": [
        {
          "output_type": "stream",
          "text": [
            "2200\n"
          ],
          "name": "stdout"
        }
      ]
    },
    {
      "cell_type": "markdown",
      "metadata": {
        "id": "08ZGn5l93vDV",
        "colab_type": "text"
      },
      "source": [
        "**Polymorphism-**A thing having many forms."
      ]
    },
    {
      "cell_type": "code",
      "metadata": {
        "id": "us6hi2uiFSLJ",
        "colab_type": "code",
        "colab": {
          "base_uri": "https://localhost:8080/",
          "height": 34
        },
        "outputId": "4f05b1d9-613e-48ff-c399-74231966a13e"
      },
      "source": [
        "2+3"
      ],
      "execution_count": null,
      "outputs": [
        {
          "output_type": "execute_result",
          "data": {
            "text/plain": [
              "5"
            ]
          },
          "metadata": {
            "tags": []
          },
          "execution_count": 19
        }
      ]
    },
    {
      "cell_type": "code",
      "metadata": {
        "id": "eRsGD-exFW2b",
        "colab_type": "code",
        "colab": {
          "base_uri": "https://localhost:8080/",
          "height": 35
        },
        "outputId": "ddf9f5f8-6727-4fba-acce-87f11dcd3cac"
      },
      "source": [
        "'abc' + 'def'"
      ],
      "execution_count": null,
      "outputs": [
        {
          "output_type": "execute_result",
          "data": {
            "application/vnd.google.colaboratory.intrinsic+json": {
              "type": "string"
            },
            "text/plain": [
              "'abcdef'"
            ]
          },
          "metadata": {
            "tags": []
          },
          "execution_count": 20
        }
      ]
    },
    {
      "cell_type": "markdown",
      "metadata": {
        "id": "cslEt98138PX",
        "colab_type": "text"
      },
      "source": [
        "#**Chapter - 17**"
      ]
    },
    {
      "cell_type": "markdown",
      "metadata": {
        "id": "wOsM_7p84Bbj",
        "colab_type": "text"
      },
      "source": [
        "**Built-in errors-**\n",
        "\n",
        "*   Syntax error\n",
        "*   Indentation error\n",
        "\n",
        "*   Name error\n",
        "*   Type error\n",
        "\n",
        "*   Index error\n",
        "*   Value error\n",
        "\n",
        "*   Attribute error\n",
        "*   Key error\n",
        "\n",
        "\n",
        "\n",
        "\n",
        "\n",
        "\n",
        "\n"
      ]
    },
    {
      "cell_type": "markdown",
      "metadata": {
        "id": "jFdA9I874fOi",
        "colab_type": "text"
      },
      "source": [
        "**Raise errors:-**"
      ]
    },
    {
      "cell_type": "code",
      "metadata": {
        "id": "cR7mZ7qxFbaF",
        "colab_type": "code",
        "colab": {
          "base_uri": "https://localhost:8080/",
          "height": 34
        },
        "outputId": "199e78c6-fe68-4748-d56c-1beab431ddf4"
      },
      "source": [
        "def add(a,b):\n",
        "  if (type(a) is int) and (type(b) is int):\n",
        "    return a+b\n",
        "  return 'OOPs you are passing wrong data type to function'\n",
        "print(add('2','3'))"
      ],
      "execution_count": null,
      "outputs": [
        {
          "output_type": "stream",
          "text": [
            "OOPs you are passing wrong data type to function\n"
          ],
          "name": "stdout"
        }
      ]
    },
    {
      "cell_type": "code",
      "metadata": {
        "id": "Z_YRB0HNSnaI",
        "colab_type": "code",
        "colab": {
          "base_uri": "https://localhost:8080/",
          "height": 296
        },
        "outputId": "ef6a4a3f-3be0-47b5-df94-d68d3e767cc9"
      },
      "source": [
        "def add(a,b):\n",
        "  if (type(a) is int) and (type(b) is int):\n",
        "    return a+b\n",
        "  raise TypeError('OOPs you are passing wrong data type to function')\n",
        "print(add('2','3'))"
      ],
      "execution_count": null,
      "outputs": [
        {
          "output_type": "error",
          "ename": "TypeError",
          "evalue": "ignored",
          "traceback": [
            "\u001b[0;31m---------------------------------------------------------------------------\u001b[0m",
            "\u001b[0;31mTypeError\u001b[0m                                 Traceback (most recent call last)",
            "\u001b[0;32m<ipython-input-4-ac397d97d1bd>\u001b[0m in \u001b[0;36m<module>\u001b[0;34m()\u001b[0m\n\u001b[1;32m      3\u001b[0m     \u001b[0;32mreturn\u001b[0m \u001b[0ma\u001b[0m\u001b[0;34m+\u001b[0m\u001b[0mb\u001b[0m\u001b[0;34m\u001b[0m\u001b[0;34m\u001b[0m\u001b[0m\n\u001b[1;32m      4\u001b[0m   \u001b[0;32mraise\u001b[0m \u001b[0mTypeError\u001b[0m\u001b[0;34m(\u001b[0m\u001b[0;34m'OOPs you are passing wrong data type to function'\u001b[0m\u001b[0;34m)\u001b[0m\u001b[0;34m\u001b[0m\u001b[0;34m\u001b[0m\u001b[0m\n\u001b[0;32m----> 5\u001b[0;31m \u001b[0mprint\u001b[0m\u001b[0;34m(\u001b[0m\u001b[0madd\u001b[0m\u001b[0;34m(\u001b[0m\u001b[0;34m'2'\u001b[0m\u001b[0;34m,\u001b[0m\u001b[0;34m'3'\u001b[0m\u001b[0;34m)\u001b[0m\u001b[0;34m)\u001b[0m\u001b[0;34m\u001b[0m\u001b[0;34m\u001b[0m\u001b[0m\n\u001b[0m",
            "\u001b[0;32m<ipython-input-4-ac397d97d1bd>\u001b[0m in \u001b[0;36madd\u001b[0;34m(a, b)\u001b[0m\n\u001b[1;32m      2\u001b[0m   \u001b[0;32mif\u001b[0m \u001b[0;34m(\u001b[0m\u001b[0mtype\u001b[0m\u001b[0;34m(\u001b[0m\u001b[0ma\u001b[0m\u001b[0;34m)\u001b[0m \u001b[0;32mis\u001b[0m \u001b[0mint\u001b[0m\u001b[0;34m)\u001b[0m \u001b[0;32mand\u001b[0m \u001b[0;34m(\u001b[0m\u001b[0mtype\u001b[0m\u001b[0;34m(\u001b[0m\u001b[0mb\u001b[0m\u001b[0;34m)\u001b[0m \u001b[0;32mis\u001b[0m \u001b[0mint\u001b[0m\u001b[0;34m)\u001b[0m\u001b[0;34m:\u001b[0m\u001b[0;34m\u001b[0m\u001b[0;34m\u001b[0m\u001b[0m\n\u001b[1;32m      3\u001b[0m     \u001b[0;32mreturn\u001b[0m \u001b[0ma\u001b[0m\u001b[0;34m+\u001b[0m\u001b[0mb\u001b[0m\u001b[0;34m\u001b[0m\u001b[0;34m\u001b[0m\u001b[0m\n\u001b[0;32m----> 4\u001b[0;31m   \u001b[0;32mraise\u001b[0m \u001b[0mTypeError\u001b[0m\u001b[0;34m(\u001b[0m\u001b[0;34m'OOPs you are passing wrong data type to function'\u001b[0m\u001b[0;34m)\u001b[0m\u001b[0;34m\u001b[0m\u001b[0;34m\u001b[0m\u001b[0m\n\u001b[0m\u001b[1;32m      5\u001b[0m \u001b[0mprint\u001b[0m\u001b[0;34m(\u001b[0m\u001b[0madd\u001b[0m\u001b[0;34m(\u001b[0m\u001b[0;34m'2'\u001b[0m\u001b[0;34m,\u001b[0m\u001b[0;34m'3'\u001b[0m\u001b[0;34m)\u001b[0m\u001b[0;34m)\u001b[0m\u001b[0;34m\u001b[0m\u001b[0;34m\u001b[0m\u001b[0m\n",
            "\u001b[0;31mTypeError\u001b[0m: OOPs you are passing wrong data type to function"
          ]
        }
      ]
    },
    {
      "cell_type": "code",
      "metadata": {
        "id": "EoZeLovjTI-l",
        "colab_type": "code",
        "colab": {
          "base_uri": "https://localhost:8080/",
          "height": 34
        },
        "outputId": "db20cc2f-455d-4535-dba7-41a945960425"
      },
      "source": [
        "class Animal:\n",
        "  def __init__(self,name):\n",
        "    self.name=name\n",
        "  def sound(self):\n",
        "    raise NotImplementedError('You have to define this method in subclasses')\n",
        "class Dog(Animal):\n",
        "  def __init__(self,name,breed):\n",
        "    super().__init__(name)\n",
        "    self.breed=breed\n",
        "  def sound(self):\n",
        "    return 'bhow bhow'\n",
        "class Cat(Animal):\n",
        "  def __init__(self,name,breed):\n",
        "    super().__init__(name)\n",
        "    self.breed=breed\n",
        "  def sound(self):\n",
        "    return 'meao meao'\n",
        "doggy=Dog('boony','pug')\n",
        "print(doggy.sound())"
      ],
      "execution_count": null,
      "outputs": [
        {
          "output_type": "stream",
          "text": [
            "bhow bhow\n"
          ],
          "name": "stdout"
        }
      ]
    },
    {
      "cell_type": "code",
      "metadata": {
        "id": "DGlWeuhuVHuH",
        "colab_type": "code",
        "colab": {
          "base_uri": "https://localhost:8080/",
          "height": 34
        },
        "outputId": "0e2c2ab6-f8e8-4a14-b007-d684966c430c"
      },
      "source": [
        "class Mobile:\n",
        "  def __init__(self,name):\n",
        "    self.name=name\n",
        "class MobileStore:\n",
        "  def __init__(self):\n",
        "    self.mobiles=[]\n",
        "  def add_mobile(self,new_mobile):\n",
        "    if isinstance(new_mobile,Mobile):\n",
        "      self.mobiles.append(new_mobile)\n",
        "    else:\n",
        "      raise TypeError('new mobile should be object of Mobile class')\n",
        "oneplus=Mobile('oneplus 6')\n",
        "samsung='samsung galaxy s8'\n",
        "mobostore=MobileStore()\n",
        "mobostore.add_mobile(oneplus)\n",
        "mobo_phones=mobostore.mobiles\n",
        "print(mobo_phones[0].name)"
      ],
      "execution_count": null,
      "outputs": [
        {
          "output_type": "stream",
          "text": [
            "oneplus 6\n"
          ],
          "name": "stdout"
        }
      ]
    },
    {
      "cell_type": "markdown",
      "metadata": {
        "id": "qmHlqhmF4mY_",
        "colab_type": "text"
      },
      "source": [
        "**Exception Handling:-**"
      ]
    },
    {
      "cell_type": "code",
      "metadata": {
        "id": "kx3CRxDHdwgU",
        "colab_type": "code",
        "colab": {}
      },
      "source": [
        "while True:\n",
        "  try:\n",
        "    age=int(input('enter your age: '))\n",
        "    break\n",
        "  except ValueError:\n",
        "    print('invalid input')\n",
        "  except:\n",
        "    print('unexpected error')\n",
        "  if age<18:\n",
        "    print('You can\\'t play this game')\n",
        "  else:\n",
        "    print('You can play this game')"
      ],
      "execution_count": null,
      "outputs": []
    },
    {
      "cell_type": "code",
      "metadata": {
        "id": "9viBqGy8bM0c",
        "colab_type": "code",
        "colab": {
          "base_uri": "https://localhost:8080/",
          "height": 118
        },
        "outputId": "b61d9b25-b859-43fb-98d8-f91c08e38c5e"
      },
      "source": [
        "while True:\n",
        "  try:\n",
        "    number=int(input('enter a number'))\n",
        "  except ValueError:\n",
        "    print('invalid input')\n",
        "  except:\n",
        "    print('unexcepted error')\n",
        "  else:\n",
        "    print(f'user input={number}')\n",
        "    break\n",
        "  finally:\n",
        "    print('finally blocks')"
      ],
      "execution_count": null,
      "outputs": [
        {
          "output_type": "stream",
          "text": [
            "enter a numbereighteen\n",
            "invalid input\n",
            "finally blocks\n",
            "enter a number18\n",
            "user input=18\n",
            "finally blocks\n"
          ],
          "name": "stdout"
        }
      ]
    },
    {
      "cell_type": "markdown",
      "metadata": {
        "id": "wxBm4yHU40Vo",
        "colab_type": "text"
      },
      "source": [
        "**custom exception-**It is us3ed to increase the readibility of code."
      ]
    },
    {
      "cell_type": "code",
      "metadata": {
        "id": "COl-p_et0wOm",
        "colab_type": "code",
        "colab": {
          "base_uri": "https://localhost:8080/",
          "height": 50
        },
        "outputId": "b444df11-6db9-471b-8b5c-c4ada11e0841"
      },
      "source": [
        "class NameTooShortError(ValueError):\n",
        "  pass\n",
        "def validate(name):\n",
        "  if len(name)<8:\n",
        "    raise NameTooShortError('name is too short')\n",
        "username=input('enter your name')\n",
        "validate(username)\n",
        "print(f'hello {username}')"
      ],
      "execution_count": null,
      "outputs": [
        {
          "output_type": "stream",
          "text": [
            "enter your nameadarsh jadon\n",
            "hello adarsh jadon\n"
          ],
          "name": "stdout"
        }
      ]
    },
    {
      "cell_type": "markdown",
      "metadata": {
        "id": "r1s9WE3g5PeF",
        "colab_type": "text"
      },
      "source": [
        "**Debugging-**Debugging is the process of finding and resolving defects or problems within a computer program that prevent correct operation of computer software or a system."
      ]
    },
    {
      "cell_type": "markdown",
      "metadata": {
        "id": "vHNCZXxJ5rhi",
        "colab_type": "text"
      },
      "source": [
        "**For importing python debugger, we use-**                                                                                                                                                                                      \n",
        "import pdb                                   \n",
        "**l-**command for which line of code has paused             \n",
        "**n-**command to continue the code              \n",
        "**q-**command to quit the program                \n",
        "**c-**command to run the code continously"
      ]
    },
    {
      "cell_type": "code",
      "metadata": {
        "id": "q9cub0l009Lj",
        "colab_type": "code",
        "colab": {
          "base_uri": "https://localhost:8080/",
          "height": 86
        },
        "outputId": "f316eac5-0da6-4fe3-bb7e-8448486c6d0d"
      },
      "source": [
        "import pdb\n",
        "pdb.set_trace()\n",
        "name=input('enter your name:')\n",
        "age=input('enter your age:')\n",
        "print(f'hello {name} and your age is {age}')\n",
        "age2=age+5\n",
        "print(f'{name} you will be {age2} in next five years')"
      ],
      "execution_count": null,
      "outputs": [
        {
          "output_type": "stream",
          "text": [
            "--Return--\n",
            "> <ipython-input-13-a0fb4a47ddb0>(2)<module>()->None\n",
            "-> pdb.set_trace()\n"
          ],
          "name": "stdout"
        }
      ]
    }
  ]
}